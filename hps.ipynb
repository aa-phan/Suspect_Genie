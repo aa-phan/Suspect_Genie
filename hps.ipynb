{
 "cells": [
  {
   "cell_type": "code",
   "execution_count": 1,
   "id": "653d66cb-dfd6-4731-a358-844aeb55e802",
   "metadata": {},
   "outputs": [],
   "source": [
    "import tensorflow as tf\n",
    "from tensorflow import keras\n",
    "\n",
    "import os\n",
    "import tempfile\n",
    "\n",
    "import matplotlib as mpl\n",
    "import matplotlib.pyplot as plt\n",
    "import numpy as np\n",
    "import pandas as pd\n",
    "import seaborn as sns\n",
    "\n",
    "import sklearn\n",
    "from sklearn.metrics import confusion_matrix\n",
    "from sklearn.model_selection import train_test_split\n",
    "from sklearn.preprocessing import StandardScaler\n",
    "import io\n",
    "import requests\n",
    "from sklearn import metrics\n",
    "from sklearn.utils import resample\n",
    "from tensorflow.keras import regularizers"
   ]
  },
  {
   "cell_type": "code",
   "execution_count": 2,
   "id": "e195621c-b580-415a-91cb-e0d798cea2f0",
   "metadata": {},
   "outputs": [],
   "source": [
    "mpl.rcParams['figure.figsize'] = (12,10)\n",
    "colors = plt.rcParams['axes.prop_cycle'].by_key()['color']"
   ]
  },
  {
   "cell_type": "code",
   "execution_count": 3,
   "id": "b4456232-5875-4188-81d9-09cc76f391f8",
   "metadata": {},
   "outputs": [
    {
     "name": "stderr",
     "output_type": "stream",
     "text": [
      "C:\\Users\\aphan\\AppData\\Local\\Temp\\ipykernel_15932\\1574996104.py:2: DtypeWarning: Columns (28,38) have mixed types. Specify dtype option on import or set low_memory=False.\n",
      "  non_suspect_df = pd.read_csv(\"RYM_LAST3M_NON_SUSPECTS.csv\")\n",
      "C:\\Users\\aphan\\AppData\\Local\\Temp\\ipykernel_15932\\1574996104.py:3: DtypeWarning: Columns (38) have mixed types. Specify dtype option on import or set low_memory=False.\n",
      "  suspect_df = pd.read_csv(\"RYM_ALL_SUSPECTS.csv\")\n"
     ]
    }
   ],
   "source": [
    "file = tf.keras.utils\n",
    "non_suspect_df = pd.read_csv(\"RYM_LAST3M_NON_SUSPECTS.csv\")\n",
    "suspect_df = pd.read_csv(\"RYM_ALL_SUSPECTS.csv\")\n",
    "n_minority = int(len(non_suspect_df)*1)\n",
    "suspect_df = resample(\n",
    "    suspect_df, replace=True, n_samples = n_minority, random_state=42\n",
    ")"
   ]
  },
  {
   "cell_type": "code",
   "execution_count": 4,
   "id": "6e7f6cff-2d5b-4d47-8fad-ffadb1f1c763",
   "metadata": {},
   "outputs": [],
   "source": [
    "#suspect_test_df = pd.read_csv(\"suspects list.csv\")\n",
    "non_suspect_df['Carton Weight'] = pd.to_numeric(non_suspect_df['Carton Weight'], errors = 'coerce')\n",
    "suspect_df['Carton Weight'] = pd.to_numeric(suspect_df['Carton Weight'], errors='coerce')\n",
    "non_suspect_df = non_suspect_df.dropna(subset=['Carton Weight'])\n",
    "suspect_df = suspect_df.dropna(subset=['Carton Weight'])"
   ]
  },
  {
   "cell_type": "code",
   "execution_count": 5,
   "id": "7b1d3ad1-0c0e-4c8b-9f5e-21d8f8f23136",
   "metadata": {},
   "outputs": [
    {
     "data": {
      "text/html": [
       "<div>\n",
       "<style scoped>\n",
       "    .dataframe tbody tr th:only-of-type {\n",
       "        vertical-align: middle;\n",
       "    }\n",
       "\n",
       "    .dataframe tbody tr th {\n",
       "        vertical-align: top;\n",
       "    }\n",
       "\n",
       "    .dataframe thead th {\n",
       "        text-align: right;\n",
       "    }\n",
       "</style>\n",
       "<table border=\"1\" class=\"dataframe\">\n",
       "  <thead>\n",
       "    <tr style=\"text-align: right;\">\n",
       "      <th></th>\n",
       "      <th>Shelf</th>\n",
       "      <th>Carton Length</th>\n",
       "      <th>Carton Width</th>\n",
       "      <th>Carton Height</th>\n",
       "      <th>Carton Weight</th>\n",
       "      <th>suspect_flag</th>\n",
       "    </tr>\n",
       "  </thead>\n",
       "  <tbody>\n",
       "    <tr>\n",
       "      <th>0</th>\n",
       "      <td>1</td>\n",
       "      <td>367</td>\n",
       "      <td>300</td>\n",
       "      <td>254</td>\n",
       "      <td>14805</td>\n",
       "      <td>0</td>\n",
       "    </tr>\n",
       "    <tr>\n",
       "      <th>1</th>\n",
       "      <td>1</td>\n",
       "      <td>367</td>\n",
       "      <td>300</td>\n",
       "      <td>254</td>\n",
       "      <td>14805</td>\n",
       "      <td>0</td>\n",
       "    </tr>\n",
       "    <tr>\n",
       "      <th>2</th>\n",
       "      <td>1</td>\n",
       "      <td>364</td>\n",
       "      <td>304</td>\n",
       "      <td>255</td>\n",
       "      <td>14806</td>\n",
       "      <td>0</td>\n",
       "    </tr>\n",
       "    <tr>\n",
       "      <th>3</th>\n",
       "      <td>2</td>\n",
       "      <td>365</td>\n",
       "      <td>298</td>\n",
       "      <td>255</td>\n",
       "      <td>14804</td>\n",
       "      <td>0</td>\n",
       "    </tr>\n",
       "    <tr>\n",
       "      <th>4</th>\n",
       "      <td>2</td>\n",
       "      <td>365</td>\n",
       "      <td>298</td>\n",
       "      <td>255</td>\n",
       "      <td>14804</td>\n",
       "      <td>0</td>\n",
       "    </tr>\n",
       "    <tr>\n",
       "      <th>...</th>\n",
       "      <td>...</td>\n",
       "      <td>...</td>\n",
       "      <td>...</td>\n",
       "      <td>...</td>\n",
       "      <td>...</td>\n",
       "      <td>...</td>\n",
       "    </tr>\n",
       "    <tr>\n",
       "      <th>5999995</th>\n",
       "      <td>1</td>\n",
       "      <td>257</td>\n",
       "      <td>182</td>\n",
       "      <td>236</td>\n",
       "      <td>868</td>\n",
       "      <td>1</td>\n",
       "    </tr>\n",
       "    <tr>\n",
       "      <th>5999996</th>\n",
       "      <td>1</td>\n",
       "      <td>448</td>\n",
       "      <td>277</td>\n",
       "      <td>101</td>\n",
       "      <td>1623</td>\n",
       "      <td>1</td>\n",
       "    </tr>\n",
       "    <tr>\n",
       "      <th>5999997</th>\n",
       "      <td>1</td>\n",
       "      <td>345</td>\n",
       "      <td>209</td>\n",
       "      <td>94</td>\n",
       "      <td>5477</td>\n",
       "      <td>1</td>\n",
       "    </tr>\n",
       "    <tr>\n",
       "      <th>5999998</th>\n",
       "      <td>1</td>\n",
       "      <td>343</td>\n",
       "      <td>241</td>\n",
       "      <td>91</td>\n",
       "      <td>4545</td>\n",
       "      <td>1</td>\n",
       "    </tr>\n",
       "    <tr>\n",
       "      <th>5999999</th>\n",
       "      <td>1</td>\n",
       "      <td>175</td>\n",
       "      <td>137</td>\n",
       "      <td>169</td>\n",
       "      <td>1799</td>\n",
       "      <td>1</td>\n",
       "    </tr>\n",
       "  </tbody>\n",
       "</table>\n",
       "<p>6000000 rows × 6 columns</p>\n",
       "</div>"
      ],
      "text/plain": [
       "         Shelf  Carton Length  Carton Width  Carton Height  Carton Weight  \\\n",
       "0            1            367           300            254          14805   \n",
       "1            1            367           300            254          14805   \n",
       "2            1            364           304            255          14806   \n",
       "3            2            365           298            255          14804   \n",
       "4            2            365           298            255          14804   \n",
       "...        ...            ...           ...            ...            ...   \n",
       "5999995      1            257           182            236            868   \n",
       "5999996      1            448           277            101           1623   \n",
       "5999997      1            345           209             94           5477   \n",
       "5999998      1            343           241             91           4545   \n",
       "5999999      1            175           137            169           1799   \n",
       "\n",
       "         suspect_flag  \n",
       "0                   0  \n",
       "1                   0  \n",
       "2                   0  \n",
       "3                   0  \n",
       "4                   0  \n",
       "...               ...  \n",
       "5999995             1  \n",
       "5999996             1  \n",
       "5999997             1  \n",
       "5999998             1  \n",
       "5999999             1  \n",
       "\n",
       "[6000000 rows x 6 columns]"
      ]
     },
     "execution_count": 5,
     "metadata": {},
     "output_type": "execute_result"
    }
   ],
   "source": [
    "non_suspect_df['suspect_flag'] = 0\n",
    "suspect_df['suspect_flag'] = 1\n",
    "df = pd.concat([non_suspect_df, suspect_df], ignore_index = True)\n",
    "df = df.drop(['Suspect Reason', 'Lead Edge Orientation','SKU', 'SKU Description','CaseGroupNumber', 'Customer Carton Ref', 'Level', 'Aisle', 'AisleSide', 'Bay', 'Shelf Height', 'Seg Zone', 'Pick Label Type', 'Label Type', 'ShelfLocation OffsetY', 'ShelfLocation Width', 'Entering Warehouse Time', 'ODV', 'ODV Length', 'ODV Width', 'ODV Height', 'ODV Weight', 'SKU CreatedDate', 'Is Suspect', 'Suspect Action', 'Suspect Time', 'License Plate Number', 'On Shelf Time', 'Stored Time', 'Outer Length', 'Outer Width', 'Outer Height', 'Lead Edge Length', 'Idvid', 'IDV Length', 'IDV Width', 'IDV Height', 'IDV Weight', 'Inbound Cell', 'Bot Measured Length', 'Bot Measured Width', 'Last Bot Number', 'Last Task Plan ID', 'Report Date', 'LASTORDERDATE'], axis=1)\n",
    "df"
   ]
  },
  {
   "cell_type": "code",
   "execution_count": 6,
   "id": "03e49745-0597-4c3e-a687-abcce2750be6",
   "metadata": {},
   "outputs": [],
   "source": [
    "# Feature engineering\n",
    "#Volume\n",
    "df['Volume'] = df['Carton Length']*df['Carton Width']*df['Carton Height']\n",
    "#Weight/Volume Ratio\n",
    "df['weight_to_volume'] = df['Carton Weight']/df['Volume']\n",
    "#Dimension Ratios\n",
    "df['length_to_width'] = df['Carton Length']/df['Carton Width']\n",
    "df['length_to_height'] = df['Carton Length']/df['Carton Height']\n",
    "df['width_to_height'] = df['Carton Width']/df['Carton Height']\n",
    "\n",
    "\n",
    "df['length_squared'] = df['Carton Length']**2\n",
    "df['width_squared'] = df['Carton Width']**2\n",
    "df['height_squared'] = df['Carton Height']**2\n",
    "\n",
    "\n",
    "df['dimension_std'] = df[['Carton Length', 'Carton Width', 'Carton Height']].std(axis=1)\n",
    "\n",
    "df['base_area_to_height'] = (df['Carton Length']*df['Carton Width'])/df['Carton Height']\n",
    "\n",
    "df['log_weight'] = np.log(df['Carton Weight']+1)\n",
    "\n",
    "df['cubed_length'] = df['Carton Length']**3\n",
    "df['cubed_width'] = df['Carton Width']**3\n",
    "df['cubed_height'] = df['Carton Height']**3\n",
    "\n",
    "\n",
    "df['cube_root_volume'] = df['Volume']**(1/3)\n",
    "\n",
    "df['square_root_volume'] = df['Volume']**(1/2)\n",
    "\n",
    "df['weight*volume'] = df['Carton Weight']*df['Volume']\n",
    "\n",
    "df['weight*length'] = df['Carton Weight']*df['Carton Length']\n",
    "\n",
    "df['length/(width+height)'] = df['Carton Length'] / (df['Carton Width'] + df['Carton Height'])\n",
    "df['width/(length+height)'] = df['Carton Width'] / (df['Carton Length'] + df['Carton Height'])\n",
    "df['height/(length+width)'] = df['Carton Height'] / (df['Carton Length'] + df['Carton Width'])\n",
    "\n",
    "\n",
    "df['weight/volume'] = df['Carton Weight']/df['Volume']\n",
    "\n",
    "df['weight**2/volume'] = (df['Carton Weight']**2)/df['Volume']\n",
    "\n",
    "# Surface Area\n",
    "df['Surface_Area'] = 2 * (\n",
    "    df['Carton Length'] * df['Carton Width'] +\n",
    "    df['Carton Length'] * df['Carton Height'] +\n",
    "    df['Carton Width'] * df['Carton Height']\n",
    ")\n",
    "\n",
    "# Diagonal Length\n",
    "df['Diagonal'] = np.sqrt(\n",
    "    df['Carton Length']**2 + df['Carton Width']**2 + df['Carton Height']**2\n",
    ")\n",
    "\n",
    "# Dimension Comparison Features\n",
    "\n",
    "# Max, Min, and Range of Dimensions\n",
    "df['max_dimension'] = df[['Carton Length', 'Carton Width', 'Carton Height']].max(axis=1)\n",
    "df['min_dimension'] = df[['Carton Length', 'Carton Width', 'Carton Height']].min(axis=1)\n",
    "df['dimension_range'] = df['max_dimension'] - df['min_dimension']\n",
    "\n",
    "# Fractions of Dimensions\n",
    "df['total_dimension'] = df['Carton Length'] + df['Carton Width'] + df['Carton Height']\n",
    "df['length_fraction'] = df['Carton Length'] / df['total_dimension']\n",
    "df['width_fraction'] = df['Carton Width'] / df['total_dimension']\n",
    "df['height_fraction'] = df['Carton Height'] / df['total_dimension']\n",
    "\n",
    "\n",
    "# Composite & Interaction Features\n",
    "df['weight_times_total_dimension'] = df['Carton Weight'] * df['total_dimension']\n",
    "\n",
    "# Differences Between Dimensions\n",
    "df['diff_length_width'] = abs(df['Carton Length'] - df['Carton Width'])\n",
    "df['diff_length_height'] = abs(df['Carton Length'] - df['Carton Height'])\n",
    "df['diff_width_height'] = abs(df['Carton Width'] - df['Carton Height'])\n",
    "\n",
    "\n",
    "# Efficiency Metrics\n",
    "df['SA_to_Volume'] = df['Surface_Area'] / (df['Volume'] + 1e-8)  # add epsilon to avoid division by 0\n",
    "\n",
    "# Log transformations of composite features\n",
    "df['log_Surface_Area'] = np.log(df['Surface_Area']+1)\n",
    "\n",
    "df['log_SA_to_Volume'] = np.log(df['SA_to_Volume']+1)\n",
    "\n"
   ]
  },
  {
   "cell_type": "code",
   "execution_count": 7,
   "id": "28feff77-853d-422c-895f-f2e73d30e2f1",
   "metadata": {},
   "outputs": [
    {
     "name": "stderr",
     "output_type": "stream",
     "text": [
      "C:\\Users\\aphan\\AppData\\Local\\Temp\\ipykernel_15932\\2362248321.py:3: DtypeWarning: Columns (0,28,29,30,38) have mixed types. Specify dtype option on import or set low_memory=False.\n",
      "  test_df = pd.read_csv('test_snapshot_10M.csv')\n"
     ]
    }
   ],
   "source": [
    "# Feature engineering\n",
    "#Volume\n",
    "test_df = pd.read_csv('test_snapshot_10M.csv')\n",
    "test_df['suspect_flag'] = (test_df['Is Suspect']=='Yes').astype(int)\n",
    "\n",
    "test_df['Volume'] = test_df['Carton Length']*test_df['Carton Width']*test_df['Carton Height']\n",
    "#Weight/Volume Ratio\n",
    "test_df['weight_to_volume'] = test_df['Carton Weight']/test_df['Volume']\n",
    "#Dimension Ratios\n",
    "test_df['length_to_width'] = test_df['Carton Length']/test_df['Carton Width']\n",
    "test_df['length_to_height'] = test_df['Carton Length']/test_df['Carton Height']\n",
    "test_df['width_to_height'] = test_df['Carton Width']/test_df['Carton Height']\n",
    "\n",
    "\n",
    "test_df['length_squared'] = test_df['Carton Length']**2\n",
    "test_df['width_squared'] = test_df['Carton Width']**2\n",
    "test_df['height_squared'] = test_df['Carton Height']**2\n",
    "\n",
    "\n",
    "test_df['dimension_std'] = test_df[['Carton Length', 'Carton Width', 'Carton Height']].std(axis=1)\n",
    "\n",
    "test_df['base_area_to_height'] = (test_df['Carton Length']*test_df['Carton Width'])/test_df['Carton Height']\n",
    "\n",
    "test_df['log_weight'] = np.log(test_df['Carton Weight']+1)\n",
    "\n",
    "test_df['cubed_length'] = test_df['Carton Length']**3\n",
    "test_df['cubed_width'] = test_df['Carton Width']**3\n",
    "test_df['cubed_height'] = test_df['Carton Height']**3\n",
    "\n",
    "\n",
    "test_df['cube_root_volume'] = test_df['Volume']**(1/3)\n",
    "\n",
    "test_df['square_root_volume'] = test_df['Volume']**(1/2)\n",
    "\n",
    "test_df['weight*volume'] = test_df['Carton Weight']*test_df['Volume']\n",
    "\n",
    "test_df['weight*length'] = test_df['Carton Weight']*test_df['Carton Length']\n",
    "\n",
    "test_df['length/(width+height)'] = test_df['Carton Length'] / (test_df['Carton Width'] + test_df['Carton Height'])\n",
    "test_df['width/(length+height)'] = test_df['Carton Width'] / (test_df['Carton Length'] + test_df['Carton Height'])\n",
    "test_df['height/(length+width)'] = test_df['Carton Height'] / (test_df['Carton Length'] + test_df['Carton Width'])\n",
    "\n",
    "\n",
    "test_df['weight/volume'] = test_df['Carton Weight']/test_df['Volume']\n",
    "\n",
    "test_df['weight**2/volume'] = (test_df['Carton Weight']**2)/test_df['Volume']\n",
    "\n",
    "# Surface Area\n",
    "test_df['Surface_Area'] = 2 * (\n",
    "    test_df['Carton Length'] * test_df['Carton Width'] +\n",
    "    test_df['Carton Length'] * test_df['Carton Height'] +\n",
    "    test_df['Carton Width'] * test_df['Carton Height']\n",
    ")\n",
    "\n",
    "# Diagonal Length\n",
    "test_df['Diagonal'] = np.sqrt(\n",
    "    test_df['Carton Length']**2 + test_df['Carton Width']**2 + test_df['Carton Height']**2\n",
    ")\n",
    "\n",
    "# Dimension Comparison Features\n",
    "\n",
    "# Max, Min, and Range of Dimensions\n",
    "test_df['max_dimension'] = test_df[['Carton Length', 'Carton Width', 'Carton Height']].max(axis=1)\n",
    "test_df['min_dimension'] = test_df[['Carton Length', 'Carton Width', 'Carton Height']].min(axis=1)\n",
    "test_df['dimension_range'] = test_df['max_dimension'] - test_df['min_dimension']\n",
    "\n",
    "# Fractions of Dimensions\n",
    "test_df['total_dimension'] = test_df['Carton Length'] + test_df['Carton Width'] + test_df['Carton Height']\n",
    "test_df['length_fraction'] = test_df['Carton Length'] / test_df['total_dimension']\n",
    "test_df['width_fraction'] = test_df['Carton Width'] / test_df['total_dimension']\n",
    "test_df['height_fraction'] = test_df['Carton Height'] / test_df['total_dimension']\n",
    "\n",
    "\n",
    "# Composite & Interaction Features\n",
    "test_df['weight_times_total_dimension'] = test_df['Carton Weight'] * test_df['total_dimension']\n",
    "\n",
    "# Differences Between Dimensions\n",
    "test_df['diff_length_width'] = abs(test_df['Carton Length'] - test_df['Carton Width'])\n",
    "test_df['diff_length_height'] = abs(test_df['Carton Length'] - test_df['Carton Height'])\n",
    "test_df['diff_width_height'] = abs(test_df['Carton Width'] - test_df['Carton Height'])\n",
    "\n",
    "\n",
    "# Efficiency Metrics\n",
    "test_df['SA_to_Volume'] = test_df['Surface_Area'] / (test_df['Volume'] + 1e-8)  # add epsilon to avoid division by 0\n",
    "\n",
    "# Log transformations of composite features\n",
    "test_df['log_Surface_Area'] = np.log(test_df['Surface_Area']+1)\n",
    "\n",
    "test_df['log_SA_to_Volume'] = np.log(test_df['SA_to_Volume']+1)\n",
    "\n"
   ]
  },
  {
   "cell_type": "code",
   "execution_count": 8,
   "id": "1da71351-ecf0-4894-a485-4383583d2d10",
   "metadata": {},
   "outputs": [
    {
     "name": "stdout",
     "output_type": "stream",
     "text": [
      "Examples:\n",
      "    Total: 6000000\n",
      "    Positive: 3000000 (50.00% of total)\n",
      "\n"
     ]
    }
   ],
   "source": [
    "neg, pos = np.bincount(df['suspect_flag'])\n",
    "total = neg + pos\n",
    "print('Examples:\\n    Total: {}\\n    Positive: {} ({:.2f}% of total)\\n'.format(\n",
    "    total, pos, 100 * pos / total))"
   ]
  },
  {
   "cell_type": "code",
   "execution_count": 9,
   "id": "90001cce-5758-4052-a210-999e31751178",
   "metadata": {},
   "outputs": [
    {
     "name": "stdout",
     "output_type": "stream",
     "text": [
      "Categorical columns: []\n"
     ]
    }
   ],
   "source": [
    "from sklearn.preprocessing import LabelEncoder\n",
    "\n",
    "train_df, val_df = train_test_split(df, test_size=0.2, random_state = 75)\n",
    "\n",
    "train_labels = np.array(train_df.pop('suspect_flag')).reshape(-1,1)\n",
    "bool_train_labels = train_labels[:,0] != 0\n",
    "val_labels = np.array(val_df.pop('suspect_flag')).reshape(-1,1)\n",
    "test_labels = np.array(test_df.pop('suspect_flag')).reshape(-1,1)\n",
    "\n",
    "train_features = np.array(train_df)\n",
    "val_features = np.array(val_df)\n",
    "test_features = np.array(test_df)\n",
    "\n",
    "categorical_cols = train_df.select_dtypes(include=['object', 'category']).columns.tolist()\n",
    "print(\"Categorical columns:\", categorical_cols)\n",
    "\n",
    "sanitized_categorical_cols = []\n",
    "column_name_mapping = {}\n",
    "\n",
    "for col in categorical_cols:\n",
    "    # Replace spaces and other invalid characters with underscores\n",
    "    sanitized_name = col.replace(' ', '_').replace('-', '_')\n",
    "    sanitized_categorical_cols.append(sanitized_name)\n",
    "    column_name_mapping[sanitized_name] = col\n",
    "\n",
    "# 2. Rename columns in your dataframes\n",
    "for old_name, new_name in zip(categorical_cols, sanitized_categorical_cols):\n",
    "    train_df = train_df.rename(columns={old_name: new_name})\n",
    "    val_df = val_df.rename(columns={old_name: new_name})\n",
    "    test_df = test_df.rename(columns={old_name: new_name})\n",
    "\n",
    "# Update categorical_cols to use sanitized names\n",
    "categorical_cols = sanitized_categorical_cols\n",
    "\n",
    "numerical_cols = [col for col in train_df.columns if col not in categorical_cols]\n",
    "\n",
    "label_encoders = {}\n",
    "train_categorical_inputs = []\n",
    "val_categorical_inputs = []\n",
    "test_categorical_inputs = []\n",
    "\n",
    "for col in categorical_cols:\n",
    "    # Create and fit label encoder for each categorical column\n",
    "    le = LabelEncoder()\n",
    "    le.fit(train_df[col].astype(str))\n",
    "    label_encoders[col] = le\n",
    "    \n",
    "    # Transform each dataset with the encoder\n",
    "    train_encoded = le.transform(train_df[col].astype(str)).reshape(-1, 1)\n",
    "    val_encoded = le.transform(val_df[col].astype(str)).reshape(-1, 1)\n",
    "    test_encoded = le.transform(test_df[col].astype(str)).reshape(-1, 1)\n",
    "    \n",
    "    # Store encoded values for model input\n",
    "    train_categorical_inputs.append(train_encoded)\n",
    "    val_categorical_inputs.append(val_encoded)\n",
    "    test_categorical_inputs.append(test_encoded)\n",
    "\n",
    "train_numerical = train_df[numerical_cols].values if numerical_cols else None\n",
    "val_numerical = val_df[numerical_cols].values if numerical_cols else None\n",
    "test_numerical = test_df[numerical_cols].values if numerical_cols else None\n",
    "\n",
    "if numerical_cols:\n",
    "    scaler = StandardScaler()\n",
    "    train_numerical = scaler.fit_transform(train_numerical)\n",
    "    val_numerical = scaler.transform(val_numerical)\n",
    "    test_numerical = scaler.transform(test_numerical)\n",
    "\n",
    "    from joblib import dump\n",
    "    dump(scaler, 'standard_scaler.bin')\n",
    "    dump(label_encoders, 'label_encoders.bin')"
   ]
  },
  {
   "cell_type": "code",
   "execution_count": 10,
   "id": "0663c33f-5d1f-468e-a33e-a695289c2e30",
   "metadata": {},
   "outputs": [
    {
     "name": "stdout",
     "output_type": "stream",
     "text": [
      "Average class probability in training set:   0.4998\n",
      "Average class probability in validation set: 0.5008\n",
      "Average class probability in test set:       0.0005\n"
     ]
    }
   ],
   "source": [
    "print(f'Average class probability in training set:   {train_labels.mean():.4f}')\n",
    "print(f'Average class probability in validation set: {val_labels.mean():.4f}')\n",
    "print(f'Average class probability in test set:       {test_labels.mean():.4f}')\n"
   ]
  },
  {
   "cell_type": "code",
   "execution_count": 15,
   "id": "ec096aba-c486-4d70-b15d-6650ebe98695",
   "metadata": {},
   "outputs": [],
   "source": [
    "METRICS = [\n",
    "      keras.metrics.BinaryCrossentropy(name='cross entropy'),  # same as model's loss\n",
    "      keras.metrics.MeanSquaredError(name='Brier score'),\n",
    "      keras.metrics.TruePositives(name='tp'),\n",
    "      keras.metrics.FalsePositives(name='fp'),\n",
    "      keras.metrics.TrueNegatives(name='tn'),\n",
    "      keras.metrics.FalseNegatives(name='fn'),\n",
    "      keras.metrics.BinaryAccuracy(name='accuracy'),\n",
    "      keras.metrics.Precision(name='precision'),\n",
    "      keras.metrics.Recall(name='recall'),\n",
    "      keras.metrics.AUC(name='auc'),\n",
    "      keras.metrics.AUC(name='prc', curve='PR'), # precision-recall curve\n",
    "]\n",
    "\n",
    "def make_model(metrics=METRICS, output_bias=None):\n",
    "    if output_bias is not None:\n",
    "        output_bias = tf.keras.initializers.Constant(output_bias)\n",
    "    categorical_feature_inputs = []\n",
    "    embedding_outputs = []\n",
    "\n",
    "    for i, col in enumerate(categorical_cols):\n",
    "        # Get number of unique categories\n",
    "        num_categories = len(label_encoders[col].classes_)\n",
    "        \n",
    "        # Calculate appropriate embedding dimension\n",
    "        # Rule of thumb: min(50, num_categories/2) with minimum of 2\n",
    "        embedding_dim = min(50, num_categories // 2)\n",
    "        embedding_dim = max(2, embedding_dim)\n",
    "        \n",
    "        # Create input layer for this categorical feature\n",
    "        input_layer = keras.Input(shape=(1,), name=f'{col}_input')\n",
    "        categorical_feature_inputs.append(input_layer)\n",
    "        \n",
    "        # Create embedding layer\n",
    "        embedding = keras.layers.Embedding(\n",
    "            input_dim=num_categories,\n",
    "            output_dim=embedding_dim,\n",
    "            input_length=1,\n",
    "            name=f'{col}_embedding'\n",
    "        )(input_layer)\n",
    "    \n",
    "   # Flatten the embedding\n",
    "        flattened = keras.layers.Flatten(name=f'{col}_flatten')(embedding)\n",
    "        embedding_outputs.append(flattened)\n",
    "    \n",
    "    # Add numerical features if they exist\n",
    "    if numerical_cols:\n",
    "        numerical_input = keras.Input(shape=(len(numerical_cols),), name='numerical_input')\n",
    "        categorical_feature_inputs.append(numerical_input)\n",
    "        embedding_outputs.append(numerical_input)\n",
    "    \n",
    "    # Combine all features\n",
    "    if len(embedding_outputs) > 1:\n",
    "        combined = keras.layers.Concatenate()(embedding_outputs)\n",
    "    else:\n",
    "        combined = embedding_outputs[0]\n",
    "    \n",
    "    # Continue with the dense layers as in your original model\n",
    "    x = keras.layers.Dense(160, activation='relu', kernel_regularizer=regularizers.l1(0.001))(combined)\n",
    "    x = keras.layers.Dropout(0.3)(x)\n",
    "    x = keras.layers.BatchNormalization()(x)\n",
    "    x = keras.layers.Dense(64, activation='relu', kernel_regularizer=regularizers.l1(0.001))(x)\n",
    "    x = keras.layers.Dropout(0.3)(x)\n",
    "    output = keras.layers.Dense(1, activation='sigmoid', \n",
    "                                bias_initializer=output_bias)(x)\n",
    "    \n",
    "    # Create model with multiple inputs\n",
    "    model = keras.Model(inputs=categorical_feature_inputs, outputs=output)\n",
    "    \n",
    "    # Compile with the same configuration as your original model\n",
    "    model.compile(\n",
    "        optimizer=keras.optimizers.Adam(learning_rate=0.0005373),\n",
    "        loss=keras.losses.BinaryFocalCrossentropy(apply_class_balancing=True),\n",
    "        metrics=metrics)\n",
    "    \n",
    "    return model"
   ]
  },
  {
   "cell_type": "code",
   "execution_count": 16,
   "id": "9d3ae6a3-3dc0-4193-9399-015387c22cfd",
   "metadata": {},
   "outputs": [],
   "source": [
    "def prepare_model_inputs():\n",
    "    # Combine categorical inputs\n",
    "    train_inputs = train_categorical_inputs.copy()\n",
    "    val_inputs = val_categorical_inputs.copy()\n",
    "    test_inputs = test_categorical_inputs.copy()\n",
    "    \n",
    "    # Add numerical features if they exist\n",
    "    if train_numerical is not None:\n",
    "        train_inputs.append(train_numerical)\n",
    "        val_inputs.append(val_numerical)\n",
    "        test_inputs.append(test_numerical)\n",
    "    \n",
    "    return train_inputs, val_inputs, test_inputs\n",
    "\n",
    "# Get inputs ready for model\n",
    "train_inputs, val_inputs, test_inputs = prepare_model_inputs()\n",
    "\n",
    "EPOCHS = 100\n",
    "BATCH_SIZE = 2048\n",
    "\n",
    "def early_stopping():\n",
    " return tf.keras.callbacks.EarlyStopping(\n",
    "    monitor='val_prc',\n",
    "    verbose=1,\n",
    "    patience=10,\n",
    "    mode='max',\n",
    "    restore_best_weights=True)"
   ]
  },
  {
   "cell_type": "code",
   "execution_count": 13,
   "id": "36f74199-7809-4d26-b9a7-f9e69dd8e4a1",
   "metadata": {},
   "outputs": [
    {
     "name": "stdout",
     "output_type": "stream",
     "text": [
      "Reloading Tuner from hyper_tuning\\fraud_detection\\tuner0.json\n",
      "Starting hyperparameter search...\n",
      "\n",
      "Optimal hyperparameters:\n",
      "- Dense 1 units: 256\n",
      "- Dropout 1 rate: 0.3\n",
      "- Number of additional layers: 3\n",
      "- Optimizer: adam\n",
      "- Learning rate: 0.0005372554068998837\n",
      "\n",
      "Epoch 1/100\n",
      "2344/2344 - 21s - 9ms/step - Brier score: 0.1959 - accuracy: 0.6890 - auc: 0.8266 - cross entropy: 0.5710 - fn: 1354684.0000 - fp: 138265.0000 - loss: 0.0537 - prc: 0.8380 - precision: 0.8831 - recall: 0.4353 - tn: 2262665.0000 - tp: 1044386.0000 - val_Brier score: 0.1916 - val_accuracy: 0.7012 - val_auc: 0.8552 - val_cross entropy: 0.5616 - val_fn: 334786.0000 - val_fp: 23802.0000 - val_loss: 0.0503 - val_prc: 0.8671 - val_precision: 0.9179 - val_recall: 0.4429 - val_tn: 575268.0000 - val_tp: 266144.0000\n",
      "Epoch 2/100\n",
      "2344/2344 - 17s - 7ms/step - Brier score: 0.1845 - accuracy: 0.7225 - auc: 0.8512 - cross entropy: 0.5452 - fn: 1193840.0000 - fp: 137945.0000 - loss: 0.0503 - prc: 0.8637 - precision: 0.8973 - recall: 0.5024 - tn: 2262985.0000 - tp: 1205230.0000 - val_Brier score: 0.1802 - val_accuracy: 0.7371 - val_auc: 0.8720 - val_cross entropy: 0.5362 - val_fn: 288392.0000 - val_fp: 27087.0000 - val_loss: 0.0474 - val_prc: 0.8847 - val_precision: 0.9202 - val_recall: 0.5201 - val_tn: 571983.0000 - val_tp: 312538.0000\n",
      "Epoch 3/100\n",
      "2344/2344 - 17s - 7ms/step - Brier score: 0.1786 - accuracy: 0.7365 - auc: 0.8619 - cross entropy: 0.5318 - fn: 1134241.0000 - fp: 130718.0000 - loss: 0.0486 - prc: 0.8751 - precision: 0.9063 - recall: 0.5272 - tn: 2270212.0000 - tp: 1264829.0000 - val_Brier score: 0.1740 - val_accuracy: 0.7489 - val_auc: 0.8817 - val_cross entropy: 0.5222 - val_fn: 277486.0000 - val_fp: 23870.0000 - val_loss: 0.0457 - val_prc: 0.8946 - val_precision: 0.9313 - val_recall: 0.5382 - val_tn: 575200.0000 - val_tp: 323444.0000\n",
      "Epoch 4/100\n",
      "2344/2344 - 17s - 7ms/step - Brier score: 0.1747 - accuracy: 0.7428 - auc: 0.8684 - cross entropy: 0.5228 - fn: 1111096.0000 - fp: 123501.0000 - loss: 0.0475 - prc: 0.8819 - precision: 0.9125 - recall: 0.5369 - tn: 2277429.0000 - tp: 1287974.0000 - val_Brier score: 0.1698 - val_accuracy: 0.7577 - val_auc: 0.8878 - val_cross entropy: 0.5129 - val_fn: 268095.0000 - val_fp: 22718.0000 - val_loss: 0.0445 - val_prc: 0.9010 - val_precision: 0.9361 - val_recall: 0.5539 - val_tn: 576352.0000 - val_tp: 332835.0000\n",
      "Epoch 5/100\n",
      "2344/2344 - 17s - 7ms/step - Brier score: 0.1718 - accuracy: 0.7477 - auc: 0.8729 - cross entropy: 0.5161 - fn: 1093294.0000 - fp: 117900.0000 - loss: 0.0467 - prc: 0.8865 - precision: 0.9172 - recall: 0.5443 - tn: 2283030.0000 - tp: 1305776.0000 - val_Brier score: 0.1667 - val_accuracy: 0.7637 - val_auc: 0.8930 - val_cross entropy: 0.5057 - val_fn: 261783.0000 - val_fp: 21742.0000 - val_loss: 0.0435 - val_prc: 0.9061 - val_precision: 0.9398 - val_recall: 0.5644 - val_tn: 577328.0000 - val_tp: 339147.0000\n",
      "Epoch 6/100\n",
      "2344/2344 - 17s - 7ms/step - Brier score: 0.1698 - accuracy: 0.7509 - auc: 0.8760 - cross entropy: 0.5113 - fn: 1081569.0000 - fp: 113955.0000 - loss: 0.0462 - prc: 0.8897 - precision: 0.9204 - recall: 0.5492 - tn: 2286975.0000 - tp: 1317501.0000 - val_Brier score: 0.1643 - val_accuracy: 0.7679 - val_auc: 0.8968 - val_cross entropy: 0.4999 - val_fn: 258450.0000 - val_fp: 20042.0000 - val_loss: 0.0427 - val_prc: 0.9099 - val_precision: 0.9447 - val_recall: 0.5699 - val_tn: 579028.0000 - val_tp: 342480.0000\n",
      "Epoch 7/100\n",
      "2344/2344 - 17s - 7ms/step - Brier score: 0.1681 - accuracy: 0.7541 - auc: 0.8785 - cross entropy: 0.5072 - fn: 1069090.0000 - fp: 111242.0000 - loss: 0.0457 - prc: 0.8923 - precision: 0.9228 - recall: 0.5544 - tn: 2289688.0000 - tp: 1329980.0000 - val_Brier score: 0.1624 - val_accuracy: 0.7711 - val_auc: 0.8998 - val_cross entropy: 0.4958 - val_fn: 254428.0000 - val_fp: 20269.0000 - val_loss: 0.0422 - val_prc: 0.9126 - val_precision: 0.9447 - val_recall: 0.5766 - val_tn: 578801.0000 - val_tp: 346502.0000\n",
      "Epoch 8/100\n",
      "2344/2344 - 17s - 7ms/step - Brier score: 0.1667 - accuracy: 0.7565 - auc: 0.8806 - cross entropy: 0.5038 - fn: 1058394.0000 - fp: 110427.0000 - loss: 0.0453 - prc: 0.8943 - precision: 0.9239 - recall: 0.5588 - tn: 2290503.0000 - tp: 1340676.0000 - val_Brier score: 0.1591 - val_accuracy: 0.7754 - val_auc: 0.9017 - val_cross entropy: 0.4873 - val_fn: 249524.0000 - val_fp: 19995.0000 - val_loss: 0.0416 - val_prc: 0.9144 - val_precision: 0.9462 - val_recall: 0.5848 - val_tn: 579075.0000 - val_tp: 351406.0000\n",
      "Epoch 9/100\n",
      "2344/2344 - 18s - 8ms/step - Brier score: 0.1657 - accuracy: 0.7582 - auc: 0.8820 - cross entropy: 0.5014 - fn: 1052033.0000 - fp: 108797.0000 - loss: 0.0451 - prc: 0.8957 - precision: 0.9253 - recall: 0.5615 - tn: 2292133.0000 - tp: 1347037.0000 - val_Brier score: 0.1592 - val_accuracy: 0.7742 - val_auc: 0.9028 - val_cross entropy: 0.4874 - val_fn: 253160.0000 - val_fp: 17822.0000 - val_loss: 0.0414 - val_prc: 0.9155 - val_precision: 0.9513 - val_recall: 0.5787 - val_tn: 581248.0000 - val_tp: 347770.0000\n",
      "Epoch 10/100\n",
      "2344/2344 - 18s - 8ms/step - Brier score: 0.1649 - accuracy: 0.7596 - auc: 0.8833 - cross entropy: 0.4994 - fn: 1045738.0000 - fp: 108113.0000 - loss: 0.0448 - prc: 0.8969 - precision: 0.9260 - recall: 0.5641 - tn: 2292817.0000 - tp: 1353332.0000 - val_Brier score: 0.1568 - val_accuracy: 0.7799 - val_auc: 0.9049 - val_cross entropy: 0.4818 - val_fn: 244163.0000 - val_fp: 19987.0000 - val_loss: 0.0410 - val_prc: 0.9172 - val_precision: 0.9469 - val_recall: 0.5937 - val_tn: 579083.0000 - val_tp: 356767.0000\n",
      "Epoch 11/100\n",
      "2344/2344 - 17s - 7ms/step - Brier score: 0.1640 - accuracy: 0.7612 - auc: 0.8845 - cross entropy: 0.4974 - fn: 1038994.0000 - fp: 107354.0000 - loss: 0.0446 - prc: 0.8981 - precision: 0.9268 - recall: 0.5669 - tn: 2293576.0000 - tp: 1360076.0000 - val_Brier score: 0.1565 - val_accuracy: 0.7798 - val_auc: 0.9059 - val_cross entropy: 0.4811 - val_fn: 245149.0000 - val_fp: 19135.0000 - val_loss: 0.0407 - val_prc: 0.9182 - val_precision: 0.9490 - val_recall: 0.5921 - val_tn: 579935.0000 - val_tp: 355781.0000\n",
      "Epoch 12/100\n",
      "2344/2344 - 17s - 7ms/step - Brier score: 0.1634 - accuracy: 0.7620 - auc: 0.8854 - cross entropy: 0.4957 - fn: 1036105.0000 - fp: 106168.0000 - loss: 0.0444 - prc: 0.8990 - precision: 0.9277 - recall: 0.5681 - tn: 2294762.0000 - tp: 1362965.0000 - val_Brier score: 0.1562 - val_accuracy: 0.7808 - val_auc: 0.9073 - val_cross entropy: 0.4803 - val_fn: 244016.0000 - val_fp: 18967.0000 - val_loss: 0.0405 - val_prc: 0.9195 - val_precision: 0.9495 - val_recall: 0.5939 - val_tn: 580103.0000 - val_tp: 356914.0000\n",
      "Epoch 13/100\n",
      "2344/2344 - 18s - 8ms/step - Brier score: 0.1628 - accuracy: 0.7639 - auc: 0.8864 - cross entropy: 0.4944 - fn: 1026735.0000 - fp: 106421.0000 - loss: 0.0443 - prc: 0.8999 - precision: 0.9280 - recall: 0.5720 - tn: 2294509.0000 - tp: 1372335.0000 - val_Brier score: 0.1557 - val_accuracy: 0.7775 - val_auc: 0.9082 - val_cross entropy: 0.4787 - val_fn: 250447.0000 - val_fp: 16517.0000 - val_loss: 0.0404 - val_prc: 0.9203 - val_precision: 0.9550 - val_recall: 0.5832 - val_tn: 582553.0000 - val_tp: 350483.0000\n",
      "Epoch 14/100\n",
      "2344/2344 - 18s - 8ms/step - Brier score: 0.1623 - accuracy: 0.7646 - auc: 0.8870 - cross entropy: 0.4931 - fn: 1024600.0000 - fp: 105398.0000 - loss: 0.0441 - prc: 0.9006 - precision: 0.9288 - recall: 0.5729 - tn: 2295532.0000 - tp: 1374470.0000 - val_Brier score: 0.1551 - val_accuracy: 0.7799 - val_auc: 0.9095 - val_cross entropy: 0.4776 - val_fn: 246758.0000 - val_fp: 17325.0000 - val_loss: 0.0401 - val_prc: 0.9214 - val_precision: 0.9534 - val_recall: 0.5894 - val_tn: 581745.0000 - val_tp: 354172.0000\n",
      "Epoch 15/100\n",
      "2344/2344 - 17s - 7ms/step - Brier score: 0.1618 - accuracy: 0.7655 - auc: 0.8878 - cross entropy: 0.4919 - fn: 1020034.0000 - fp: 105335.0000 - loss: 0.0440 - prc: 0.9012 - precision: 0.9290 - recall: 0.5748 - tn: 2295595.0000 - tp: 1379036.0000 - val_Brier score: 0.1547 - val_accuracy: 0.7821 - val_auc: 0.9100 - val_cross entropy: 0.4768 - val_fn: 243406.0000 - val_fp: 18086.0000 - val_loss: 0.0400 - val_prc: 0.9219 - val_precision: 0.9518 - val_recall: 0.5950 - val_tn: 580984.0000 - val_tp: 357524.0000\n",
      "Epoch 16/100\n",
      "2344/2344 - 17s - 7ms/step - Brier score: 0.1613 - accuracy: 0.7666 - auc: 0.8884 - cross entropy: 0.4908 - fn: 1015276.0000 - fp: 104858.0000 - loss: 0.0439 - prc: 0.9019 - precision: 0.9296 - recall: 0.5768 - tn: 2296072.0000 - tp: 1383794.0000 - val_Brier score: 0.1542 - val_accuracy: 0.7846 - val_auc: 0.9106 - val_cross entropy: 0.4756 - val_fn: 240363.0000 - val_fp: 18101.0000 - val_loss: 0.0398 - val_prc: 0.9225 - val_precision: 0.9522 - val_recall: 0.6000 - val_tn: 580969.0000 - val_tp: 360567.0000\n",
      "Epoch 17/100\n",
      "2344/2344 - 17s - 7ms/step - Brier score: 0.1610 - accuracy: 0.7671 - auc: 0.8889 - cross entropy: 0.4901 - fn: 1012966.0000 - fp: 105172.0000 - loss: 0.0438 - prc: 0.9023 - precision: 0.9295 - recall: 0.5778 - tn: 2295758.0000 - tp: 1386104.0000 - val_Brier score: 0.1552 - val_accuracy: 0.7813 - val_auc: 0.9112 - val_cross entropy: 0.4782 - val_fn: 245837.0000 - val_fp: 16557.0000 - val_loss: 0.0399 - val_prc: 0.9230 - val_precision: 0.9554 - val_recall: 0.5909 - val_tn: 582513.0000 - val_tp: 355093.0000\n",
      "Epoch 18/100\n",
      "2344/2344 - 17s - 7ms/step - Brier score: 0.1607 - accuracy: 0.7674 - auc: 0.8894 - cross entropy: 0.4892 - fn: 1011582.0000 - fp: 104841.0000 - loss: 0.0437 - prc: 0.9027 - precision: 0.9297 - recall: 0.5783 - tn: 2296089.0000 - tp: 1387488.0000 - val_Brier score: 0.1531 - val_accuracy: 0.7873 - val_auc: 0.9118 - val_cross entropy: 0.4731 - val_fn: 236506.0000 - val_fp: 18734.0000 - val_loss: 0.0396 - val_prc: 0.9236 - val_precision: 0.9511 - val_recall: 0.6064 - val_tn: 580336.0000 - val_tp: 364424.0000\n",
      "Epoch 19/100\n",
      "2344/2344 - 17s - 7ms/step - Brier score: 0.1603 - accuracy: 0.7687 - auc: 0.8899 - cross entropy: 0.4882 - fn: 1005987.0000 - fp: 104210.0000 - loss: 0.0436 - prc: 0.9033 - precision: 0.9304 - recall: 0.5807 - tn: 2296720.0000 - tp: 1393083.0000 - val_Brier score: 0.1545 - val_accuracy: 0.7821 - val_auc: 0.9114 - val_cross entropy: 0.4760 - val_fn: 244539.0000 - val_fp: 16993.0000 - val_loss: 0.0398 - val_prc: 0.9231 - val_precision: 0.9545 - val_recall: 0.5931 - val_tn: 582077.0000 - val_tp: 356391.0000\n",
      "Epoch 20/100\n",
      "2344/2344 - 17s - 7ms/step - Brier score: 0.1600 - accuracy: 0.7691 - auc: 0.8904 - cross entropy: 0.4877 - fn: 1004166.0000 - fp: 104048.0000 - loss: 0.0435 - prc: 0.9037 - precision: 0.9306 - recall: 0.5814 - tn: 2296882.0000 - tp: 1394904.0000 - val_Brier score: 0.1516 - val_accuracy: 0.7862 - val_auc: 0.9124 - val_cross entropy: 0.4690 - val_fn: 238408.0000 - val_fp: 18175.0000 - val_loss: 0.0394 - val_prc: 0.9240 - val_precision: 0.9523 - val_recall: 0.6033 - val_tn: 580895.0000 - val_tp: 362522.0000\n",
      "Epoch 21/100\n",
      "2344/2344 - 17s - 7ms/step - Brier score: 0.1597 - accuracy: 0.7695 - auc: 0.8907 - cross entropy: 0.4868 - fn: 1002807.0000 - fp: 103642.0000 - loss: 0.0434 - prc: 0.9041 - precision: 0.9309 - recall: 0.5820 - tn: 2297288.0000 - tp: 1396263.0000 - val_Brier score: 0.1522 - val_accuracy: 0.7841 - val_auc: 0.9135 - val_cross entropy: 0.4704 - val_fn: 243118.0000 - val_fp: 15905.0000 - val_loss: 0.0393 - val_prc: 0.9251 - val_precision: 0.9574 - val_recall: 0.5954 - val_tn: 583165.0000 - val_tp: 357812.0000\n",
      "Epoch 22/100\n",
      "2344/2344 - 17s - 7ms/step - Brier score: 0.1594 - accuracy: 0.7699 - auc: 0.8911 - cross entropy: 0.4862 - fn: 1000703.0000 - fp: 103584.0000 - loss: 0.0434 - prc: 0.9045 - precision: 0.9310 - recall: 0.5829 - tn: 2297346.0000 - tp: 1398367.0000 - val_Brier score: 0.1510 - val_accuracy: 0.7868 - val_auc: 0.9136 - val_cross entropy: 0.4675 - val_fn: 238891.0000 - val_fp: 16990.0000 - val_loss: 0.0391 - val_prc: 0.9253 - val_precision: 0.9552 - val_recall: 0.6025 - val_tn: 582080.0000 - val_tp: 362039.0000\n",
      "Epoch 23/100\n",
      "2344/2344 - 17s - 7ms/step - Brier score: 0.1591 - accuracy: 0.7707 - auc: 0.8916 - cross entropy: 0.4854 - fn: 996890.0000 - fp: 103621.0000 - loss: 0.0433 - prc: 0.9049 - precision: 0.9312 - recall: 0.5845 - tn: 2297309.0000 - tp: 1402180.0000 - val_Brier score: 0.1516 - val_accuracy: 0.7856 - val_auc: 0.9146 - val_cross entropy: 0.4688 - val_fn: 241009.0000 - val_fp: 16292.0000 - val_loss: 0.0391 - val_prc: 0.9260 - val_precision: 0.9567 - val_recall: 0.5989 - val_tn: 582778.0000 - val_tp: 359921.0000\n",
      "Epoch 24/100\n",
      "2344/2344 - 17s - 7ms/step - Brier score: 0.1589 - accuracy: 0.7711 - auc: 0.8919 - cross entropy: 0.4849 - fn: 995181.0000 - fp: 103382.0000 - loss: 0.0432 - prc: 0.9052 - precision: 0.9314 - recall: 0.5852 - tn: 2297548.0000 - tp: 1403889.0000 - val_Brier score: 0.1504 - val_accuracy: 0.7879 - val_auc: 0.9145 - val_cross entropy: 0.4657 - val_fn: 236850.0000 - val_fp: 17642.0000 - val_loss: 0.0390 - val_prc: 0.9257 - val_precision: 0.9538 - val_recall: 0.6059 - val_tn: 581428.0000 - val_tp: 364080.0000\n",
      "Epoch 25/100\n",
      "2344/2344 - 18s - 8ms/step - Brier score: 0.1587 - accuracy: 0.7715 - auc: 0.8922 - cross entropy: 0.4843 - fn: 993729.0000 - fp: 103102.0000 - loss: 0.0432 - prc: 0.9054 - precision: 0.9317 - recall: 0.5858 - tn: 2297828.0000 - tp: 1405341.0000 - val_Brier score: 0.1513 - val_accuracy: 0.7864 - val_auc: 0.9153 - val_cross entropy: 0.4680 - val_fn: 240457.0000 - val_fp: 15897.0000 - val_loss: 0.0389 - val_prc: 0.9267 - val_precision: 0.9578 - val_recall: 0.5999 - val_tn: 583173.0000 - val_tp: 360473.0000\n",
      "Epoch 26/100\n",
      "2344/2344 - 19s - 8ms/step - Brier score: 0.1585 - accuracy: 0.7717 - auc: 0.8924 - cross entropy: 0.4839 - fn: 992813.0000 - fp: 102810.0000 - loss: 0.0431 - prc: 0.9057 - precision: 0.9319 - recall: 0.5862 - tn: 2298120.0000 - tp: 1406257.0000 - val_Brier score: 0.1510 - val_accuracy: 0.7874 - val_auc: 0.9154 - val_cross entropy: 0.4680 - val_fn: 238435.0000 - val_fp: 16716.0000 - val_loss: 0.0389 - val_prc: 0.9267 - val_precision: 0.9559 - val_recall: 0.6032 - val_tn: 582354.0000 - val_tp: 362495.0000\n",
      "Epoch 27/100\n",
      "2344/2344 - 18s - 8ms/step - Brier score: 0.1584 - accuracy: 0.7724 - auc: 0.8928 - cross entropy: 0.4836 - fn: 989468.0000 - fp: 103139.0000 - loss: 0.0431 - prc: 0.9060 - precision: 0.9318 - recall: 0.5876 - tn: 2297791.0000 - tp: 1409602.0000 - val_Brier score: 0.1506 - val_accuracy: 0.7881 - val_auc: 0.9155 - val_cross entropy: 0.4667 - val_fn: 236952.0000 - val_fp: 17307.0000 - val_loss: 0.0388 - val_prc: 0.9268 - val_precision: 0.9546 - val_recall: 0.6057 - val_tn: 581763.0000 - val_tp: 363978.0000\n",
      "Epoch 28/100\n",
      "2344/2344 - 19s - 8ms/step - Brier score: 0.1581 - accuracy: 0.7727 - auc: 0.8931 - cross entropy: 0.4828 - fn: 988531.0000 - fp: 102485.0000 - loss: 0.0430 - prc: 0.9063 - precision: 0.9323 - recall: 0.5880 - tn: 2298445.0000 - tp: 1410539.0000 - val_Brier score: 0.1513 - val_accuracy: 0.7879 - val_auc: 0.9161 - val_cross entropy: 0.4684 - val_fn: 237592.0000 - val_fp: 16891.0000 - val_loss: 0.0389 - val_prc: 0.9272 - val_precision: 0.9556 - val_recall: 0.6046 - val_tn: 582179.0000 - val_tp: 363338.0000\n",
      "Epoch 29/100\n",
      "2344/2344 - 18s - 8ms/step - Brier score: 0.1580 - accuracy: 0.7729 - auc: 0.8932 - cross entropy: 0.4826 - fn: 987290.0000 - fp: 102768.0000 - loss: 0.0430 - prc: 0.9065 - precision: 0.9321 - recall: 0.5885 - tn: 2298162.0000 - tp: 1411780.0000 - val_Brier score: 0.1493 - val_accuracy: 0.7909 - val_auc: 0.9164 - val_cross entropy: 0.4636 - val_fn: 233785.0000 - val_fp: 17160.0000 - val_loss: 0.0386 - val_prc: 0.9276 - val_precision: 0.9553 - val_recall: 0.6110 - val_tn: 581910.0000 - val_tp: 367145.0000\n",
      "Epoch 30/100\n",
      "2344/2344 - 18s - 8ms/step - Brier score: 0.1578 - accuracy: 0.7735 - auc: 0.8935 - cross entropy: 0.4821 - fn: 985155.0000 - fp: 101893.0000 - loss: 0.0429 - prc: 0.9068 - precision: 0.9328 - recall: 0.5894 - tn: 2299037.0000 - tp: 1413915.0000 - val_Brier score: 0.1500 - val_accuracy: 0.7878 - val_auc: 0.9169 - val_cross entropy: 0.4650 - val_fn: 238950.0000 - val_fp: 15638.0000 - val_loss: 0.0386 - val_prc: 0.9281 - val_precision: 0.9586 - val_recall: 0.6024 - val_tn: 583432.0000 - val_tp: 361980.0000\n",
      "Epoch 31/100\n",
      "2344/2344 - 17s - 7ms/step - Brier score: 0.1576 - accuracy: 0.7736 - auc: 0.8939 - cross entropy: 0.4816 - fn: 984323.0000 - fp: 102197.0000 - loss: 0.0428 - prc: 0.9070 - precision: 0.9326 - recall: 0.5897 - tn: 2298733.0000 - tp: 1414747.0000 - val_Brier score: 0.1496 - val_accuracy: 0.7892 - val_auc: 0.9173 - val_cross entropy: 0.4640 - val_fn: 236210.0000 - val_fp: 16695.0000 - val_loss: 0.0385 - val_prc: 0.9283 - val_precision: 0.9562 - val_recall: 0.6069 - val_tn: 582375.0000 - val_tp: 364720.0000\n",
      "Epoch 32/100\n",
      "2344/2344 - 17s - 7ms/step - Brier score: 0.1575 - accuracy: 0.7739 - auc: 0.8940 - cross entropy: 0.4815 - fn: 982900.0000 - fp: 102351.0000 - loss: 0.0428 - prc: 0.9071 - precision: 0.9326 - recall: 0.5903 - tn: 2298579.0000 - tp: 1416170.0000 - val_Brier score: 0.1496 - val_accuracy: 0.7931 - val_auc: 0.9176 - val_cross entropy: 0.4646 - val_fn: 230913.0000 - val_fp: 17393.0000 - val_loss: 0.0384 - val_prc: 0.9287 - val_precision: 0.9551 - val_recall: 0.6157 - val_tn: 581677.0000 - val_tp: 370017.0000\n",
      "Epoch 33/100\n",
      "2344/2344 - 17s - 7ms/step - Brier score: 0.1573 - accuracy: 0.7743 - auc: 0.8942 - cross entropy: 0.4810 - fn: 981040.0000 - fp: 102289.0000 - loss: 0.0428 - prc: 0.9074 - precision: 0.9327 - recall: 0.5911 - tn: 2298641.0000 - tp: 1418030.0000 - val_Brier score: 0.1487 - val_accuracy: 0.7934 - val_auc: 0.9176 - val_cross entropy: 0.4625 - val_fn: 230166.0000 - val_fp: 17765.0000 - val_loss: 0.0384 - val_prc: 0.9286 - val_precision: 0.9543 - val_recall: 0.6170 - val_tn: 581305.0000 - val_tp: 370764.0000\n",
      "Epoch 34/100\n",
      "2344/2344 - 17s - 7ms/step - Brier score: 0.1571 - accuracy: 0.7744 - auc: 0.8944 - cross entropy: 0.4806 - fn: 981214.0000 - fp: 101732.0000 - loss: 0.0427 - prc: 0.9075 - precision: 0.9331 - recall: 0.5910 - tn: 2299198.0000 - tp: 1417856.0000 - val_Brier score: 0.1501 - val_accuracy: 0.7887 - val_auc: 0.9181 - val_cross entropy: 0.4655 - val_fn: 238333.0000 - val_fp: 15254.0000 - val_loss: 0.0384 - val_prc: 0.9292 - val_precision: 0.9596 - val_recall: 0.6034 - val_tn: 583816.0000 - val_tp: 362597.0000\n",
      "Epoch 35/100\n",
      "2344/2344 - 17s - 7ms/step - Brier score: 0.1568 - accuracy: 0.7751 - auc: 0.8948 - cross entropy: 0.4798 - fn: 978082.0000 - fp: 101642.0000 - loss: 0.0426 - prc: 0.9079 - precision: 0.9332 - recall: 0.5923 - tn: 2299288.0000 - tp: 1420988.0000 - val_Brier score: 0.1484 - val_accuracy: 0.7924 - val_auc: 0.9178 - val_cross entropy: 0.4613 - val_fn: 232778.0000 - val_fp: 16327.0000 - val_loss: 0.0383 - val_prc: 0.9289 - val_precision: 0.9575 - val_recall: 0.6126 - val_tn: 582743.0000 - val_tp: 368152.0000\n",
      "Epoch 36/100\n",
      "2344/2344 - 17s - 7ms/step - Brier score: 0.1568 - accuracy: 0.7751 - auc: 0.8950 - cross entropy: 0.4797 - fn: 978107.0000 - fp: 101456.0000 - loss: 0.0426 - prc: 0.9081 - precision: 0.9334 - recall: 0.5923 - tn: 2299474.0000 - tp: 1420963.0000 - val_Brier score: 0.1488 - val_accuracy: 0.7924 - val_auc: 0.9186 - val_cross entropy: 0.4622 - val_fn: 232587.0000 - val_fp: 16485.0000 - val_loss: 0.0382 - val_prc: 0.9296 - val_precision: 0.9572 - val_recall: 0.6130 - val_tn: 582585.0000 - val_tp: 368343.0000\n",
      "Epoch 37/100\n",
      "2344/2344 - 17s - 7ms/step - Brier score: 0.1567 - accuracy: 0.7754 - auc: 0.8950 - cross entropy: 0.4795 - fn: 976792.0000 - fp: 101476.0000 - loss: 0.0426 - prc: 0.9082 - precision: 0.9334 - recall: 0.5928 - tn: 2299454.0000 - tp: 1422278.0000 - val_Brier score: 0.1488 - val_accuracy: 0.7909 - val_auc: 0.9187 - val_cross entropy: 0.4625 - val_fn: 234987.0000 - val_fp: 15975.0000 - val_loss: 0.0382 - val_prc: 0.9297 - val_precision: 0.9582 - val_recall: 0.6090 - val_tn: 583095.0000 - val_tp: 365943.0000\n",
      "Epoch 38/100\n",
      "2344/2344 - 17s - 7ms/step - Brier score: 0.1565 - accuracy: 0.7759 - auc: 0.8954 - cross entropy: 0.4791 - fn: 974370.0000 - fp: 101375.0000 - loss: 0.0425 - prc: 0.9085 - precision: 0.9336 - recall: 0.5939 - tn: 2299555.0000 - tp: 1424700.0000 - val_Brier score: 0.1475 - val_accuracy: 0.7935 - val_auc: 0.9188 - val_cross entropy: 0.4594 - val_fn: 231550.0000 - val_fp: 16295.0000 - val_loss: 0.0380 - val_prc: 0.9299 - val_precision: 0.9577 - val_recall: 0.6147 - val_tn: 582775.0000 - val_tp: 369380.0000\n",
      "Epoch 39/100\n",
      "2344/2344 - 17s - 7ms/step - Brier score: 0.1564 - accuracy: 0.7756 - auc: 0.8954 - cross entropy: 0.4789 - fn: 975880.0000 - fp: 101098.0000 - loss: 0.0425 - prc: 0.9085 - precision: 0.9337 - recall: 0.5932 - tn: 2299832.0000 - tp: 1423190.0000 - val_Brier score: 0.1496 - val_accuracy: 0.7908 - val_auc: 0.9190 - val_cross entropy: 0.4646 - val_fn: 235535.0000 - val_fp: 15535.0000 - val_loss: 0.0382 - val_prc: 0.9299 - val_precision: 0.9592 - val_recall: 0.6080 - val_tn: 583535.0000 - val_tp: 365395.0000\n",
      "Epoch 40/100\n",
      "2344/2344 - 17s - 7ms/step - Brier score: 0.1563 - accuracy: 0.7760 - auc: 0.8956 - cross entropy: 0.4785 - fn: 974579.0000 - fp: 100607.0000 - loss: 0.0425 - prc: 0.9087 - precision: 0.9340 - recall: 0.5938 - tn: 2300323.0000 - tp: 1424491.0000 - val_Brier score: 0.1483 - val_accuracy: 0.7928 - val_auc: 0.9187 - val_cross entropy: 0.4611 - val_fn: 232823.0000 - val_fp: 15869.0000 - val_loss: 0.0382 - val_prc: 0.9295 - val_precision: 0.9587 - val_recall: 0.6126 - val_tn: 583201.0000 - val_tp: 368107.0000\n",
      "Epoch 41/100\n",
      "2344/2344 - 17s - 7ms/step - Brier score: 0.1562 - accuracy: 0.7761 - auc: 0.8958 - cross entropy: 0.4782 - fn: 974018.0000 - fp: 100732.0000 - loss: 0.0425 - prc: 0.9089 - precision: 0.9340 - recall: 0.5940 - tn: 2300198.0000 - tp: 1425052.0000 - val_Brier score: 0.1482 - val_accuracy: 0.7903 - val_auc: 0.9190 - val_cross entropy: 0.4606 - val_fn: 236009.0000 - val_fp: 15595.0000 - val_loss: 0.0381 - val_prc: 0.9297 - val_precision: 0.9590 - val_recall: 0.6073 - val_tn: 583475.0000 - val_tp: 364921.0000\n",
      "Epoch 42/100\n",
      "2344/2344 - 17s - 7ms/step - Brier score: 0.1560 - accuracy: 0.7765 - auc: 0.8961 - cross entropy: 0.4778 - fn: 972300.0000 - fp: 100373.0000 - loss: 0.0424 - prc: 0.9091 - precision: 0.9343 - recall: 0.5947 - tn: 2300557.0000 - tp: 1426770.0000 - val_Brier score: 0.1473 - val_accuracy: 0.7951 - val_auc: 0.9199 - val_cross entropy: 0.4591 - val_fn: 229527.0000 - val_fp: 16312.0000 - val_loss: 0.0378 - val_prc: 0.9309 - val_precision: 0.9579 - val_recall: 0.6180 - val_tn: 582758.0000 - val_tp: 371403.0000\n",
      "Epoch 43/100\n",
      "2344/2344 - 17s - 7ms/step - Brier score: 0.1559 - accuracy: 0.7768 - auc: 0.8961 - cross entropy: 0.4776 - fn: 970375.0000 - fp: 100872.0000 - loss: 0.0424 - prc: 0.9092 - precision: 0.9341 - recall: 0.5955 - tn: 2300058.0000 - tp: 1428695.0000 - val_Brier score: 0.1469 - val_accuracy: 0.7954 - val_auc: 0.9192 - val_cross entropy: 0.4575 - val_fn: 228513.0000 - val_fp: 16949.0000 - val_loss: 0.0379 - val_prc: 0.9301 - val_precision: 0.9565 - val_recall: 0.6197 - val_tn: 582121.0000 - val_tp: 372417.0000\n",
      "Epoch 44/100\n",
      "2344/2344 - 17s - 7ms/step - Brier score: 0.1558 - accuracy: 0.7770 - auc: 0.8962 - cross entropy: 0.4772 - fn: 970230.0000 - fp: 100346.0000 - loss: 0.0424 - prc: 0.9093 - precision: 0.9344 - recall: 0.5956 - tn: 2300584.0000 - tp: 1428840.0000 - val_Brier score: 0.1480 - val_accuracy: 0.7900 - val_auc: 0.9197 - val_cross entropy: 0.4599 - val_fn: 237494.0000 - val_fp: 14465.0000 - val_loss: 0.0380 - val_prc: 0.9306 - val_precision: 0.9617 - val_recall: 0.6048 - val_tn: 584605.0000 - val_tp: 363436.0000\n",
      "Epoch 45/100\n",
      "2344/2344 - 17s - 7ms/step - Brier score: 0.1557 - accuracy: 0.7769 - auc: 0.8964 - cross entropy: 0.4770 - fn: 970446.0000 - fp: 100204.0000 - loss: 0.0423 - prc: 0.9095 - precision: 0.9345 - recall: 0.5955 - tn: 2300726.0000 - tp: 1428624.0000 - val_Brier score: 0.1474 - val_accuracy: 0.7974 - val_auc: 0.9205 - val_cross entropy: 0.4595 - val_fn: 226126.0000 - val_fp: 17033.0000 - val_loss: 0.0378 - val_prc: 0.9314 - val_precision: 0.9565 - val_recall: 0.6237 - val_tn: 582037.0000 - val_tp: 374804.0000\n",
      "Epoch 46/100\n",
      "2344/2344 - 17s - 7ms/step - Brier score: 0.1555 - accuracy: 0.7774 - auc: 0.8967 - cross entropy: 0.4765 - fn: 968338.0000 - fp: 100006.0000 - loss: 0.0423 - prc: 0.9097 - precision: 0.9347 - recall: 0.5964 - tn: 2300924.0000 - tp: 1430732.0000 - val_Brier score: 0.1470 - val_accuracy: 0.7959 - val_auc: 0.9203 - val_cross entropy: 0.4581 - val_fn: 228888.0000 - val_fp: 15992.0000 - val_loss: 0.0377 - val_prc: 0.9313 - val_precision: 0.9588 - val_recall: 0.6191 - val_tn: 583078.0000 - val_tp: 372042.0000\n",
      "Epoch 47/100\n",
      "2344/2344 - 17s - 7ms/step - Brier score: 0.1555 - accuracy: 0.7774 - auc: 0.8966 - cross entropy: 0.4765 - fn: 968464.0000 - fp: 99992.0000 - loss: 0.0423 - prc: 0.9097 - precision: 0.9347 - recall: 0.5963 - tn: 2300938.0000 - tp: 1430606.0000 - val_Brier score: 0.1472 - val_accuracy: 0.7938 - val_auc: 0.9208 - val_cross entropy: 0.4585 - val_fn: 231931.0000 - val_fp: 15456.0000 - val_loss: 0.0377 - val_prc: 0.9315 - val_precision: 0.9598 - val_recall: 0.6140 - val_tn: 583614.0000 - val_tp: 368999.0000\n",
      "Epoch 48/100\n",
      "2344/2344 - 17s - 7ms/step - Brier score: 0.1553 - accuracy: 0.7779 - auc: 0.8970 - cross entropy: 0.4760 - fn: 965817.0000 - fp: 100101.0000 - loss: 0.0422 - prc: 0.9100 - precision: 0.9347 - recall: 0.5974 - tn: 2300829.0000 - tp: 1433253.0000 - val_Brier score: 0.1473 - val_accuracy: 0.7934 - val_auc: 0.9202 - val_cross entropy: 0.4585 - val_fn: 232191.0000 - val_fp: 15718.0000 - val_loss: 0.0378 - val_prc: 0.9310 - val_precision: 0.9591 - val_recall: 0.6136 - val_tn: 583352.0000 - val_tp: 368739.0000\n",
      "Epoch 49/100\n",
      "2344/2344 - 17s - 7ms/step - Brier score: 0.1553 - accuracy: 0.7781 - auc: 0.8970 - cross entropy: 0.4760 - fn: 965526.0000 - fp: 99817.0000 - loss: 0.0422 - prc: 0.9100 - precision: 0.9349 - recall: 0.5975 - tn: 2301113.0000 - tp: 1433544.0000 - val_Brier score: 0.1480 - val_accuracy: 0.7931 - val_auc: 0.9212 - val_cross entropy: 0.4609 - val_fn: 233277.0000 - val_fp: 15026.0000 - val_loss: 0.0377 - val_prc: 0.9320 - val_precision: 0.9607 - val_recall: 0.6118 - val_tn: 584044.0000 - val_tp: 367653.0000\n",
      "Epoch 50/100\n",
      "2344/2344 - 17s - 7ms/step - Brier score: 0.1552 - accuracy: 0.7781 - auc: 0.8972 - cross entropy: 0.4757 - fn: 965207.0000 - fp: 99884.0000 - loss: 0.0422 - prc: 0.9102 - precision: 0.9349 - recall: 0.5977 - tn: 2301046.0000 - tp: 1433863.0000 - val_Brier score: 0.1466 - val_accuracy: 0.7933 - val_auc: 0.9205 - val_cross entropy: 0.4569 - val_fn: 232778.0000 - val_fp: 15270.0000 - val_loss: 0.0377 - val_prc: 0.9312 - val_precision: 0.9602 - val_recall: 0.6126 - val_tn: 583800.0000 - val_tp: 368152.0000\n",
      "Epoch 51/100\n",
      "2344/2344 - 17s - 7ms/step - Brier score: 0.1551 - accuracy: 0.7783 - auc: 0.8972 - cross entropy: 0.4755 - fn: 964333.0000 - fp: 99756.0000 - loss: 0.0422 - prc: 0.9102 - precision: 0.9350 - recall: 0.5980 - tn: 2301174.0000 - tp: 1434737.0000 - val_Brier score: 0.1463 - val_accuracy: 0.7961 - val_auc: 0.9211 - val_cross entropy: 0.4565 - val_fn: 228710.0000 - val_fp: 16027.0000 - val_loss: 0.0376 - val_prc: 0.9318 - val_precision: 0.9587 - val_recall: 0.6194 - val_tn: 583043.0000 - val_tp: 372220.0000\n",
      "Epoch 52/100\n",
      "2344/2344 - 17s - 7ms/step - Brier score: 0.1551 - accuracy: 0.7783 - auc: 0.8973 - cross entropy: 0.4756 - fn: 964382.0000 - fp: 99963.0000 - loss: 0.0422 - prc: 0.9103 - precision: 0.9349 - recall: 0.5980 - tn: 2300967.0000 - tp: 1434688.0000 - val_Brier score: 0.1476 - val_accuracy: 0.7940 - val_auc: 0.9214 - val_cross entropy: 0.4593 - val_fn: 232206.0000 - val_fp: 15052.0000 - val_loss: 0.0377 - val_prc: 0.9322 - val_precision: 0.9608 - val_recall: 0.6136 - val_tn: 584018.0000 - val_tp: 368724.0000\n",
      "Epoch 53/100\n",
      "2344/2344 - 17s - 7ms/step - Brier score: 0.1549 - accuracy: 0.7785 - auc: 0.8975 - cross entropy: 0.4751 - fn: 963255.0000 - fp: 99884.0000 - loss: 0.0421 - prc: 0.9104 - precision: 0.9350 - recall: 0.5985 - tn: 2301046.0000 - tp: 1435815.0000 - val_Brier score: 0.1474 - val_accuracy: 0.7936 - val_auc: 0.9212 - val_cross entropy: 0.4592 - val_fn: 232954.0000 - val_fp: 14746.0000 - val_loss: 0.0377 - val_prc: 0.9320 - val_precision: 0.9615 - val_recall: 0.6123 - val_tn: 584324.0000 - val_tp: 367976.0000\n",
      "Epoch 54/100\n",
      "2344/2344 - 17s - 7ms/step - Brier score: 0.1548 - accuracy: 0.7791 - auc: 0.8976 - cross entropy: 0.4750 - fn: 960747.0000 - fp: 99778.0000 - loss: 0.0421 - prc: 0.9106 - precision: 0.9351 - recall: 0.5995 - tn: 2301152.0000 - tp: 1438323.0000 - val_Brier score: 0.1451 - val_accuracy: 0.7982 - val_auc: 0.9210 - val_cross entropy: 0.4534 - val_fn: 225087.0000 - val_fp: 17043.0000 - val_loss: 0.0375 - val_prc: 0.9318 - val_precision: 0.9566 - val_recall: 0.6254 - val_tn: 582027.0000 - val_tp: 375843.0000\n",
      "Epoch 55/100\n",
      "2344/2344 - 17s - 7ms/step - Brier score: 0.1547 - accuracy: 0.7790 - auc: 0.8978 - cross entropy: 0.4746 - fn: 960897.0000 - fp: 99809.0000 - loss: 0.0421 - prc: 0.9108 - precision: 0.9351 - recall: 0.5995 - tn: 2301121.0000 - tp: 1438173.0000 - val_Brier score: 0.1460 - val_accuracy: 0.7976 - val_auc: 0.9218 - val_cross entropy: 0.4556 - val_fn: 227167.0000 - val_fp: 15705.0000 - val_loss: 0.0374 - val_prc: 0.9326 - val_precision: 0.9597 - val_recall: 0.6220 - val_tn: 583365.0000 - val_tp: 373763.0000\n",
      "Epoch 56/100\n",
      "2344/2344 - 17s - 7ms/step - Brier score: 0.1546 - accuracy: 0.7791 - auc: 0.8979 - cross entropy: 0.4744 - fn: 960690.0000 - fp: 99762.0000 - loss: 0.0420 - prc: 0.9109 - precision: 0.9351 - recall: 0.5996 - tn: 2301168.0000 - tp: 1438380.0000 - val_Brier score: 0.1466 - val_accuracy: 0.7930 - val_auc: 0.9216 - val_cross entropy: 0.4565 - val_fn: 233861.0000 - val_fp: 14549.0000 - val_loss: 0.0375 - val_prc: 0.9322 - val_precision: 0.9619 - val_recall: 0.6108 - val_tn: 584521.0000 - val_tp: 367069.0000\n",
      "Epoch 57/100\n",
      "2344/2344 - 17s - 7ms/step - Brier score: 0.1545 - accuracy: 0.7792 - auc: 0.8981 - cross entropy: 0.4741 - fn: 960337.0000 - fp: 99380.0000 - loss: 0.0420 - prc: 0.9110 - precision: 0.9354 - recall: 0.5997 - tn: 2301550.0000 - tp: 1438733.0000 - val_Brier score: 0.1467 - val_accuracy: 0.7951 - val_auc: 0.9213 - val_cross entropy: 0.4570 - val_fn: 229842.0000 - val_fp: 16036.0000 - val_loss: 0.0376 - val_prc: 0.9320 - val_precision: 0.9586 - val_recall: 0.6175 - val_tn: 583034.0000 - val_tp: 371088.0000\n",
      "Epoch 58/100\n",
      "2344/2344 - 17s - 7ms/step - Brier score: 0.1545 - accuracy: 0.7791 - auc: 0.8980 - cross entropy: 0.4740 - fn: 960802.0000 - fp: 99550.0000 - loss: 0.0420 - prc: 0.9110 - precision: 0.9353 - recall: 0.5995 - tn: 2301380.0000 - tp: 1438268.0000 - val_Brier score: 0.1448 - val_accuracy: 0.7991 - val_auc: 0.9219 - val_cross entropy: 0.4525 - val_fn: 224648.0000 - val_fp: 16477.0000 - val_loss: 0.0373 - val_prc: 0.9327 - val_precision: 0.9580 - val_recall: 0.6262 - val_tn: 582593.0000 - val_tp: 376282.0000\n",
      "Epoch 59/100\n",
      "2344/2344 - 17s - 7ms/step - Brier score: 0.1545 - accuracy: 0.7795 - auc: 0.8982 - cross entropy: 0.4740 - fn: 958717.0000 - fp: 99719.0000 - loss: 0.0420 - prc: 0.9111 - precision: 0.9353 - recall: 0.6004 - tn: 2301211.0000 - tp: 1440353.0000 - val_Brier score: 0.1464 - val_accuracy: 0.7935 - val_auc: 0.9222 - val_cross entropy: 0.4563 - val_fn: 233274.0000 - val_fp: 14509.0000 - val_loss: 0.0374 - val_prc: 0.9327 - val_precision: 0.9620 - val_recall: 0.6118 - val_tn: 584561.0000 - val_tp: 367656.0000\n",
      "Epoch 60/100\n",
      "2344/2344 - 17s - 7ms/step - Brier score: 0.1543 - accuracy: 0.7795 - auc: 0.8983 - cross entropy: 0.4736 - fn: 959177.0000 - fp: 99275.0000 - loss: 0.0419 - prc: 0.9112 - precision: 0.9355 - recall: 0.6002 - tn: 2301655.0000 - tp: 1439893.0000 - val_Brier score: 0.1447 - val_accuracy: 0.7987 - val_auc: 0.9224 - val_cross entropy: 0.4522 - val_fn: 224862.0000 - val_fp: 16648.0000 - val_loss: 0.0373 - val_prc: 0.9329 - val_precision: 0.9576 - val_recall: 0.6258 - val_tn: 582422.0000 - val_tp: 376068.0000\n",
      "Epoch 61/100\n",
      "2344/2344 - 17s - 7ms/step - Brier score: 0.1542 - accuracy: 0.7798 - auc: 0.8985 - cross entropy: 0.4733 - fn: 957587.0000 - fp: 99401.0000 - loss: 0.0419 - prc: 0.9114 - precision: 0.9355 - recall: 0.6009 - tn: 2301529.0000 - tp: 1441483.0000 - val_Brier score: 0.1451 - val_accuracy: 0.7975 - val_auc: 0.9224 - val_cross entropy: 0.4532 - val_fn: 227274.0000 - val_fp: 15680.0000 - val_loss: 0.0373 - val_prc: 0.9329 - val_precision: 0.9597 - val_recall: 0.6218 - val_tn: 583390.0000 - val_tp: 373656.0000\n",
      "Epoch 62/100\n",
      "2344/2344 - 17s - 7ms/step - Brier score: 0.1542 - accuracy: 0.7798 - auc: 0.8985 - cross entropy: 0.4731 - fn: 957999.0000 - fp: 99067.0000 - loss: 0.0419 - prc: 0.9114 - precision: 0.9357 - recall: 0.6007 - tn: 2301863.0000 - tp: 1441071.0000 - val_Brier score: 0.1440 - val_accuracy: 0.8000 - val_auc: 0.9228 - val_cross entropy: 0.4506 - val_fn: 222950.0000 - val_fp: 17003.0000 - val_loss: 0.0372 - val_prc: 0.9332 - val_precision: 0.9570 - val_recall: 0.6290 - val_tn: 582067.0000 - val_tp: 377980.0000\n",
      "Epoch 63/100\n",
      "2344/2344 - 17s - 7ms/step - Brier score: 0.1542 - accuracy: 0.7801 - auc: 0.8985 - cross entropy: 0.4733 - fn: 956464.0000 - fp: 99217.0000 - loss: 0.0419 - prc: 0.9114 - precision: 0.9356 - recall: 0.6013 - tn: 2301713.0000 - tp: 1442606.0000 - val_Brier score: 0.1465 - val_accuracy: 0.7958 - val_auc: 0.9224 - val_cross entropy: 0.4570 - val_fn: 230024.0000 - val_fp: 15015.0000 - val_loss: 0.0374 - val_prc: 0.9329 - val_precision: 0.9611 - val_recall: 0.6172 - val_tn: 584055.0000 - val_tp: 370906.0000\n",
      "Epoch 64/100\n",
      "2344/2344 - 19s - 8ms/step - Brier score: 0.1541 - accuracy: 0.7800 - auc: 0.8986 - cross entropy: 0.4730 - fn: 956633.0000 - fp: 99400.0000 - loss: 0.0419 - prc: 0.9116 - precision: 0.9355 - recall: 0.6012 - tn: 2301530.0000 - tp: 1442437.0000 - val_Brier score: 0.1446 - val_accuracy: 0.7967 - val_auc: 0.9225 - val_cross entropy: 0.4517 - val_fn: 228550.0000 - val_fp: 15356.0000 - val_loss: 0.0372 - val_prc: 0.9330 - val_precision: 0.9604 - val_recall: 0.6197 - val_tn: 583714.0000 - val_tp: 372380.0000\n",
      "Epoch 65/100\n",
      "2344/2344 - 17s - 7ms/step - Brier score: 0.1539 - accuracy: 0.7802 - auc: 0.8989 - cross entropy: 0.4726 - fn: 955972.0000 - fp: 99250.0000 - loss: 0.0418 - prc: 0.9118 - precision: 0.9357 - recall: 0.6015 - tn: 2301680.0000 - tp: 1443098.0000 - val_Brier score: 0.1447 - val_accuracy: 0.8004 - val_auc: 0.9231 - val_cross entropy: 0.4524 - val_fn: 223323.0000 - val_fp: 16241.0000 - val_loss: 0.0371 - val_prc: 0.9337 - val_precision: 0.9588 - val_recall: 0.6284 - val_tn: 582829.0000 - val_tp: 377607.0000\n",
      "Epoch 66/100\n",
      "2344/2344 - 17s - 7ms/step - Brier score: 0.1540 - accuracy: 0.7803 - auc: 0.8988 - cross entropy: 0.4728 - fn: 955371.0000 - fp: 98968.0000 - loss: 0.0419 - prc: 0.9117 - precision: 0.9358 - recall: 0.6018 - tn: 2301962.0000 - tp: 1443699.0000 - val_Brier score: 0.1449 - val_accuracy: 0.7983 - val_auc: 0.9229 - val_cross entropy: 0.4524 - val_fn: 226405.0000 - val_fp: 15586.0000 - val_loss: 0.0372 - val_prc: 0.9335 - val_precision: 0.9600 - val_recall: 0.6232 - val_tn: 583484.0000 - val_tp: 374525.0000\n",
      "Epoch 67/100\n",
      "2344/2344 - 17s - 7ms/step - Brier score: 0.1538 - accuracy: 0.7807 - auc: 0.8990 - cross entropy: 0.4723 - fn: 953508.0000 - fp: 99061.0000 - loss: 0.0418 - prc: 0.9119 - precision: 0.9359 - recall: 0.6026 - tn: 2301869.0000 - tp: 1445562.0000 - val_Brier score: 0.1432 - val_accuracy: 0.8020 - val_auc: 0.9228 - val_cross entropy: 0.4482 - val_fn: 220575.0000 - val_fp: 17078.0000 - val_loss: 0.0371 - val_prc: 0.9333 - val_precision: 0.9570 - val_recall: 0.6329 - val_tn: 581992.0000 - val_tp: 380355.0000\n",
      "Epoch 68/100\n",
      "2344/2344 - 17s - 7ms/step - Brier score: 0.1538 - accuracy: 0.7809 - auc: 0.8990 - cross entropy: 0.4723 - fn: 952910.0000 - fp: 98958.0000 - loss: 0.0418 - prc: 0.9119 - precision: 0.9360 - recall: 0.6028 - tn: 2301972.0000 - tp: 1446160.0000 - val_Brier score: 0.1454 - val_accuracy: 0.7973 - val_auc: 0.9233 - val_cross entropy: 0.4539 - val_fn: 227853.0000 - val_fp: 15404.0000 - val_loss: 0.0372 - val_prc: 0.9337 - val_precision: 0.9603 - val_recall: 0.6208 - val_tn: 583666.0000 - val_tp: 373077.0000\n",
      "Epoch 69/100\n",
      "2344/2344 - 17s - 7ms/step - Brier score: 0.1537 - accuracy: 0.7808 - auc: 0.8992 - cross entropy: 0.4720 - fn: 952747.0000 - fp: 99290.0000 - loss: 0.0418 - prc: 0.9121 - precision: 0.9358 - recall: 0.6029 - tn: 2301640.0000 - tp: 1446323.0000 - val_Brier score: 0.1475 - val_accuracy: 0.7927 - val_auc: 0.9235 - val_cross entropy: 0.4594 - val_fn: 235752.0000 - val_fp: 13047.0000 - val_loss: 0.0373 - val_prc: 0.9341 - val_precision: 0.9655 - val_recall: 0.6077 - val_tn: 586023.0000 - val_tp: 365178.0000\n",
      "Epoch 70/100\n",
      "2344/2344 - 17s - 7ms/step - Brier score: 0.1537 - accuracy: 0.7808 - auc: 0.8992 - cross entropy: 0.4721 - fn: 952831.0000 - fp: 99207.0000 - loss: 0.0418 - prc: 0.9121 - precision: 0.9358 - recall: 0.6028 - tn: 2301723.0000 - tp: 1446239.0000 - val_Brier score: 0.1458 - val_accuracy: 0.7959 - val_auc: 0.9231 - val_cross entropy: 0.4549 - val_fn: 230078.0000 - val_fp: 14825.0000 - val_loss: 0.0372 - val_prc: 0.9335 - val_precision: 0.9616 - val_recall: 0.6171 - val_tn: 584245.0000 - val_tp: 370852.0000\n",
      "Epoch 71/100\n",
      "2344/2344 - 17s - 7ms/step - Brier score: 0.1536 - accuracy: 0.7811 - auc: 0.8994 - cross entropy: 0.4718 - fn: 952495.0000 - fp: 98231.0000 - loss: 0.0417 - prc: 0.9122 - precision: 0.9364 - recall: 0.6030 - tn: 2302699.0000 - tp: 1446575.0000 - val_Brier score: 0.1453 - val_accuracy: 0.7985 - val_auc: 0.9231 - val_cross entropy: 0.4542 - val_fn: 226466.0000 - val_fp: 15298.0000 - val_loss: 0.0372 - val_prc: 0.9335 - val_precision: 0.9608 - val_recall: 0.6231 - val_tn: 583772.0000 - val_tp: 374464.0000\n",
      "Epoch 72/100\n",
      "2344/2344 - 17s - 7ms/step - Brier score: 0.1535 - accuracy: 0.7810 - auc: 0.8994 - cross entropy: 0.4716 - fn: 952446.0000 - fp: 98766.0000 - loss: 0.0417 - prc: 0.9123 - precision: 0.9361 - recall: 0.6030 - tn: 2302164.0000 - tp: 1446624.0000 - val_Brier score: 0.1453 - val_accuracy: 0.7971 - val_auc: 0.9233 - val_cross entropy: 0.4537 - val_fn: 228285.0000 - val_fp: 15166.0000 - val_loss: 0.0372 - val_prc: 0.9337 - val_precision: 0.9609 - val_recall: 0.6201 - val_tn: 583904.0000 - val_tp: 372645.0000\n",
      "Epoch 73/100\n",
      "2344/2344 - 17s - 7ms/step - Brier score: 0.1535 - accuracy: 0.7812 - auc: 0.8995 - cross entropy: 0.4716 - fn: 951192.0000 - fp: 99047.0000 - loss: 0.0417 - prc: 0.9123 - precision: 0.9360 - recall: 0.6035 - tn: 2301883.0000 - tp: 1447878.0000 - val_Brier score: 0.1450 - val_accuracy: 0.7991 - val_auc: 0.9238 - val_cross entropy: 0.4530 - val_fn: 225760.0000 - val_fp: 15323.0000 - val_loss: 0.0371 - val_prc: 0.9342 - val_precision: 0.9608 - val_recall: 0.6243 - val_tn: 583747.0000 - val_tp: 375170.0000\n",
      "Epoch 74/100\n",
      "2344/2344 - 17s - 7ms/step - Brier score: 0.1534 - accuracy: 0.7813 - auc: 0.8996 - cross entropy: 0.4714 - fn: 950702.0000 - fp: 98932.0000 - loss: 0.0417 - prc: 0.9124 - precision: 0.9361 - recall: 0.6037 - tn: 2301998.0000 - tp: 1448368.0000 - val_Brier score: 0.1454 - val_accuracy: 0.7981 - val_auc: 0.9239 - val_cross entropy: 0.4539 - val_fn: 226944.0000 - val_fp: 15328.0000 - val_loss: 0.0371 - val_prc: 0.9342 - val_precision: 0.9606 - val_recall: 0.6223 - val_tn: 583742.0000 - val_tp: 373986.0000\n",
      "Epoch 75/100\n",
      "2344/2344 - 17s - 7ms/step - Brier score: 0.1534 - accuracy: 0.7813 - auc: 0.8996 - cross entropy: 0.4713 - fn: 950671.0000 - fp: 99149.0000 - loss: 0.0417 - prc: 0.9124 - precision: 0.9359 - recall: 0.6037 - tn: 2301781.0000 - tp: 1448399.0000 - val_Brier score: 0.1451 - val_accuracy: 0.7987 - val_auc: 0.9236 - val_cross entropy: 0.4534 - val_fn: 226214.0000 - val_fp: 15297.0000 - val_loss: 0.0371 - val_prc: 0.9341 - val_precision: 0.9608 - val_recall: 0.6236 - val_tn: 583773.0000 - val_tp: 374716.0000\n",
      "Epoch 76/100\n",
      "2344/2344 - 17s - 7ms/step - Brier score: 0.1534 - accuracy: 0.7815 - auc: 0.8997 - cross entropy: 0.4713 - fn: 950167.0000 - fp: 98695.0000 - loss: 0.0417 - prc: 0.9125 - precision: 0.9362 - recall: 0.6039 - tn: 2302235.0000 - tp: 1448903.0000 - val_Brier score: 0.1453 - val_accuracy: 0.7992 - val_auc: 0.9238 - val_cross entropy: 0.4542 - val_fn: 225599.0000 - val_fp: 15406.0000 - val_loss: 0.0371 - val_prc: 0.9342 - val_precision: 0.9606 - val_recall: 0.6246 - val_tn: 583664.0000 - val_tp: 375331.0000\n",
      "Epoch 77/100\n",
      "2344/2344 - 17s - 7ms/step - Brier score: 0.1533 - accuracy: 0.7818 - auc: 0.8998 - cross entropy: 0.4710 - fn: 948804.0000 - fp: 98706.0000 - loss: 0.0417 - prc: 0.9127 - precision: 0.9363 - recall: 0.6045 - tn: 2302224.0000 - tp: 1450266.0000 - val_Brier score: 0.1448 - val_accuracy: 0.7980 - val_auc: 0.9242 - val_cross entropy: 0.4527 - val_fn: 227354.0000 - val_fp: 15013.0000 - val_loss: 0.0370 - val_prc: 0.9344 - val_precision: 0.9614 - val_recall: 0.6217 - val_tn: 584057.0000 - val_tp: 373576.0000\n",
      "Epoch 78/100\n",
      "2344/2344 - 17s - 7ms/step - Brier score: 0.1532 - accuracy: 0.7818 - auc: 0.9000 - cross entropy: 0.4708 - fn: 948473.0000 - fp: 98871.0000 - loss: 0.0416 - prc: 0.9128 - precision: 0.9362 - recall: 0.6046 - tn: 2302059.0000 - tp: 1450597.0000 - val_Brier score: 0.1439 - val_accuracy: 0.8018 - val_auc: 0.9244 - val_cross entropy: 0.4507 - val_fn: 221423.0000 - val_fp: 16368.0000 - val_loss: 0.0369 - val_prc: 0.9345 - val_precision: 0.9587 - val_recall: 0.6315 - val_tn: 582702.0000 - val_tp: 379507.0000\n",
      "Epoch 79/100\n",
      "2344/2344 - 17s - 7ms/step - Brier score: 0.1531 - accuracy: 0.7818 - auc: 0.9000 - cross entropy: 0.4707 - fn: 948805.0000 - fp: 98684.0000 - loss: 0.0416 - prc: 0.9128 - precision: 0.9363 - recall: 0.6045 - tn: 2302246.0000 - tp: 1450265.0000 - val_Brier score: 0.1444 - val_accuracy: 0.7983 - val_auc: 0.9241 - val_cross entropy: 0.4513 - val_fn: 227137.0000 - val_fp: 14859.0000 - val_loss: 0.0370 - val_prc: 0.9345 - val_precision: 0.9618 - val_recall: 0.6220 - val_tn: 584211.0000 - val_tp: 373793.0000\n",
      "Epoch 80/100\n",
      "2344/2344 - 17s - 7ms/step - Brier score: 0.1531 - accuracy: 0.7821 - auc: 0.9000 - cross entropy: 0.4707 - fn: 947233.0000 - fp: 98574.0000 - loss: 0.0416 - prc: 0.9129 - precision: 0.9364 - recall: 0.6052 - tn: 2302356.0000 - tp: 1451837.0000 - val_Brier score: 0.1438 - val_accuracy: 0.8001 - val_auc: 0.9246 - val_cross entropy: 0.4498 - val_fn: 224652.0000 - val_fp: 15272.0000 - val_loss: 0.0368 - val_prc: 0.9349 - val_precision: 0.9610 - val_recall: 0.6262 - val_tn: 583798.0000 - val_tp: 376278.0000\n",
      "Epoch 81/100\n",
      "2344/2344 - 17s - 7ms/step - Brier score: 0.1530 - accuracy: 0.7820 - auc: 0.9001 - cross entropy: 0.4704 - fn: 948164.0000 - fp: 98421.0000 - loss: 0.0416 - prc: 0.9129 - precision: 0.9365 - recall: 0.6048 - tn: 2302509.0000 - tp: 1450906.0000 - val_Brier score: 0.1444 - val_accuracy: 0.7995 - val_auc: 0.9239 - val_cross entropy: 0.4517 - val_fn: 224935.0000 - val_fp: 15635.0000 - val_loss: 0.0370 - val_prc: 0.9343 - val_precision: 0.9601 - val_recall: 0.6257 - val_tn: 583435.0000 - val_tp: 375995.0000\n",
      "Epoch 82/100\n",
      "2344/2344 - 17s - 7ms/step - Brier score: 0.1531 - accuracy: 0.7820 - auc: 0.9001 - cross entropy: 0.4707 - fn: 947467.0000 - fp: 98800.0000 - loss: 0.0416 - prc: 0.9129 - precision: 0.9363 - recall: 0.6051 - tn: 2302130.0000 - tp: 1451603.0000 - val_Brier score: 0.1436 - val_accuracy: 0.8010 - val_auc: 0.9246 - val_cross entropy: 0.4497 - val_fn: 223720.0000 - val_fp: 15127.0000 - val_loss: 0.0368 - val_prc: 0.9350 - val_precision: 0.9614 - val_recall: 0.6277 - val_tn: 583943.0000 - val_tp: 377210.0000\n",
      "Epoch 83/100\n",
      "2344/2344 - 18s - 7ms/step - Brier score: 0.1529 - accuracy: 0.7822 - auc: 0.9003 - cross entropy: 0.4699 - fn: 947548.0000 - fp: 98024.0000 - loss: 0.0416 - prc: 0.9131 - precision: 0.9367 - recall: 0.6050 - tn: 2302906.0000 - tp: 1451522.0000 - val_Brier score: 0.1455 - val_accuracy: 0.7984 - val_auc: 0.9244 - val_cross entropy: 0.4543 - val_fn: 227074.0000 - val_fp: 14812.0000 - val_loss: 0.0370 - val_prc: 0.9347 - val_precision: 0.9619 - val_recall: 0.6221 - val_tn: 584258.0000 - val_tp: 373856.0000\n",
      "Epoch 84/100\n",
      "2344/2344 - 17s - 7ms/step - Brier score: 0.1529 - accuracy: 0.7823 - auc: 0.9003 - cross entropy: 0.4701 - fn: 946500.0000 - fp: 98518.0000 - loss: 0.0416 - prc: 0.9131 - precision: 0.9365 - recall: 0.6055 - tn: 2302412.0000 - tp: 1452570.0000 - val_Brier score: 0.1448 - val_accuracy: 0.7972 - val_auc: 0.9247 - val_cross entropy: 0.4524 - val_fn: 229089.0000 - val_fp: 14262.0000 - val_loss: 0.0369 - val_prc: 0.9350 - val_precision: 0.9631 - val_recall: 0.6188 - val_tn: 584808.0000 - val_tp: 371841.0000\n",
      "Epoch 85/100\n",
      "2344/2344 - 17s - 7ms/step - Brier score: 0.1529 - accuracy: 0.7821 - auc: 0.9004 - cross entropy: 0.4700 - fn: 947859.0000 - fp: 98030.0000 - loss: 0.0415 - prc: 0.9131 - precision: 0.9367 - recall: 0.6049 - tn: 2302900.0000 - tp: 1451211.0000 - val_Brier score: 0.1436 - val_accuracy: 0.8006 - val_auc: 0.9243 - val_cross entropy: 0.4496 - val_fn: 223056.0000 - val_fp: 16171.0000 - val_loss: 0.0368 - val_prc: 0.9347 - val_precision: 0.9590 - val_recall: 0.6288 - val_tn: 582899.0000 - val_tp: 377874.0000\n",
      "Epoch 86/100\n",
      "2344/2344 - 17s - 7ms/step - Brier score: 0.1529 - accuracy: 0.7822 - auc: 0.9004 - cross entropy: 0.4700 - fn: 947234.0000 - fp: 98236.0000 - loss: 0.0416 - prc: 0.9131 - precision: 0.9366 - recall: 0.6052 - tn: 2302694.0000 - tp: 1451836.0000 - val_Brier score: 0.1440 - val_accuracy: 0.8000 - val_auc: 0.9246 - val_cross entropy: 0.4507 - val_fn: 224979.0000 - val_fp: 14963.0000 - val_loss: 0.0368 - val_prc: 0.9350 - val_precision: 0.9617 - val_recall: 0.6256 - val_tn: 584107.0000 - val_tp: 375951.0000\n",
      "Epoch 87/100\n",
      "2344/2344 - 17s - 7ms/step - Brier score: 0.1528 - accuracy: 0.7825 - auc: 0.9005 - cross entropy: 0.4698 - fn: 945653.0000 - fp: 98161.0000 - loss: 0.0415 - prc: 0.9133 - precision: 0.9367 - recall: 0.6058 - tn: 2302769.0000 - tp: 1453417.0000 - val_Brier score: 0.1438 - val_accuracy: 0.7986 - val_auc: 0.9246 - val_cross entropy: 0.4501 - val_fn: 226703.0000 - val_fp: 14980.0000 - val_loss: 0.0368 - val_prc: 0.9349 - val_precision: 0.9615 - val_recall: 0.6227 - val_tn: 584090.0000 - val_tp: 374227.0000\n",
      "Epoch 88/100\n",
      "2344/2344 - 17s - 7ms/step - Brier score: 0.1527 - accuracy: 0.7826 - auc: 0.9006 - cross entropy: 0.4695 - fn: 945201.0000 - fp: 98127.0000 - loss: 0.0415 - prc: 0.9134 - precision: 0.9368 - recall: 0.6060 - tn: 2302803.0000 - tp: 1453869.0000 - val_Brier score: 0.1425 - val_accuracy: 0.8022 - val_auc: 0.9253 - val_cross entropy: 0.4467 - val_fn: 221980.0000 - val_fp: 15408.0000 - val_loss: 0.0366 - val_prc: 0.9355 - val_precision: 0.9609 - val_recall: 0.6306 - val_tn: 583662.0000 - val_tp: 378950.0000\n",
      "Epoch 89/100\n",
      "2344/2344 - 17s - 7ms/step - Brier score: 0.1527 - accuracy: 0.7829 - auc: 0.9006 - cross entropy: 0.4697 - fn: 943588.0000 - fp: 98434.0000 - loss: 0.0415 - prc: 0.9133 - precision: 0.9367 - recall: 0.6067 - tn: 2302496.0000 - tp: 1455482.0000 - val_Brier score: 0.1435 - val_accuracy: 0.8011 - val_auc: 0.9249 - val_cross entropy: 0.4492 - val_fn: 223367.0000 - val_fp: 15280.0000 - val_loss: 0.0368 - val_prc: 0.9351 - val_precision: 0.9611 - val_recall: 0.6283 - val_tn: 583790.0000 - val_tp: 377563.0000\n",
      "Epoch 90/100\n",
      "2344/2344 - 18s - 7ms/step - Brier score: 0.1527 - accuracy: 0.7828 - auc: 0.9007 - cross entropy: 0.4696 - fn: 944179.0000 - fp: 98332.0000 - loss: 0.0415 - prc: 0.9134 - precision: 0.9367 - recall: 0.6064 - tn: 2302598.0000 - tp: 1454891.0000 - val_Brier score: 0.1424 - val_accuracy: 0.8020 - val_auc: 0.9253 - val_cross entropy: 0.4466 - val_fn: 221879.0000 - val_fp: 15664.0000 - val_loss: 0.0366 - val_prc: 0.9354 - val_precision: 0.9603 - val_recall: 0.6308 - val_tn: 583406.0000 - val_tp: 379051.0000\n",
      "Epoch 91/100\n",
      "2344/2344 - 17s - 7ms/step - Brier score: 0.1526 - accuracy: 0.7826 - auc: 0.9006 - cross entropy: 0.4695 - fn: 945600.0000 - fp: 98123.0000 - loss: 0.0415 - prc: 0.9134 - precision: 0.9368 - recall: 0.6058 - tn: 2302807.0000 - tp: 1453470.0000 - val_Brier score: 0.1437 - val_accuracy: 0.7995 - val_auc: 0.9249 - val_cross entropy: 0.4499 - val_fn: 225284.0000 - val_fp: 15337.0000 - val_loss: 0.0368 - val_prc: 0.9351 - val_precision: 0.9608 - val_recall: 0.6251 - val_tn: 583733.0000 - val_tp: 375646.0000\n",
      "Epoch 92/100\n",
      "2344/2344 - 17s - 7ms/step - Brier score: 0.1526 - accuracy: 0.7827 - auc: 0.9007 - cross entropy: 0.4694 - fn: 944804.0000 - fp: 98408.0000 - loss: 0.0415 - prc: 0.9134 - precision: 0.9366 - recall: 0.6062 - tn: 2302522.0000 - tp: 1454266.0000 - val_Brier score: 0.1433 - val_accuracy: 0.8023 - val_auc: 0.9247 - val_cross entropy: 0.4491 - val_fn: 221306.0000 - val_fp: 15920.0000 - val_loss: 0.0368 - val_prc: 0.9350 - val_precision: 0.9598 - val_recall: 0.6317 - val_tn: 583150.0000 - val_tp: 379624.0000\n",
      "Epoch 93/100\n",
      "2344/2344 - 17s - 7ms/step - Brier score: 0.1525 - accuracy: 0.7832 - auc: 0.9008 - cross entropy: 0.4690 - fn: 942642.0000 - fp: 98177.0000 - loss: 0.0414 - prc: 0.9136 - precision: 0.9368 - recall: 0.6071 - tn: 2302753.0000 - tp: 1456428.0000 - val_Brier score: 0.1436 - val_accuracy: 0.8005 - val_auc: 0.9247 - val_cross entropy: 0.4499 - val_fn: 223689.0000 - val_fp: 15653.0000 - val_loss: 0.0368 - val_prc: 0.9349 - val_precision: 0.9602 - val_recall: 0.6278 - val_tn: 583417.0000 - val_tp: 377241.0000\n",
      "Epoch 94/100\n",
      "2344/2344 - 17s - 7ms/step - Brier score: 0.1524 - accuracy: 0.7833 - auc: 0.9009 - cross entropy: 0.4690 - fn: 941524.0000 - fp: 98414.0000 - loss: 0.0414 - prc: 0.9137 - precision: 0.9368 - recall: 0.6075 - tn: 2302516.0000 - tp: 1457546.0000 - val_Brier score: 0.1443 - val_accuracy: 0.7997 - val_auc: 0.9254 - val_cross entropy: 0.4517 - val_fn: 225805.0000 - val_fp: 14527.0000 - val_loss: 0.0367 - val_prc: 0.9357 - val_precision: 0.9627 - val_recall: 0.6242 - val_tn: 584543.0000 - val_tp: 375125.0000\n",
      "Epoch 95/100\n",
      "2344/2344 - 17s - 7ms/step - Brier score: 0.1524 - accuracy: 0.7832 - auc: 0.9010 - cross entropy: 0.4690 - fn: 942538.0000 - fp: 97994.0000 - loss: 0.0414 - prc: 0.9137 - precision: 0.9370 - recall: 0.6071 - tn: 2302936.0000 - tp: 1456532.0000 - val_Brier score: 0.1431 - val_accuracy: 0.8006 - val_auc: 0.9254 - val_cross entropy: 0.4481 - val_fn: 224149.0000 - val_fp: 15078.0000 - val_loss: 0.0366 - val_prc: 0.9356 - val_precision: 0.9615 - val_recall: 0.6270 - val_tn: 583992.0000 - val_tp: 376781.0000\n",
      "Epoch 96/100\n",
      "2344/2344 - 17s - 7ms/step - Brier score: 0.1523 - accuracy: 0.7834 - auc: 0.9011 - cross entropy: 0.4687 - fn: 941362.0000 - fp: 98342.0000 - loss: 0.0414 - prc: 0.9138 - precision: 0.9368 - recall: 0.6076 - tn: 2302588.0000 - tp: 1457708.0000 - val_Brier score: 0.1434 - val_accuracy: 0.7987 - val_auc: 0.9255 - val_cross entropy: 0.4486 - val_fn: 227289.0000 - val_fp: 14245.0000 - val_loss: 0.0367 - val_prc: 0.9356 - val_precision: 0.9633 - val_recall: 0.6218 - val_tn: 584825.0000 - val_tp: 373641.0000\n",
      "Epoch 97/100\n",
      "2344/2344 - 17s - 7ms/step - Brier score: 0.1523 - accuracy: 0.7832 - auc: 0.9011 - cross entropy: 0.4686 - fn: 942215.0000 - fp: 98339.0000 - loss: 0.0414 - prc: 0.9138 - precision: 0.9368 - recall: 0.6073 - tn: 2302591.0000 - tp: 1456855.0000 - val_Brier score: 0.1425 - val_accuracy: 0.8030 - val_auc: 0.9259 - val_cross entropy: 0.4469 - val_fn: 220336.0000 - val_fp: 16089.0000 - val_loss: 0.0365 - val_prc: 0.9360 - val_precision: 0.9594 - val_recall: 0.6333 - val_tn: 582981.0000 - val_tp: 380594.0000\n",
      "Epoch 98/100\n",
      "2344/2344 - 17s - 7ms/step - Brier score: 0.1523 - accuracy: 0.7834 - auc: 0.9011 - cross entropy: 0.4687 - fn: 941879.0000 - fp: 97907.0000 - loss: 0.0414 - prc: 0.9138 - precision: 0.9370 - recall: 0.6074 - tn: 2303023.0000 - tp: 1457191.0000 - val_Brier score: 0.1443 - val_accuracy: 0.7977 - val_auc: 0.9257 - val_cross entropy: 0.4510 - val_fn: 228977.0000 - val_fp: 13789.0000 - val_loss: 0.0367 - val_prc: 0.9359 - val_precision: 0.9643 - val_recall: 0.6190 - val_tn: 585281.0000 - val_tp: 371953.0000\n",
      "Epoch 99/100\n",
      "2344/2344 - 18s - 8ms/step - Brier score: 0.1522 - accuracy: 0.7836 - auc: 0.9012 - cross entropy: 0.4684 - fn: 940879.0000 - fp: 97847.0000 - loss: 0.0414 - prc: 0.9139 - precision: 0.9371 - recall: 0.6078 - tn: 2303083.0000 - tp: 1458191.0000 - val_Brier score: 0.1432 - val_accuracy: 0.8023 - val_auc: 0.9256 - val_cross entropy: 0.4486 - val_fn: 222366.0000 - val_fp: 14838.0000 - val_loss: 0.0366 - val_prc: 0.9358 - val_precision: 0.9623 - val_recall: 0.6300 - val_tn: 584232.0000 - val_tp: 378564.0000\n",
      "Epoch 100/100\n",
      "2344/2344 - 17s - 7ms/step - Brier score: 0.1523 - accuracy: 0.7834 - auc: 0.9012 - cross entropy: 0.4685 - fn: 941373.0000 - fp: 98231.0000 - loss: 0.0414 - prc: 0.9139 - precision: 0.9369 - recall: 0.6076 - tn: 2302699.0000 - tp: 1457697.0000 - val_Brier score: 0.1430 - val_accuracy: 0.8006 - val_auc: 0.9257 - val_cross entropy: 0.4481 - val_fn: 224380.0000 - val_fp: 14889.0000 - val_loss: 0.0366 - val_prc: 0.9357 - val_precision: 0.9620 - val_recall: 0.6266 - val_tn: 584181.0000 - val_tp: 376550.0000\n",
      "Restoring model weights from the end of the best epoch: 97.\n"
     ]
    }
   ],
   "source": [
    "import keras_tuner as kt\n",
    "def model_builder(hp):\n",
    "    categorical_feature_inputs = []\n",
    "    embedding_outputs = []\n",
    "    for i, col in enumerate(categorical_cols):\n",
    "        num_categories = len(label_encoders[col].classes_)\n",
    "        embedding_dim = min(50, num_categories // 2)\n",
    "        embedding_dim = max(2, embedding_dim)\n",
    "        input_layer = keras.Input(shape=(1,), name=f'{col}_input')\n",
    "        categorical_feature_inputs.append(input_layer)\n",
    "        embedding = keras.layers.Embedding(\n",
    "            input_dim=num_categories,\n",
    "            output_dim=embedding_dim,\n",
    "            input_length=1,\n",
    "            name=f'{col}_embedding'\n",
    "        )(input_layer)\n",
    "        flattened = keras.layers.Flatten(name=f'{col}_flatten')(embedding)\n",
    "        embedding_outputs.append(flattened)\n",
    "\n",
    "    if numerical_cols:\n",
    "        numerical_input = keras.Input(shape=(len(numerical_cols),), name='numerical_input')\n",
    "        categorical_feature_inputs.append(numerical_input)\n",
    "        embedding_outputs.append(numerical_input)\n",
    "\n",
    "    if len(embedding_outputs) > 1:\n",
    "        combined = keras.layers.Concatenate()(embedding_outputs)\n",
    "    else:\n",
    "        combined = embedding_outputs[0]\n",
    "\n",
    "    # Tunable dense layers\n",
    "    x = keras.layers.Dense(\n",
    "        units=hp.Int('dense_1_units', min_value=64, max_value=256, step=32),\n",
    "        activation='relu'\n",
    "    )(combined)\n",
    "    x = keras.layers.Dropout(\n",
    "        hp.Float('dropout_1', min_value=0.3, max_value=0.6, step=0.1)\n",
    "    )(x)\n",
    "\n",
    "    for i in range(hp.Int('num_layers', 1, 3)):\n",
    "        x = keras.layers.Dense(\n",
    "            units=hp.Int(f'dense_{i}_units', min_value=32, max_value=128, step=32),\n",
    "            activation='relu'\n",
    "        )(x)\n",
    "        x = keras.layers.Dropout(\n",
    "            hp.Float(f'dropout_{i}', min_value=0.2, max_value=0.5, step=0.1)\n",
    "        )(x)\n",
    "\n",
    "    optimizer_choice = hp.Choice('optimizer', ['adam', 'rmsprop'])\n",
    "    learning_rate = hp.Float('lr', min_value=1e-4, max_value=1e-2, sampling='log')\n",
    "    if optimizer_choice == 'adam':\n",
    "        opt = keras.optimizers.Adam(learning_rate=learning_rate)\n",
    "    else:\n",
    "        opt = keras.optimizers.RMSprop(learning_rate=learning_rate)\n",
    "\n",
    "    output = keras.layers.Dense(1, activation='sigmoid')(x)\n",
    "    model = keras.Model(inputs=categorical_feature_inputs, outputs=output)\n",
    "    model.compile(\n",
    "        optimizer=opt,\n",
    "        loss=keras.losses.BinaryFocalCrossentropy(apply_class_balancing=True),\n",
    "        metrics=METRICS\n",
    "    )\n",
    "    return model\n",
    "tuner = kt.Hyperband(\n",
    "    model_builder,\n",
    "    objective=kt.Objective(\"val_recall\", direction=\"max\"),\n",
    "    max_epochs=30,\n",
    "    factor=3,\n",
    "    directory='hyper_tuning',\n",
    "    project_name='fraud_detection'\n",
    ")\n",
    "\n",
    "stop_early = tf.keras.callbacks.EarlyStopping(\n",
    "    monitor='val_recall',\n",
    "    patience=5,\n",
    "    mode='max'\n",
    ")\n",
    "\n",
    "print(\"Starting hyperparameter search...\")\n",
    "tuner.search(\n",
    "    train_inputs,\n",
    "    train_labels,\n",
    "    epochs=50,\n",
    "    validation_data=(val_inputs, val_labels),\n",
    "    callbacks=[stop_early],\n",
    "    batch_size=BATCH_SIZE,\n",
    "    verbose=2\n",
    ")\n",
    "best_hps = tuner.get_best_hyperparameters(num_trials=1)[0]\n",
    "print(f\"\"\"\n",
    "Optimal hyperparameters:\n",
    "- Dense 1 units: {best_hps.get('dense_1_units')}\n",
    "- Dropout 1 rate: {best_hps.get('dropout_1')}\n",
    "- Number of additional layers: {best_hps.get('num_layers')}\n",
    "- Optimizer: {best_hps.get('optimizer')}\n",
    "- Learning rate: {best_hps.get('lr')}\n",
    "\"\"\")\n",
    "\n",
    "final_model = tuner.hypermodel.build(best_hps)\n",
    "final_history = final_model.fit(\n",
    "    train_inputs,\n",
    "    train_labels,\n",
    "    validation_data=(val_inputs, val_labels),\n",
    "    epochs=EPOCHS,\n",
    "    batch_size=BATCH_SIZE,\n",
    "    callbacks=[early_stopping()],\n",
    "    verbose=2\n",
    ")\n"
   ]
  },
  {
   "cell_type": "code",
   "execution_count": 17,
   "id": "325ba8fc-a567-4a6d-beb5-32503b622cb6",
   "metadata": {},
   "outputs": [
    {
     "data": {
      "text/html": [
       "<pre style=\"white-space:pre;overflow-x:auto;line-height:normal;font-family:Menlo,'DejaVu Sans Mono',consolas,'Courier New',monospace\"><span style=\"font-weight: bold\">Model: \"functional_1\"</span>\n",
       "</pre>\n"
      ],
      "text/plain": [
       "\u001b[1mModel: \"functional_1\"\u001b[0m\n"
      ]
     },
     "metadata": {},
     "output_type": "display_data"
    },
    {
     "data": {
      "text/html": [
       "<pre style=\"white-space:pre;overflow-x:auto;line-height:normal;font-family:Menlo,'DejaVu Sans Mono',consolas,'Courier New',monospace\">┏━━━━━━━━━━━━━━━━━━━━━━━━━━━━━━━━━━━━━━┳━━━━━━━━━━━━━━━━━━━━━━━━━━━━━┳━━━━━━━━━━━━━━━━━┓\n",
       "┃<span style=\"font-weight: bold\"> Layer (type)                         </span>┃<span style=\"font-weight: bold\"> Output Shape                </span>┃<span style=\"font-weight: bold\">         Param # </span>┃\n",
       "┡━━━━━━━━━━━━━━━━━━━━━━━━━━━━━━━━━━━━━━╇━━━━━━━━━━━━━━━━━━━━━━━━━━━━━╇━━━━━━━━━━━━━━━━━┩\n",
       "│ numerical_input (<span style=\"color: #0087ff; text-decoration-color: #0087ff\">InputLayer</span>)         │ (<span style=\"color: #00d7ff; text-decoration-color: #00d7ff\">None</span>, <span style=\"color: #00af00; text-decoration-color: #00af00\">44</span>)                  │               <span style=\"color: #00af00; text-decoration-color: #00af00\">0</span> │\n",
       "├──────────────────────────────────────┼─────────────────────────────┼─────────────────┤\n",
       "│ dense_6 (<span style=\"color: #0087ff; text-decoration-color: #0087ff\">Dense</span>)                      │ (<span style=\"color: #00d7ff; text-decoration-color: #00d7ff\">None</span>, <span style=\"color: #00af00; text-decoration-color: #00af00\">160</span>)                 │           <span style=\"color: #00af00; text-decoration-color: #00af00\">7,200</span> │\n",
       "├──────────────────────────────────────┼─────────────────────────────┼─────────────────┤\n",
       "│ dropout_4 (<span style=\"color: #0087ff; text-decoration-color: #0087ff\">Dropout</span>)                  │ (<span style=\"color: #00d7ff; text-decoration-color: #00d7ff\">None</span>, <span style=\"color: #00af00; text-decoration-color: #00af00\">160</span>)                 │               <span style=\"color: #00af00; text-decoration-color: #00af00\">0</span> │\n",
       "├──────────────────────────────────────┼─────────────────────────────┼─────────────────┤\n",
       "│ batch_normalization                  │ (<span style=\"color: #00d7ff; text-decoration-color: #00d7ff\">None</span>, <span style=\"color: #00af00; text-decoration-color: #00af00\">160</span>)                 │             <span style=\"color: #00af00; text-decoration-color: #00af00\">640</span> │\n",
       "│ (<span style=\"color: #0087ff; text-decoration-color: #0087ff\">BatchNormalization</span>)                 │                             │                 │\n",
       "├──────────────────────────────────────┼─────────────────────────────┼─────────────────┤\n",
       "│ dense_7 (<span style=\"color: #0087ff; text-decoration-color: #0087ff\">Dense</span>)                      │ (<span style=\"color: #00d7ff; text-decoration-color: #00d7ff\">None</span>, <span style=\"color: #00af00; text-decoration-color: #00af00\">64</span>)                  │          <span style=\"color: #00af00; text-decoration-color: #00af00\">10,304</span> │\n",
       "├──────────────────────────────────────┼─────────────────────────────┼─────────────────┤\n",
       "│ dropout_5 (<span style=\"color: #0087ff; text-decoration-color: #0087ff\">Dropout</span>)                  │ (<span style=\"color: #00d7ff; text-decoration-color: #00d7ff\">None</span>, <span style=\"color: #00af00; text-decoration-color: #00af00\">64</span>)                  │               <span style=\"color: #00af00; text-decoration-color: #00af00\">0</span> │\n",
       "├──────────────────────────────────────┼─────────────────────────────┼─────────────────┤\n",
       "│ dense_8 (<span style=\"color: #0087ff; text-decoration-color: #0087ff\">Dense</span>)                      │ (<span style=\"color: #00d7ff; text-decoration-color: #00d7ff\">None</span>, <span style=\"color: #00af00; text-decoration-color: #00af00\">1</span>)                   │              <span style=\"color: #00af00; text-decoration-color: #00af00\">65</span> │\n",
       "└──────────────────────────────────────┴─────────────────────────────┴─────────────────┘\n",
       "</pre>\n"
      ],
      "text/plain": [
       "┏━━━━━━━━━━━━━━━━━━━━━━━━━━━━━━━━━━━━━━┳━━━━━━━━━━━━━━━━━━━━━━━━━━━━━┳━━━━━━━━━━━━━━━━━┓\n",
       "┃\u001b[1m \u001b[0m\u001b[1mLayer (type)                        \u001b[0m\u001b[1m \u001b[0m┃\u001b[1m \u001b[0m\u001b[1mOutput Shape               \u001b[0m\u001b[1m \u001b[0m┃\u001b[1m \u001b[0m\u001b[1m        Param #\u001b[0m\u001b[1m \u001b[0m┃\n",
       "┡━━━━━━━━━━━━━━━━━━━━━━━━━━━━━━━━━━━━━━╇━━━━━━━━━━━━━━━━━━━━━━━━━━━━━╇━━━━━━━━━━━━━━━━━┩\n",
       "│ numerical_input (\u001b[38;5;33mInputLayer\u001b[0m)         │ (\u001b[38;5;45mNone\u001b[0m, \u001b[38;5;34m44\u001b[0m)                  │               \u001b[38;5;34m0\u001b[0m │\n",
       "├──────────────────────────────────────┼─────────────────────────────┼─────────────────┤\n",
       "│ dense_6 (\u001b[38;5;33mDense\u001b[0m)                      │ (\u001b[38;5;45mNone\u001b[0m, \u001b[38;5;34m160\u001b[0m)                 │           \u001b[38;5;34m7,200\u001b[0m │\n",
       "├──────────────────────────────────────┼─────────────────────────────┼─────────────────┤\n",
       "│ dropout_4 (\u001b[38;5;33mDropout\u001b[0m)                  │ (\u001b[38;5;45mNone\u001b[0m, \u001b[38;5;34m160\u001b[0m)                 │               \u001b[38;5;34m0\u001b[0m │\n",
       "├──────────────────────────────────────┼─────────────────────────────┼─────────────────┤\n",
       "│ batch_normalization                  │ (\u001b[38;5;45mNone\u001b[0m, \u001b[38;5;34m160\u001b[0m)                 │             \u001b[38;5;34m640\u001b[0m │\n",
       "│ (\u001b[38;5;33mBatchNormalization\u001b[0m)                 │                             │                 │\n",
       "├──────────────────────────────────────┼─────────────────────────────┼─────────────────┤\n",
       "│ dense_7 (\u001b[38;5;33mDense\u001b[0m)                      │ (\u001b[38;5;45mNone\u001b[0m, \u001b[38;5;34m64\u001b[0m)                  │          \u001b[38;5;34m10,304\u001b[0m │\n",
       "├──────────────────────────────────────┼─────────────────────────────┼─────────────────┤\n",
       "│ dropout_5 (\u001b[38;5;33mDropout\u001b[0m)                  │ (\u001b[38;5;45mNone\u001b[0m, \u001b[38;5;34m64\u001b[0m)                  │               \u001b[38;5;34m0\u001b[0m │\n",
       "├──────────────────────────────────────┼─────────────────────────────┼─────────────────┤\n",
       "│ dense_8 (\u001b[38;5;33mDense\u001b[0m)                      │ (\u001b[38;5;45mNone\u001b[0m, \u001b[38;5;34m1\u001b[0m)                   │              \u001b[38;5;34m65\u001b[0m │\n",
       "└──────────────────────────────────────┴─────────────────────────────┴─────────────────┘\n"
      ]
     },
     "metadata": {},
     "output_type": "display_data"
    },
    {
     "data": {
      "text/html": [
       "<pre style=\"white-space:pre;overflow-x:auto;line-height:normal;font-family:Menlo,'DejaVu Sans Mono',consolas,'Courier New',monospace\"><span style=\"font-weight: bold\"> Total params: </span><span style=\"color: #00af00; text-decoration-color: #00af00\">18,209</span> (71.13 KB)\n",
       "</pre>\n"
      ],
      "text/plain": [
       "\u001b[1m Total params: \u001b[0m\u001b[38;5;34m18,209\u001b[0m (71.13 KB)\n"
      ]
     },
     "metadata": {},
     "output_type": "display_data"
    },
    {
     "data": {
      "text/html": [
       "<pre style=\"white-space:pre;overflow-x:auto;line-height:normal;font-family:Menlo,'DejaVu Sans Mono',consolas,'Courier New',monospace\"><span style=\"font-weight: bold\"> Trainable params: </span><span style=\"color: #00af00; text-decoration-color: #00af00\">17,889</span> (69.88 KB)\n",
       "</pre>\n"
      ],
      "text/plain": [
       "\u001b[1m Trainable params: \u001b[0m\u001b[38;5;34m17,889\u001b[0m (69.88 KB)\n"
      ]
     },
     "metadata": {},
     "output_type": "display_data"
    },
    {
     "data": {
      "text/html": [
       "<pre style=\"white-space:pre;overflow-x:auto;line-height:normal;font-family:Menlo,'DejaVu Sans Mono',consolas,'Courier New',monospace\"><span style=\"font-weight: bold\"> Non-trainable params: </span><span style=\"color: #00af00; text-decoration-color: #00af00\">320</span> (1.25 KB)\n",
       "</pre>\n"
      ],
      "text/plain": [
       "\u001b[1m Non-trainable params: \u001b[0m\u001b[38;5;34m320\u001b[0m (1.25 KB)\n"
      ]
     },
     "metadata": {},
     "output_type": "display_data"
    }
   ],
   "source": [
    "model = make_model()\n",
    "model.summary()"
   ]
  },
  {
   "cell_type": "code",
   "execution_count": 18,
   "id": "213fe367-73af-48c2-a1d3-745ea64cf3af",
   "metadata": {},
   "outputs": [
    {
     "name": "stdout",
     "output_type": "stream",
     "text": [
      "\u001b[1m1/1\u001b[0m \u001b[32m━━━━━━━━━━━━━━━━━━━━\u001b[0m\u001b[37m\u001b[0m \u001b[1m0s\u001b[0m 77ms/step\n"
     ]
    }
   ],
   "source": [
    "prediction_inputs = [x[:10] for x in train_inputs]\n",
    "predictions = model.predict(prediction_inputs)"
   ]
  },
  {
   "cell_type": "code",
   "execution_count": 19,
   "id": "a255a3cf-6852-4b8b-8631-53fbbd399e2d",
   "metadata": {},
   "outputs": [
    {
     "name": "stdout",
     "output_type": "stream",
     "text": [
      "\u001b[1m2344/2344\u001b[0m \u001b[32m━━━━━━━━━━━━━━━━━━━━\u001b[0m\u001b[37m\u001b[0m \u001b[1m5s\u001b[0m 2ms/step - Brier score: 0.3679 - accuracy: 0.5002 - auc: 0.5513 - cross entropy: 1.0311 - fn: 1200348.1250 - fp: 0.0000e+00 - loss: 1.6177 - prc: 0.6053 - precision: 0.9996 - recall: 7.5375e-05 - tn: 1201866.2500 - tp: 88.2977\n",
      "Loss: 1.6177\n"
     ]
    }
   ],
   "source": [
    "results = model.evaluate(train_inputs, train_labels, batch_size=BATCH_SIZE, verbose=1)\n",
    "print(\"Loss: {:0.4f}\".format(results[0]))"
   ]
  },
  {
   "cell_type": "code",
   "execution_count": 20,
   "id": "8abb19c6-4aee-4e3c-9017-33efe51d72f2",
   "metadata": {},
   "outputs": [
    {
     "data": {
      "text/plain": [
       "array([0.])"
      ]
     },
     "execution_count": 20,
     "metadata": {},
     "output_type": "execute_result"
    }
   ],
   "source": [
    "initial_bias = np.log([pos/neg])\n",
    "initial_bias"
   ]
  },
  {
   "cell_type": "code",
   "execution_count": 21,
   "id": "6be6ac58-94fe-4784-9bec-dbe6e05d3be7",
   "metadata": {},
   "outputs": [
    {
     "name": "stdout",
     "output_type": "stream",
     "text": [
      "\u001b[1m1/1\u001b[0m \u001b[32m━━━━━━━━━━━━━━━━━━━━\u001b[0m\u001b[37m\u001b[0m \u001b[1m0s\u001b[0m 60ms/step\n"
     ]
    },
    {
     "data": {
      "text/plain": [
       "array([[0.51743907],\n",
       "       [0.38389724],\n",
       "       [0.36739102],\n",
       "       [0.40832925],\n",
       "       [0.5077448 ],\n",
       "       [0.30816898],\n",
       "       [0.28710648],\n",
       "       [0.44392815],\n",
       "       [0.39850712],\n",
       "       [0.5219166 ]], dtype=float32)"
      ]
     },
     "execution_count": 21,
     "metadata": {},
     "output_type": "execute_result"
    }
   ],
   "source": [
    "model = make_model(output_bias=initial_bias)\n",
    "model.predict(prediction_inputs)"
   ]
  },
  {
   "cell_type": "code",
   "execution_count": 22,
   "id": "57636de5-00b4-46a0-bfe1-cccd3b4976e0",
   "metadata": {},
   "outputs": [
    {
     "name": "stdout",
     "output_type": "stream",
     "text": [
      "\u001b[1m2344/2344\u001b[0m \u001b[32m━━━━━━━━━━━━━━━━━━━━\u001b[0m\u001b[37m\u001b[0m \u001b[1m5s\u001b[0m 2ms/step - Brier score: 0.3421 - accuracy: 0.5091 - auc: 0.5118 - cross entropy: 0.9575 - fn: 3479856.2500 - fp: 50198.0938 - loss: 1.5483 - prc: 0.5216 - precision: 0.7054 - recall: 0.0306 - tn: 3552598.2500 - tp: 119650.1484\n",
      "Loss: 1.5483\n"
     ]
    }
   ],
   "source": [
    "results = model.evaluate(train_inputs, train_labels, batch_size=BATCH_SIZE, verbose=1)\n",
    "print(\"Loss: {:0.4f}\".format(results[0]))"
   ]
  },
  {
   "cell_type": "code",
   "execution_count": 23,
   "id": "05c1c5b6-b8f8-4f06-be68-f0492b2c2a2e",
   "metadata": {},
   "outputs": [],
   "source": [
    "initial_weights = os.path.join(tempfile.mkdtemp(), 'initial.weights.h5')\n",
    "model.save_weights(initial_weights)"
   ]
  },
  {
   "cell_type": "code",
   "execution_count": 24,
   "id": "66716d18-5a3d-4f0c-88c0-5c8981fa513e",
   "metadata": {},
   "outputs": [
    {
     "name": "stdout",
     "output_type": "stream",
     "text": [
      "Epoch 1/20\n",
      "\u001b[1m2344/2344\u001b[0m \u001b[32m━━━━━━━━━━━━━━━━━━━━\u001b[0m\u001b[37m\u001b[0m \u001b[1m15s\u001b[0m 5ms/step - Brier score: 0.3062 - accuracy: 0.5348 - auc: 0.5262 - cross entropy: 0.8590 - fn: 5399656.0000 - fp: 168891.1875 - loss: 0.3792 - prc: 0.5671 - precision: 0.7703 - recall: 0.0972 - tn: 5834308.5000 - tp: 599447.3750 - val_Brier score: 0.2134 - val_accuracy: 0.6440 - val_auc: 0.8107 - val_cross entropy: 0.6146 - val_fn: 401594.0000 - val_fp: 25557.0000 - val_loss: 0.0608 - val_prc: 0.8172 - val_precision: 0.8864 - val_recall: 0.3317 - val_tn: 573513.0000 - val_tp: 199336.0000\n",
      "Epoch 2/20\n",
      "\u001b[1m2344/2344\u001b[0m \u001b[32m━━━━━━━━━━━━━━━━━━━━\u001b[0m\u001b[37m\u001b[0m \u001b[1m11s\u001b[0m 5ms/step - Brier score: 0.2146 - accuracy: 0.6354 - auc: 0.7914 - cross entropy: 0.6170 - fn: 813847.5000 - fp: 60970.6250 - loss: 0.0621 - prc: 0.7970 - precision: 0.8637 - recall: 0.3209 - tn: 1140951.2500 - tp: 386533.3125 - val_Brier score: 0.2102 - val_accuracy: 0.6550 - val_auc: 0.8113 - val_cross entropy: 0.6069 - val_fn: 384099.0000 - val_fp: 29897.0000 - val_loss: 0.0599 - val_prc: 0.8181 - val_precision: 0.8788 - val_recall: 0.3608 - val_tn: 569173.0000 - val_tp: 216831.0000\n",
      "Epoch 3/20\n",
      "\u001b[1m2344/2344\u001b[0m \u001b[32m━━━━━━━━━━━━━━━━━━━━\u001b[0m\u001b[37m\u001b[0m \u001b[1m11s\u001b[0m 5ms/step - Brier score: 0.2121 - accuracy: 0.6399 - auc: 0.7950 - cross entropy: 0.6106 - fn: 803924.5000 - fp: 60949.0156 - loss: 0.0611 - prc: 0.8018 - precision: 0.8669 - recall: 0.3299 - tn: 1140884.2500 - tp: 396544.9375 - val_Brier score: 0.2079 - val_accuracy: 0.6515 - val_auc: 0.8134 - val_cross entropy: 0.6008 - val_fn: 390135.0000 - val_fp: 28094.0000 - val_loss: 0.0591 - val_prc: 0.8201 - val_precision: 0.8824 - val_recall: 0.3508 - val_tn: 570976.0000 - val_tp: 210795.0000\n",
      "Epoch 4/20\n",
      "\u001b[1m2344/2344\u001b[0m \u001b[32m━━━━━━━━━━━━━━━━━━━━\u001b[0m\u001b[37m\u001b[0m \u001b[1m11s\u001b[0m 5ms/step - Brier score: 0.2110 - accuracy: 0.6412 - auc: 0.7964 - cross entropy: 0.6075 - fn: 801273.1875 - fp: 60339.5820 - loss: 0.0606 - prc: 0.8037 - precision: 0.8688 - recall: 0.3322 - tn: 1141362.1250 - tp: 399327.7500 - val_Brier score: 0.2090 - val_accuracy: 0.6385 - val_auc: 0.8133 - val_cross entropy: 0.6024 - val_fn: 414661.0000 - val_fp: 19190.0000 - val_loss: 0.0589 - val_prc: 0.8207 - val_precision: 0.9066 - val_recall: 0.3100 - val_tn: 579880.0000 - val_tp: 186269.0000\n",
      "Epoch 5/20\n",
      "\u001b[1m2344/2344\u001b[0m \u001b[32m━━━━━━━━━━━━━━━━━━━━\u001b[0m\u001b[37m\u001b[0m \u001b[1m10s\u001b[0m 4ms/step - Brier score: 0.2099 - accuracy: 0.6429 - auc: 0.7984 - cross entropy: 0.6045 - fn: 795829.0625 - fp: 60978.9023 - loss: 0.0602 - prc: 0.8056 - precision: 0.8687 - recall: 0.3362 - tn: 1140698.8750 - tp: 404795.8750 - val_Brier score: 0.2092 - val_accuracy: 0.6367 - val_auc: 0.8149 - val_cross entropy: 0.6023 - val_fn: 413014.0000 - val_fp: 22945.0000 - val_loss: 0.0587 - val_prc: 0.8215 - val_precision: 0.8912 - val_recall: 0.3127 - val_tn: 576125.0000 - val_tp: 187916.0000\n",
      "Epoch 6/20\n",
      "\u001b[1m2344/2344\u001b[0m \u001b[32m━━━━━━━━━━━━━━━━━━━━\u001b[0m\u001b[37m\u001b[0m \u001b[1m11s\u001b[0m 4ms/step - Brier score: 0.2095 - accuracy: 0.6442 - auc: 0.7985 - cross entropy: 0.6035 - fn: 792718.0625 - fp: 61451.5117 - loss: 0.0601 - prc: 0.8059 - precision: 0.8689 - recall: 0.3392 - tn: 1140215.5000 - tp: 407917.6250 - val_Brier score: 0.2108 - val_accuracy: 0.6223 - val_auc: 0.8068 - val_cross entropy: 0.6050 - val_fn: 439486.0000 - val_fp: 13807.0000 - val_loss: 0.0594 - val_prc: 0.8155 - val_precision: 0.9212 - val_recall: 0.2687 - val_tn: 585263.0000 - val_tp: 161444.0000\n",
      "Epoch 7/20\n",
      "\u001b[1m2344/2344\u001b[0m \u001b[32m━━━━━━━━━━━━━━━━━━━━\u001b[0m\u001b[37m\u001b[0m \u001b[1m11s\u001b[0m 5ms/step - Brier score: 0.2092 - accuracy: 0.6451 - auc: 0.7991 - cross entropy: 0.6024 - fn: 790618.4375 - fp: 61971.2500 - loss: 0.0599 - prc: 0.8066 - precision: 0.8687 - recall: 0.3417 - tn: 1139344.8750 - tp: 410368.0938 - val_Brier score: 0.2117 - val_accuracy: 0.6043 - val_auc: 0.8137 - val_cross entropy: 0.6064 - val_fn: 465266.0000 - val_fp: 9593.0000 - val_loss: 0.0590 - val_prc: 0.8206 - val_precision: 0.9340 - val_recall: 0.2258 - val_tn: 589477.0000 - val_tp: 135664.0000\n",
      "Epoch 8/20\n",
      "\u001b[1m2344/2344\u001b[0m \u001b[32m━━━━━━━━━━━━━━━━━━━━\u001b[0m\u001b[37m\u001b[0m \u001b[1m11s\u001b[0m 5ms/step - Brier score: 0.2089 - accuracy: 0.6442 - auc: 0.8001 - cross entropy: 0.6015 - fn: 793375.9375 - fp: 60927.2812 - loss: 0.0598 - prc: 0.8072 - precision: 0.8704 - recall: 0.3390 - tn: 1140286.6250 - tp: 407712.8750 - val_Brier score: 0.2101 - val_accuracy: 0.6169 - val_auc: 0.8149 - val_cross entropy: 0.6024 - val_fn: 447038.0000 - val_fp: 12720.0000 - val_loss: 0.0587 - val_prc: 0.8221 - val_precision: 0.9237 - val_recall: 0.2561 - val_tn: 586350.0000 - val_tp: 153892.0000\n",
      "Epoch 9/20\n",
      "\u001b[1m2344/2344\u001b[0m \u001b[32m━━━━━━━━━━━━━━━━━━━━\u001b[0m\u001b[37m\u001b[0m \u001b[1m11s\u001b[0m 4ms/step - Brier score: 0.2086 - accuracy: 0.6444 - auc: 0.8005 - cross entropy: 0.6007 - fn: 794164.2500 - fp: 60197.7500 - loss: 0.0597 - prc: 0.8076 - precision: 0.8711 - recall: 0.3389 - tn: 1141263.5000 - tp: 406677.2500 - val_Brier score: 0.2107 - val_accuracy: 0.6119 - val_auc: 0.8129 - val_cross entropy: 0.6038 - val_fn: 453952.0000 - val_fp: 11717.0000 - val_loss: 0.0589 - val_prc: 0.8195 - val_precision: 0.9262 - val_recall: 0.2446 - val_tn: 587353.0000 - val_tp: 146978.0000\n",
      "Epoch 10/20\n",
      "\u001b[1m2344/2344\u001b[0m \u001b[32m━━━━━━━━━━━━━━━━━━━━\u001b[0m\u001b[37m\u001b[0m \u001b[1m10s\u001b[0m 4ms/step - Brier score: 0.2087 - accuracy: 0.6442 - auc: 0.8000 - cross entropy: 0.6010 - fn: 794437.0625 - fp: 60532.2852 - loss: 0.0597 - prc: 0.8069 - precision: 0.8705 - recall: 0.3386 - tn: 1141064.8750 - tp: 406268.4688 - val_Brier score: 0.2108 - val_accuracy: 0.6104 - val_auc: 0.8133 - val_cross entropy: 0.6044 - val_fn: 454133.0000 - val_fp: 13352.0000 - val_loss: 0.0588 - val_prc: 0.8189 - val_precision: 0.9166 - val_recall: 0.2443 - val_tn: 585718.0000 - val_tp: 146797.0000\n",
      "Epoch 11/20\n",
      "\u001b[1m2344/2344\u001b[0m \u001b[32m━━━━━━━━━━━━━━━━━━━━\u001b[0m\u001b[37m\u001b[0m \u001b[1m11s\u001b[0m 4ms/step - Brier score: 0.2085 - accuracy: 0.6447 - auc: 0.8004 - cross entropy: 0.6002 - fn: 793214.8750 - fp: 60559.3398 - loss: 0.0596 - prc: 0.8073 - precision: 0.8707 - recall: 0.3392 - tn: 1141147.5000 - tp: 407381.0000 - val_Brier score: 0.2102 - val_accuracy: 0.6200 - val_auc: 0.8137 - val_cross entropy: 0.6032 - val_fn: 439468.0000 - val_fp: 16575.0000 - val_loss: 0.0588 - val_prc: 0.8212 - val_precision: 0.9069 - val_recall: 0.2687 - val_tn: 582495.0000 - val_tp: 161462.0000\n",
      "Epoch 12/20\n",
      "\u001b[1m2344/2344\u001b[0m \u001b[32m━━━━━━━━━━━━━━━━━━━━\u001b[0m\u001b[37m\u001b[0m \u001b[1m11s\u001b[0m 5ms/step - Brier score: 0.2084 - accuracy: 0.6446 - auc: 0.8006 - cross entropy: 0.6001 - fn: 793823.1250 - fp: 60699.6328 - loss: 0.0596 - prc: 0.8077 - precision: 0.8703 - recall: 0.3400 - tn: 1140299.8750 - tp: 407480.0312 - val_Brier score: 0.2146 - val_accuracy: 0.5750 - val_auc: 0.8148 - val_cross entropy: 0.6128 - val_fn: 505609.0000 - val_fp: 4431.0000 - val_loss: 0.0592 - val_prc: 0.8211 - val_precision: 0.9556 - val_recall: 0.1586 - val_tn: 594639.0000 - val_tp: 95321.0000\n",
      "Epoch 13/20\n",
      "\u001b[1m2344/2344\u001b[0m \u001b[32m━━━━━━━━━━━━━━━━━━━━\u001b[0m\u001b[37m\u001b[0m \u001b[1m11s\u001b[0m 5ms/step - Brier score: 0.2086 - accuracy: 0.6435 - auc: 0.7999 - cross entropy: 0.6004 - fn: 795691.0000 - fp: 60277.3906 - loss: 0.0597 - prc: 0.8070 - precision: 0.8705 - recall: 0.3374 - tn: 1141019.5000 - tp: 405314.8125 - val_Brier score: 0.2129 - val_accuracy: 0.6012 - val_auc: 0.8135 - val_cross entropy: 0.6088 - val_fn: 470233.0000 - val_fp: 8332.0000 - val_loss: 0.0590 - val_prc: 0.8209 - val_precision: 0.9401 - val_recall: 0.2175 - val_tn: 590738.0000 - val_tp: 130697.0000\n",
      "Epoch 14/20\n",
      "\u001b[1m2344/2344\u001b[0m \u001b[32m━━━━━━━━━━━━━━━━━━━━\u001b[0m\u001b[37m\u001b[0m \u001b[1m11s\u001b[0m 4ms/step - Brier score: 0.2089 - accuracy: 0.6437 - auc: 0.7981 - cross entropy: 0.6011 - fn: 795354.3750 - fp: 60288.6289 - loss: 0.0598 - prc: 0.8059 - precision: 0.8705 - recall: 0.3373 - tn: 1141481.1250 - tp: 405178.6250 - val_Brier score: 0.2112 - val_accuracy: 0.5918 - val_auc: 0.8141 - val_cross entropy: 0.6039 - val_fn: 482068.0000 - val_fp: 7731.0000 - val_loss: 0.0588 - val_prc: 0.8206 - val_precision: 0.9389 - val_recall: 0.1978 - val_tn: 591339.0000 - val_tp: 118862.0000\n",
      "Epoch 15/20\n",
      "\u001b[1m2344/2344\u001b[0m \u001b[32m━━━━━━━━━━━━━━━━━━━━\u001b[0m\u001b[37m\u001b[0m \u001b[1m11s\u001b[0m 4ms/step - Brier score: 0.2085 - accuracy: 0.6442 - auc: 0.7997 - cross entropy: 0.6002 - fn: 795846.1250 - fp: 59554.8164 - loss: 0.0596 - prc: 0.8070 - precision: 0.8716 - recall: 0.3377 - tn: 1142400.6250 - tp: 404501.1562 - val_Brier score: 0.2138 - val_accuracy: 0.5849 - val_auc: 0.8148 - val_cross entropy: 0.6097 - val_fn: 492989.0000 - val_fp: 5071.0000 - val_loss: 0.0590 - val_prc: 0.8218 - val_precision: 0.9551 - val_recall: 0.1796 - val_tn: 593999.0000 - val_tp: 107941.0000\n",
      "Epoch 16/20\n",
      "\u001b[1m2344/2344\u001b[0m \u001b[32m━━━━━━━━━━━━━━━━━━━━\u001b[0m\u001b[37m\u001b[0m \u001b[1m11s\u001b[0m 4ms/step - Brier score: 0.2085 - accuracy: 0.6437 - auc: 0.7998 - cross entropy: 0.6001 - fn: 796598.2500 - fp: 59700.1016 - loss: 0.0596 - prc: 0.8072 - precision: 0.8712 - recall: 0.3373 - tn: 1141458.2500 - tp: 404546.0000 - val_Brier score: 0.2108 - val_accuracy: 0.5820 - val_auc: 0.8138 - val_cross entropy: 0.6026 - val_fn: 494451.0000 - val_fp: 7152.0000 - val_loss: 0.0591 - val_prc: 0.8202 - val_precision: 0.9371 - val_recall: 0.1772 - val_tn: 591918.0000 - val_tp: 106479.0000\n",
      "Epoch 17/20\n",
      "\u001b[1m2344/2344\u001b[0m \u001b[32m━━━━━━━━━━━━━━━━━━━━\u001b[0m\u001b[37m\u001b[0m \u001b[1m11s\u001b[0m 4ms/step - Brier score: 0.2085 - accuracy: 0.6437 - auc: 0.7998 - cross entropy: 0.5999 - fn: 796012.3750 - fp: 59708.4141 - loss: 0.0596 - prc: 0.8070 - precision: 0.8715 - recall: 0.3365 - tn: 1141787.6250 - tp: 404794.2812 - val_Brier score: 0.2109 - val_accuracy: 0.6108 - val_auc: 0.8162 - val_cross entropy: 0.6036 - val_fn: 456950.0000 - val_fp: 10092.0000 - val_loss: 0.0585 - val_prc: 0.8232 - val_precision: 0.9345 - val_recall: 0.2396 - val_tn: 588978.0000 - val_tp: 143980.0000\n",
      "Epoch 18/20\n",
      "\u001b[1m2344/2344\u001b[0m \u001b[32m━━━━━━━━━━━━━━━━━━━━\u001b[0m\u001b[37m\u001b[0m \u001b[1m11s\u001b[0m 4ms/step - Brier score: 0.2084 - accuracy: 0.6442 - auc: 0.7999 - cross entropy: 0.5996 - fn: 795660.3750 - fp: 59503.7148 - loss: 0.0596 - prc: 0.8073 - precision: 0.8720 - recall: 0.3373 - tn: 1142178.1250 - tp: 404960.4062 - val_Brier score: 0.2140 - val_accuracy: 0.5791 - val_auc: 0.8124 - val_cross entropy: 0.6101 - val_fn: 500556.0000 - val_fp: 4555.0000 - val_loss: 0.0592 - val_prc: 0.8199 - val_precision: 0.9566 - val_recall: 0.1670 - val_tn: 594515.0000 - val_tp: 100374.0000\n",
      "Epoch 19/20\n",
      "\u001b[1m2344/2344\u001b[0m \u001b[32m━━━━━━━━━━━━━━━━━━━━\u001b[0m\u001b[37m\u001b[0m \u001b[1m11s\u001b[0m 5ms/step - Brier score: 0.2087 - accuracy: 0.6428 - auc: 0.7989 - cross entropy: 0.6002 - fn: 798149.6875 - fp: 58902.2969 - loss: 0.0597 - prc: 0.8067 - precision: 0.8722 - recall: 0.3348 - tn: 1142363.2500 - tp: 402887.4062 - val_Brier score: 0.2121 - val_accuracy: 0.6080 - val_auc: 0.8111 - val_cross entropy: 0.6068 - val_fn: 459399.0000 - val_fp: 10979.0000 - val_loss: 0.0591 - val_prc: 0.8175 - val_precision: 0.9280 - val_recall: 0.2355 - val_tn: 588091.0000 - val_tp: 141531.0000\n",
      "Epoch 20/20\n",
      "\u001b[1m2344/2344\u001b[0m \u001b[32m━━━━━━━━━━━━━━━━━━━━\u001b[0m\u001b[37m\u001b[0m \u001b[1m11s\u001b[0m 4ms/step - Brier score: 0.2086 - accuracy: 0.6436 - auc: 0.7990 - cross entropy: 0.6000 - fn: 797241.1875 - fp: 58904.8945 - loss: 0.0596 - prc: 0.8070 - precision: 0.8725 - recall: 0.3361 - tn: 1142649.0000 - tp: 403507.6250 - val_Brier score: 0.2144 - val_accuracy: 0.5601 - val_auc: 0.8106 - val_cross entropy: 0.6104 - val_fn: 526266.0000 - val_fp: 1594.0000 - val_loss: 0.0597 - val_prc: 0.8146 - val_precision: 0.9791 - val_recall: 0.1242 - val_tn: 597476.0000 - val_tp: 74664.0000\n"
     ]
    }
   ],
   "source": [
    "model = make_model()\n",
    "model.load_weights(initial_weights)\n",
    "model.layers[-1].bias.assign([0.0])\n",
    "zero_bias_history = model.fit(\n",
    "    train_inputs,\n",
    "    train_labels,\n",
    "    batch_size=BATCH_SIZE,\n",
    "    epochs=20,\n",
    "    validation_data=(val_inputs, val_labels),\n",
    "    verbose=1)"
   ]
  },
  {
   "cell_type": "code",
   "execution_count": 25,
   "id": "2cc8890d-9463-4af8-9e52-a76ca6a37566",
   "metadata": {
    "scrolled": true
   },
   "outputs": [
    {
     "name": "stdout",
     "output_type": "stream",
     "text": [
      "Epoch 1/20\n",
      "\u001b[1m2344/2344\u001b[0m \u001b[32m━━━━━━━━━━━━━━━━━━━━\u001b[0m\u001b[37m\u001b[0m \u001b[1m15s\u001b[0m 5ms/step - Brier score: 0.2194 - accuracy: 0.5954 - auc: 0.7792 - cross entropy: 0.6261 - fn: 1369047.6250 - fp: 70257.9531 - loss: 0.3782 - prc: 0.7795 - precision: 0.8598 - recall: 0.2287 - tn: 1730018.7500 - tp: 432978.3125 - val_Brier score: 0.2134 - val_accuracy: 0.6477 - val_auc: 0.8107 - val_cross entropy: 0.6152 - val_fn: 396600.0000 - val_fp: 26151.0000 - val_loss: 0.0609 - val_prc: 0.8175 - val_precision: 0.8865 - val_recall: 0.3400 - val_tn: 572919.0000 - val_tp: 204330.0000\n",
      "Epoch 2/20\n",
      "\u001b[1m2344/2344\u001b[0m \u001b[32m━━━━━━━━━━━━━━━━━━━━\u001b[0m\u001b[37m\u001b[0m \u001b[1m11s\u001b[0m 5ms/step - Brier score: 0.2147 - accuracy: 0.6365 - auc: 0.7917 - cross entropy: 0.6171 - fn: 810092.1250 - fp: 62108.9414 - loss: 0.0622 - prc: 0.7971 - precision: 0.8625 - recall: 0.3244 - tn: 1139596.6250 - tp: 390505.0000 - val_Brier score: 0.2091 - val_accuracy: 0.6511 - val_auc: 0.8122 - val_cross entropy: 0.6043 - val_fn: 388297.0000 - val_fp: 30358.0000 - val_loss: 0.0596 - val_prc: 0.8192 - val_precision: 0.8751 - val_recall: 0.3538 - val_tn: 568712.0000 - val_tp: 212633.0000\n",
      "Epoch 3/20\n",
      "\u001b[1m2344/2344\u001b[0m \u001b[32m━━━━━━━━━━━━━━━━━━━━\u001b[0m\u001b[37m\u001b[0m \u001b[1m11s\u001b[0m 5ms/step - Brier score: 0.2121 - accuracy: 0.6390 - auc: 0.7955 - cross entropy: 0.6104 - fn: 805416.2500 - fp: 60725.3477 - loss: 0.0611 - prc: 0.8018 - precision: 0.8664 - recall: 0.3280 - tn: 1140880.8750 - tp: 395280.1875 - val_Brier score: 0.2061 - val_accuracy: 0.6627 - val_auc: 0.8117 - val_cross entropy: 0.5969 - val_fn: 369649.0000 - val_fp: 35134.0000 - val_loss: 0.0591 - val_prc: 0.8191 - val_precision: 0.8681 - val_recall: 0.3849 - val_tn: 563936.0000 - val_tp: 231281.0000\n",
      "Epoch 4/20\n",
      "\u001b[1m2344/2344\u001b[0m \u001b[32m━━━━━━━━━━━━━━━━━━━━\u001b[0m\u001b[37m\u001b[0m \u001b[1m11s\u001b[0m 5ms/step - Brier score: 0.2107 - accuracy: 0.6413 - auc: 0.7974 - cross entropy: 0.6068 - fn: 801748.5625 - fp: 60274.1367 - loss: 0.0605 - prc: 0.8045 - precision: 0.8688 - recall: 0.3326 - tn: 1141390.6250 - tp: 398889.4375 - val_Brier score: 0.2068 - val_accuracy: 0.6584 - val_auc: 0.8126 - val_cross entropy: 0.5978 - val_fn: 378115.0000 - val_fp: 31786.0000 - val_loss: 0.0590 - val_prc: 0.8203 - val_precision: 0.8752 - val_recall: 0.3708 - val_tn: 567284.0000 - val_tp: 222815.0000\n",
      "Epoch 5/20\n",
      "\u001b[1m2344/2344\u001b[0m \u001b[32m━━━━━━━━━━━━━━━━━━━━\u001b[0m\u001b[37m\u001b[0m \u001b[1m11s\u001b[0m 5ms/step - Brier score: 0.2098 - accuracy: 0.6432 - auc: 0.7988 - cross entropy: 0.6043 - fn: 795238.5000 - fp: 61419.9531 - loss: 0.0602 - prc: 0.8059 - precision: 0.8684 - recall: 0.3374 - tn: 1139989.0000 - tp: 405655.2188 - val_Brier score: 0.2100 - val_accuracy: 0.6343 - val_auc: 0.8153 - val_cross entropy: 0.6039 - val_fn: 423903.0000 - val_fp: 14921.0000 - val_loss: 0.0587 - val_prc: 0.8227 - val_precision: 0.9223 - val_recall: 0.2946 - val_tn: 584149.0000 - val_tp: 177027.0000\n",
      "Epoch 6/20\n",
      "\u001b[1m2344/2344\u001b[0m \u001b[32m━━━━━━━━━━━━━━━━━━━━\u001b[0m\u001b[37m\u001b[0m \u001b[1m11s\u001b[0m 5ms/step - Brier score: 0.2093 - accuracy: 0.6446 - auc: 0.7995 - cross entropy: 0.6029 - fn: 793383.3125 - fp: 60965.1016 - loss: 0.0600 - prc: 0.8069 - precision: 0.8699 - recall: 0.3399 - tn: 1140461.8750 - tp: 407492.3125 - val_Brier score: 0.2122 - val_accuracy: 0.5994 - val_auc: 0.8155 - val_cross entropy: 0.6075 - val_fn: 472870.0000 - val_fp: 7831.0000 - val_loss: 0.0590 - val_prc: 0.8228 - val_precision: 0.9424 - val_recall: 0.2131 - val_tn: 591239.0000 - val_tp: 128060.0000\n",
      "Epoch 7/20\n",
      "\u001b[1m2344/2344\u001b[0m \u001b[32m━━━━━━━━━━━━━━━━━━━━\u001b[0m\u001b[37m\u001b[0m \u001b[1m11s\u001b[0m 5ms/step - Brier score: 0.2090 - accuracy: 0.6455 - auc: 0.7998 - cross entropy: 0.6019 - fn: 790007.5625 - fp: 61411.9219 - loss: 0.0599 - prc: 0.8072 - precision: 0.8700 - recall: 0.3417 - tn: 1140388.0000 - tp: 410495.2500 - val_Brier score: 0.2118 - val_accuracy: 0.5953 - val_auc: 0.8149 - val_cross entropy: 0.6068 - val_fn: 477104.0000 - val_fp: 8578.0000 - val_loss: 0.0590 - val_prc: 0.8223 - val_precision: 0.9352 - val_recall: 0.2061 - val_tn: 590492.0000 - val_tp: 123826.0000\n",
      "Epoch 8/20\n",
      "\u001b[1m2344/2344\u001b[0m \u001b[32m━━━━━━━━━━━━━━━━━━━━\u001b[0m\u001b[37m\u001b[0m \u001b[1m11s\u001b[0m 4ms/step - Brier score: 0.2088 - accuracy: 0.6459 - auc: 0.7998 - cross entropy: 0.6013 - fn: 787058.6875 - fp: 62984.3672 - loss: 0.0598 - prc: 0.8069 - precision: 0.8677 - recall: 0.3438 - tn: 1138933.0000 - tp: 413326.5938 - val_Brier score: 0.2119 - val_accuracy: 0.6172 - val_auc: 0.8145 - val_cross entropy: 0.6073 - val_fn: 446058.0000 - val_fp: 13295.0000 - val_loss: 0.0590 - val_prc: 0.8221 - val_precision: 0.9209 - val_recall: 0.2577 - val_tn: 585775.0000 - val_tp: 154872.0000\n",
      "Epoch 9/20\n",
      "\u001b[1m2344/2344\u001b[0m \u001b[32m━━━━━━━━━━━━━━━━━━━━\u001b[0m\u001b[37m\u001b[0m \u001b[1m11s\u001b[0m 4ms/step - Brier score: 0.2085 - accuracy: 0.6465 - auc: 0.8004 - cross entropy: 0.6006 - fn: 786964.1875 - fp: 62830.3125 - loss: 0.0597 - prc: 0.8075 - precision: 0.8683 - recall: 0.3449 - tn: 1138843.0000 - tp: 413665.2500 - val_Brier score: 0.2136 - val_accuracy: 0.5732 - val_auc: 0.8151 - val_cross entropy: 0.6096 - val_fn: 509773.0000 - val_fp: 2404.0000 - val_loss: 0.0593 - val_prc: 0.8221 - val_precision: 0.9743 - val_recall: 0.1517 - val_tn: 596666.0000 - val_tp: 91157.0000\n",
      "Epoch 10/20\n",
      "\u001b[1m2344/2344\u001b[0m \u001b[32m━━━━━━━━━━━━━━━━━━━━\u001b[0m\u001b[37m\u001b[0m \u001b[1m11s\u001b[0m 4ms/step - Brier score: 0.2086 - accuracy: 0.6450 - auc: 0.7999 - cross entropy: 0.6005 - fn: 791106.5625 - fp: 61124.9883 - loss: 0.0597 - prc: 0.8070 - precision: 0.8705 - recall: 0.3401 - tn: 1140284.3750 - tp: 409786.7188 - val_Brier score: 0.2142 - val_accuracy: 0.5841 - val_auc: 0.8117 - val_cross entropy: 0.6109 - val_fn: 493653.0000 - val_fp: 5380.0000 - val_loss: 0.0594 - val_prc: 0.8191 - val_precision: 0.9522 - val_recall: 0.1785 - val_tn: 593690.0000 - val_tp: 107277.0000\n",
      "Epoch 11/20\n",
      "\u001b[1m2344/2344\u001b[0m \u001b[32m━━━━━━━━━━━━━━━━━━━━\u001b[0m\u001b[37m\u001b[0m \u001b[1m11s\u001b[0m 4ms/step - Brier score: 0.2087 - accuracy: 0.6453 - auc: 0.7996 - cross entropy: 0.6006 - fn: 789922.3125 - fp: 61561.7812 - loss: 0.0598 - prc: 0.8069 - precision: 0.8694 - recall: 0.3417 - tn: 1139934.6250 - tp: 410883.9375 - val_Brier score: 0.2123 - val_accuracy: 0.5998 - val_auc: 0.8139 - val_cross entropy: 0.6072 - val_fn: 471591.0000 - val_fp: 8701.0000 - val_loss: 0.0589 - val_prc: 0.8202 - val_precision: 0.9370 - val_recall: 0.2152 - val_tn: 590369.0000 - val_tp: 129339.0000\n",
      "Epoch 12/20\n",
      "\u001b[1m2344/2344\u001b[0m \u001b[32m━━━━━━━━━━━━━━━━━━━━\u001b[0m\u001b[37m\u001b[0m \u001b[1m11s\u001b[0m 4ms/step - Brier score: 0.2083 - accuracy: 0.6457 - auc: 0.8004 - cross entropy: 0.5997 - fn: 790294.6875 - fp: 61182.3281 - loss: 0.0596 - prc: 0.8074 - precision: 0.8702 - recall: 0.3413 - tn: 1140899.5000 - tp: 409926.1562 - val_Brier score: 0.2130 - val_accuracy: 0.5913 - val_auc: 0.8140 - val_cross entropy: 0.6084 - val_fn: 483434.0000 - val_fp: 7009.0000 - val_loss: 0.0590 - val_prc: 0.8215 - val_precision: 0.9437 - val_recall: 0.1955 - val_tn: 592061.0000 - val_tp: 117496.0000\n",
      "Epoch 13/20\n",
      "\u001b[1m2344/2344\u001b[0m \u001b[32m━━━━━━━━━━━━━━━━━━━━\u001b[0m\u001b[37m\u001b[0m \u001b[1m11s\u001b[0m 4ms/step - Brier score: 0.2084 - accuracy: 0.6450 - auc: 0.8000 - cross entropy: 0.6000 - fn: 791229.2500 - fp: 61014.3438 - loss: 0.0597 - prc: 0.8073 - precision: 0.8702 - recall: 0.3404 - tn: 1140552.2500 - tp: 409506.8438 - val_Brier score: 0.2135 - val_accuracy: 0.5867 - val_auc: 0.8144 - val_cross entropy: 0.6094 - val_fn: 490310.0000 - val_fp: 5647.0000 - val_loss: 0.0590 - val_prc: 0.8225 - val_precision: 0.9514 - val_recall: 0.1841 - val_tn: 593423.0000 - val_tp: 110620.0000\n",
      "Epoch 14/20\n",
      "\u001b[1m2344/2344\u001b[0m \u001b[32m━━━━━━━━━━━━━━━━━━━━\u001b[0m\u001b[37m\u001b[0m \u001b[1m11s\u001b[0m 4ms/step - Brier score: 0.2084 - accuracy: 0.6458 - auc: 0.7999 - cross entropy: 0.5999 - fn: 789733.6875 - fp: 61479.4297 - loss: 0.0597 - prc: 0.8075 - precision: 0.8702 - recall: 0.3424 - tn: 1139848.5000 - tp: 411241.0938 - val_Brier score: 0.2141 - val_accuracy: 0.5783 - val_auc: 0.8120 - val_cross entropy: 0.6102 - val_fn: 501488.0000 - val_fp: 4553.0000 - val_loss: 0.0593 - val_prc: 0.8195 - val_precision: 0.9562 - val_recall: 0.1655 - val_tn: 594517.0000 - val_tp: 99442.0000\n",
      "Epoch 15/20\n",
      "\u001b[1m2344/2344\u001b[0m \u001b[32m━━━━━━━━━━━━━━━━━━━━\u001b[0m\u001b[37m\u001b[0m \u001b[1m11s\u001b[0m 5ms/step - Brier score: 0.2083 - accuracy: 0.6454 - auc: 0.8002 - cross entropy: 0.5995 - fn: 791074.9375 - fp: 61096.8008 - loss: 0.0596 - prc: 0.8076 - precision: 0.8702 - recall: 0.3413 - tn: 1140736.2500 - tp: 409394.6875 - val_Brier score: 0.2122 - val_accuracy: 0.5901 - val_auc: 0.8151 - val_cross entropy: 0.6062 - val_fn: 485135.0000 - val_fp: 6801.0000 - val_loss: 0.0589 - val_prc: 0.8223 - val_precision: 0.9445 - val_recall: 0.1927 - val_tn: 592269.0000 - val_tp: 115795.0000\n",
      "Epoch 16/20\n",
      "\u001b[1m2344/2344\u001b[0m \u001b[32m━━━━━━━━━━━━━━━━━━━━\u001b[0m\u001b[37m\u001b[0m \u001b[1m11s\u001b[0m 5ms/step - Brier score: 0.2083 - accuracy: 0.6454 - auc: 0.8001 - cross entropy: 0.5994 - fn: 791141.6875 - fp: 61030.8594 - loss: 0.0597 - prc: 0.8073 - precision: 0.8700 - recall: 0.3413 - tn: 1140702.6250 - tp: 409427.5625 - val_Brier score: 0.2108 - val_accuracy: 0.6055 - val_auc: 0.8149 - val_cross entropy: 0.6036 - val_fn: 462614.0000 - val_fp: 10828.0000 - val_loss: 0.0587 - val_prc: 0.8202 - val_precision: 0.9274 - val_recall: 0.2302 - val_tn: 588242.0000 - val_tp: 138316.0000\n",
      "Epoch 17/20\n",
      "\u001b[1m2344/2344\u001b[0m \u001b[32m━━━━━━━━━━━━━━━━━━━━\u001b[0m\u001b[37m\u001b[0m \u001b[1m12s\u001b[0m 5ms/step - Brier score: 0.2084 - accuracy: 0.6442 - auc: 0.7998 - cross entropy: 0.5997 - fn: 794090.8750 - fp: 60386.8008 - loss: 0.0597 - prc: 0.8071 - precision: 0.8707 - recall: 0.3384 - tn: 1141613.5000 - tp: 406211.5625 - val_Brier score: 0.2141 - val_accuracy: 0.5760 - val_auc: 0.8123 - val_cross entropy: 0.6105 - val_fn: 503037.0000 - val_fp: 5725.0000 - val_loss: 0.0594 - val_prc: 0.8188 - val_precision: 0.9447 - val_recall: 0.1629 - val_tn: 593345.0000 - val_tp: 97893.0000\n",
      "Epoch 18/20\n",
      "\u001b[1m2344/2344\u001b[0m \u001b[32m━━━━━━━━━━━━━━━━━━━━\u001b[0m\u001b[37m\u001b[0m \u001b[1m11s\u001b[0m 5ms/step - Brier score: 0.2084 - accuracy: 0.6435 - auc: 0.7998 - cross entropy: 0.5996 - fn: 795872.3750 - fp: 60044.8008 - loss: 0.0597 - prc: 0.8072 - precision: 0.8710 - recall: 0.3371 - tn: 1141358.6250 - tp: 405026.9062 - val_Brier score: 0.2129 - val_accuracy: 0.5941 - val_auc: 0.8144 - val_cross entropy: 0.6077 - val_fn: 479101.0000 - val_fp: 7982.0000 - val_loss: 0.0590 - val_prc: 0.8199 - val_precision: 0.9385 - val_recall: 0.2027 - val_tn: 591088.0000 - val_tp: 121829.0000\n",
      "Epoch 19/20\n",
      "\u001b[1m2344/2344\u001b[0m \u001b[32m━━━━━━━━━━━━━━━━━━━━\u001b[0m\u001b[37m\u001b[0m \u001b[1m12s\u001b[0m 5ms/step - Brier score: 0.2082 - accuracy: 0.6444 - auc: 0.8006 - cross entropy: 0.5990 - fn: 794002.6875 - fp: 60478.6719 - loss: 0.0596 - prc: 0.8076 - precision: 0.8705 - recall: 0.3389 - tn: 1141424.2500 - tp: 406397.1250 - val_Brier score: 0.2133 - val_accuracy: 0.5879 - val_auc: 0.8156 - val_cross entropy: 0.6096 - val_fn: 488174.0000 - val_fp: 6374.0000 - val_loss: 0.0591 - val_prc: 0.8225 - val_precision: 0.9465 - val_recall: 0.1876 - val_tn: 592696.0000 - val_tp: 112756.0000\n",
      "Epoch 20/20\n",
      "\u001b[1m2344/2344\u001b[0m \u001b[32m━━━━━━━━━━━━━━━━━━━━\u001b[0m\u001b[37m\u001b[0m \u001b[1m11s\u001b[0m 5ms/step - Brier score: 0.2083 - accuracy: 0.6442 - auc: 0.8001 - cross entropy: 0.5993 - fn: 795047.8750 - fp: 60020.3594 - loss: 0.0596 - prc: 0.8069 - precision: 0.8711 - recall: 0.3375 - tn: 1142100.8750 - tp: 405133.6250 - val_Brier score: 0.2109 - val_accuracy: 0.6120 - val_auc: 0.8125 - val_cross entropy: 0.6036 - val_fn: 454779.0000 - val_fp: 10816.0000 - val_loss: 0.0590 - val_prc: 0.8199 - val_precision: 0.9311 - val_recall: 0.2432 - val_tn: 588254.0000 - val_tp: 146151.0000\n"
     ]
    }
   ],
   "source": [
    "model = make_model()\n",
    "model.load_weights(initial_weights)\n",
    "careful_bias_history = model.fit(\n",
    "    train_inputs,\n",
    "    train_labels,\n",
    "    batch_size=BATCH_SIZE,\n",
    "    epochs=20,\n",
    "    validation_data=(val_inputs, val_labels),\n",
    "    verbose=1)"
   ]
  },
  {
   "cell_type": "code",
   "execution_count": 26,
   "id": "583ca289-e52e-4ea5-8564-a82f88a9d975",
   "metadata": {},
   "outputs": [
    {
     "data": {
      "image/png": "[encoded data removed]",
      "text/plain": [
       "<Figure size 1200x1000 with 1 Axes>"
      ]
     },
     "metadata": {},
     "output_type": "display_data"
    }
   ],
   "source": [
    "def plot_loss(history, label, n):\n",
    "  # Use a log scale on y-axis to show the wide range of values.\n",
    "  plt.semilogy(history.epoch, history.history['loss'],\n",
    "               color=colors[n], label='Train ' + label)\n",
    "  plt.semilogy(history.epoch, history.history['val_loss'],\n",
    "               color=colors[n], label='Val ' + label,\n",
    "               linestyle=\"--\")\n",
    "  plt.xlabel('Epoch')\n",
    "  plt.ylabel('Loss')\n",
    "  plt.legend()\n",
    "plot_loss(zero_bias_history, \"Zero Bias\", 0)\n",
    "plot_loss(careful_bias_history, \"Careful Bias\", 1)"
   ]
  },
  {
   "cell_type": "code",
   "execution_count": 27,
   "id": "4d3b017c-420e-4bea-a120-763e3d2d1bbe",
   "metadata": {
    "scrolled": true
   },
   "outputs": [
    {
     "name": "stdout",
     "output_type": "stream",
     "text": [
      "Epoch 1/100\n",
      "\u001b[1m2344/2344\u001b[0m \u001b[32m━━━━━━━━━━━━━━━━━━━━\u001b[0m\u001b[37m\u001b[0m \u001b[1m15s\u001b[0m 5ms/step - Brier score: 0.2179 - accuracy: 0.6162 - auc: 0.7806 - cross entropy: 0.6234 - fn: 1298101.0000 - fp: 79316.9609 - loss: 0.3817 - prc: 0.7834 - precision: 0.8641 - recall: 0.2765 - tn: 1720831.6250 - tp: 504053.1250 - val_Brier score: 0.2129 - val_accuracy: 0.6490 - val_auc: 0.8108 - val_cross entropy: 0.6137 - val_fn: 393945.0000 - val_fp: 27211.0000 - val_loss: 0.0609 - val_prc: 0.8171 - val_precision: 0.8838 - val_recall: 0.3444 - val_tn: 571859.0000 - val_tp: 206985.0000\n",
      "Epoch 2/100\n",
      "\u001b[1m2344/2344\u001b[0m \u001b[32m━━━━━━━━━━━━━━━━━━━━\u001b[0m\u001b[37m\u001b[0m \u001b[1m11s\u001b[0m 4ms/step - Brier score: 0.2144 - accuracy: 0.6344 - auc: 0.7927 - cross entropy: 0.6164 - fn: 817441.8125 - fp: 59259.6641 - loss: 0.0622 - prc: 0.7984 - precision: 0.8660 - recall: 0.3180 - tn: 1142149.6250 - tp: 383451.5625 - val_Brier score: 0.2079 - val_accuracy: 0.6620 - val_auc: 0.8123 - val_cross entropy: 0.6022 - val_fn: 370912.0000 - val_fp: 34720.0000 - val_loss: 0.0597 - val_prc: 0.8191 - val_precision: 0.8689 - val_recall: 0.3828 - val_tn: 564350.0000 - val_tp: 230018.0000\n",
      "Epoch 3/100\n",
      "\u001b[1m2344/2344\u001b[0m \u001b[32m━━━━━━━━━━━━━━━━━━━━\u001b[0m\u001b[37m\u001b[0m \u001b[1m11s\u001b[0m 4ms/step - Brier score: 0.2120 - accuracy: 0.6386 - auc: 0.7961 - cross entropy: 0.6102 - fn: 808842.7500 - fp: 59339.7305 - loss: 0.0611 - prc: 0.8021 - precision: 0.8679 - recall: 0.3264 - tn: 1142408.8750 - tp: 391711.3125 - val_Brier score: 0.2057 - val_accuracy: 0.6803 - val_auc: 0.8133 - val_cross entropy: 0.5970 - val_fn: 340523.0000 - val_fp: 43068.0000 - val_loss: 0.0592 - val_prc: 0.8194 - val_precision: 0.8581 - val_recall: 0.4333 - val_tn: 556002.0000 - val_tp: 260407.0000\n",
      "Epoch 4/100\n",
      "\u001b[1m2344/2344\u001b[0m \u001b[32m━━━━━━━━━━━━━━━━━━━━\u001b[0m\u001b[37m\u001b[0m \u001b[1m11s\u001b[0m 5ms/step - Brier score: 0.2108 - accuracy: 0.6403 - auc: 0.7976 - cross entropy: 0.6071 - fn: 803483.7500 - fp: 59471.2656 - loss: 0.0606 - prc: 0.8041 - precision: 0.8697 - recall: 0.3294 - tn: 1142340.1250 - tp: 397007.5625 - val_Brier score: 0.2076 - val_accuracy: 0.6427 - val_auc: 0.8141 - val_cross entropy: 0.5995 - val_fn: 405816.0000 - val_fp: 22925.0000 - val_loss: 0.0589 - val_prc: 0.8219 - val_precision: 0.8949 - val_recall: 0.3247 - val_tn: 576145.0000 - val_tp: 195114.0000\n",
      "Epoch 5/100\n",
      "\u001b[1m2344/2344\u001b[0m \u001b[32m━━━━━━━━━━━━━━━━━━━━\u001b[0m\u001b[37m\u001b[0m \u001b[1m11s\u001b[0m 5ms/step - Brier score: 0.2099 - accuracy: 0.6416 - auc: 0.7990 - cross entropy: 0.6047 - fn: 801220.6875 - fp: 59402.5430 - loss: 0.0603 - prc: 0.8060 - precision: 0.8705 - recall: 0.3325 - tn: 1142244.6250 - tp: 399434.8750 - val_Brier score: 0.2048 - val_accuracy: 0.6683 - val_auc: 0.8155 - val_cross entropy: 0.5943 - val_fn: 359785.0000 - val_fp: 38218.0000 - val_loss: 0.0586 - val_prc: 0.8222 - val_precision: 0.8632 - val_recall: 0.4013 - val_tn: 560852.0000 - val_tp: 241145.0000\n",
      "Epoch 6/100\n",
      "\u001b[1m2344/2344\u001b[0m \u001b[32m━━━━━━━━━━━━━━━━━━━━\u001b[0m\u001b[37m\u001b[0m \u001b[1m11s\u001b[0m 5ms/step - Brier score: 0.2093 - accuracy: 0.6432 - auc: 0.7998 - cross entropy: 0.6033 - fn: 795392.7500 - fp: 60371.2227 - loss: 0.0601 - prc: 0.8067 - precision: 0.8704 - recall: 0.3360 - tn: 1141297.6250 - tp: 405241.1250 - val_Brier score: 0.2064 - val_accuracy: 0.6556 - val_auc: 0.8142 - val_cross entropy: 0.5964 - val_fn: 382707.0000 - val_fp: 30553.0000 - val_loss: 0.0586 - val_prc: 0.8216 - val_precision: 0.8772 - val_recall: 0.3631 - val_tn: 568517.0000 - val_tp: 218223.0000\n",
      "Epoch 7/100\n",
      "\u001b[1m2344/2344\u001b[0m \u001b[32m━━━━━━━━━━━━━━━━━━━━\u001b[0m\u001b[37m\u001b[0m \u001b[1m11s\u001b[0m 5ms/step - Brier score: 0.2092 - accuracy: 0.6429 - auc: 0.7996 - cross entropy: 0.6027 - fn: 794948.8125 - fp: 61170.4102 - loss: 0.0600 - prc: 0.8063 - precision: 0.8689 - recall: 0.3363 - tn: 1140261.6250 - tp: 405921.8750 - val_Brier score: 0.2089 - val_accuracy: 0.6348 - val_auc: 0.8161 - val_cross entropy: 0.6013 - val_fn: 418494.0000 - val_fp: 19721.0000 - val_loss: 0.0585 - val_prc: 0.8238 - val_precision: 0.9024 - val_recall: 0.3036 - val_tn: 579349.0000 - val_tp: 182436.0000\n",
      "Epoch 8/100\n",
      "\u001b[1m2344/2344\u001b[0m \u001b[32m━━━━━━━━━━━━━━━━━━━━\u001b[0m\u001b[37m\u001b[0m \u001b[1m11s\u001b[0m 5ms/step - Brier score: 0.2088 - accuracy: 0.6451 - auc: 0.8003 - cross entropy: 0.6014 - fn: 790735.5625 - fp: 61596.5391 - loss: 0.0599 - prc: 0.8075 - precision: 0.8692 - recall: 0.3413 - tn: 1139730.2500 - tp: 410240.3750 - val_Brier score: 0.2114 - val_accuracy: 0.6033 - val_auc: 0.8161 - val_cross entropy: 0.6053 - val_fn: 468373.0000 - val_fp: 7616.0000 - val_loss: 0.0588 - val_prc: 0.8235 - val_precision: 0.9457 - val_recall: 0.2206 - val_tn: 591454.0000 - val_tp: 132557.0000\n",
      "Epoch 9/100\n",
      "\u001b[1m2344/2344\u001b[0m \u001b[32m━━━━━━━━━━━━━━━━━━━━\u001b[0m\u001b[37m\u001b[0m \u001b[1m11s\u001b[0m 5ms/step - Brier score: 0.2085 - accuracy: 0.6457 - auc: 0.8006 - cross entropy: 0.6006 - fn: 789934.9375 - fp: 61758.7969 - loss: 0.0598 - prc: 0.8076 - precision: 0.8697 - recall: 0.3422 - tn: 1139950.7500 - tp: 410658.1875 - val_Brier score: 0.2127 - val_accuracy: 0.6185 - val_auc: 0.8155 - val_cross entropy: 0.6094 - val_fn: 442657.0000 - val_fp: 15139.0000 - val_loss: 0.0592 - val_prc: 0.8220 - val_precision: 0.9127 - val_recall: 0.2634 - val_tn: 583931.0000 - val_tp: 158273.0000\n",
      "Epoch 10/100\n",
      "\u001b[1m2344/2344\u001b[0m \u001b[32m━━━━━━━━━━━━━━━━━━━━\u001b[0m\u001b[37m\u001b[0m \u001b[1m11s\u001b[0m 5ms/step - Brier score: 0.2085 - accuracy: 0.6457 - auc: 0.8006 - cross entropy: 0.6004 - fn: 790242.0625 - fp: 61841.7305 - loss: 0.0597 - prc: 0.8078 - precision: 0.8687 - recall: 0.3434 - tn: 1139435.3750 - tp: 410783.5000 - val_Brier score: 0.2121 - val_accuracy: 0.5964 - val_auc: 0.8118 - val_cross entropy: 0.6068 - val_fn: 477046.0000 - val_fp: 7304.0000 - val_loss: 0.0592 - val_prc: 0.8201 - val_precision: 0.9443 - val_recall: 0.2062 - val_tn: 591766.0000 - val_tp: 123884.0000\n",
      "Epoch 11/100\n",
      "\u001b[1m2344/2344\u001b[0m \u001b[32m━━━━━━━━━━━━━━━━━━━━\u001b[0m\u001b[37m\u001b[0m \u001b[1m11s\u001b[0m 5ms/step - Brier score: 0.2085 - accuracy: 0.6443 - auc: 0.8001 - cross entropy: 0.6003 - fn: 793400.6250 - fp: 60686.7148 - loss: 0.0597 - prc: 0.8073 - precision: 0.8705 - recall: 0.3384 - tn: 1141050.1250 - tp: 407165.1562 - val_Brier score: 0.2108 - val_accuracy: 0.5924 - val_auc: 0.8107 - val_cross entropy: 0.6028 - val_fn: 480009.0000 - val_fp: 9097.0000 - val_loss: 0.0591 - val_prc: 0.8165 - val_precision: 0.9300 - val_recall: 0.2012 - val_tn: 589973.0000 - val_tp: 120921.0000\n",
      "Epoch 12/100\n",
      "\u001b[1m2344/2344\u001b[0m \u001b[32m━━━━━━━━━━━━━━━━━━━━\u001b[0m\u001b[37m\u001b[0m \u001b[1m11s\u001b[0m 5ms/step - Brier score: 0.2082 - accuracy: 0.6441 - auc: 0.8011 - cross entropy: 0.5993 - fn: 795111.8750 - fp: 60044.0391 - loss: 0.0596 - prc: 0.8077 - precision: 0.8711 - recall: 0.3374 - tn: 1141832.2500 - tp: 405314.5625 - val_Brier score: 0.2126 - val_accuracy: 0.5800 - val_auc: 0.8135 - val_cross entropy: 0.6079 - val_fn: 499137.0000 - val_fp: 4906.0000 - val_loss: 0.0592 - val_prc: 0.8210 - val_precision: 0.9540 - val_recall: 0.1694 - val_tn: 594164.0000 - val_tp: 101793.0000\n",
      "Epoch 13/100\n",
      "\u001b[1m2344/2344\u001b[0m \u001b[32m━━━━━━━━━━━━━━━━━━━━\u001b[0m\u001b[37m\u001b[0m \u001b[1m11s\u001b[0m 5ms/step - Brier score: 0.2083 - accuracy: 0.6442 - auc: 0.8008 - cross entropy: 0.5996 - fn: 794357.1250 - fp: 60252.9023 - loss: 0.0597 - prc: 0.8077 - precision: 0.8710 - recall: 0.3386 - tn: 1141014.1250 - tp: 406678.5312 - val_Brier score: 0.2104 - val_accuracy: 0.6232 - val_auc: 0.8138 - val_cross entropy: 0.6030 - val_fn: 436186.0000 - val_fp: 15945.0000 - val_loss: 0.0587 - val_prc: 0.8210 - val_precision: 0.9118 - val_recall: 0.2741 - val_tn: 583125.0000 - val_tp: 164744.0000\n",
      "Epoch 14/100\n",
      "\u001b[1m2344/2344\u001b[0m \u001b[32m━━━━━━━━━━━━━━━━━━━━\u001b[0m\u001b[37m\u001b[0m \u001b[1m11s\u001b[0m 5ms/step - Brier score: 0.2083 - accuracy: 0.6440 - auc: 0.8004 - cross entropy: 0.5996 - fn: 795467.2500 - fp: 59915.8398 - loss: 0.0597 - prc: 0.8071 - precision: 0.8711 - recall: 0.3373 - tn: 1141814.5000 - tp: 405105.0312 - val_Brier score: 0.2120 - val_accuracy: 0.5984 - val_auc: 0.8124 - val_cross entropy: 0.6069 - val_fn: 473058.0000 - val_fp: 8864.0000 - val_loss: 0.0591 - val_prc: 0.8189 - val_precision: 0.9352 - val_recall: 0.2128 - val_tn: 590206.0000 - val_tp: 127872.0000\n",
      "Epoch 15/100\n",
      "\u001b[1m2344/2344\u001b[0m \u001b[32m━━━━━━━━━━━━━━━━━━━━\u001b[0m\u001b[37m\u001b[0m \u001b[1m11s\u001b[0m 5ms/step - Brier score: 0.2084 - accuracy: 0.6435 - auc: 0.8000 - cross entropy: 0.5998 - fn: 795892.9375 - fp: 60021.6914 - loss: 0.0597 - prc: 0.8070 - precision: 0.8708 - recall: 0.3367 - tn: 1141516.3750 - tp: 404871.7188 - val_Brier score: 0.2115 - val_accuracy: 0.5882 - val_auc: 0.8122 - val_cross entropy: 0.6052 - val_fn: 488426.0000 - val_fp: 5678.0000 - val_loss: 0.0589 - val_prc: 0.8203 - val_precision: 0.9520 - val_recall: 0.1872 - val_tn: 593392.0000 - val_tp: 112504.0000\n",
      "Epoch 16/100\n",
      "\u001b[1m2344/2344\u001b[0m \u001b[32m━━━━━━━━━━━━━━━━━━━━\u001b[0m\u001b[37m\u001b[0m \u001b[1m11s\u001b[0m 5ms/step - Brier score: 0.2081 - accuracy: 0.6439 - auc: 0.8006 - cross entropy: 0.5989 - fn: 796634.1875 - fp: 59382.0742 - loss: 0.0596 - prc: 0.8079 - precision: 0.8719 - recall: 0.3370 - tn: 1141863.2500 - tp: 404423.2188 - val_Brier score: 0.2124 - val_accuracy: 0.5975 - val_auc: 0.8148 - val_cross entropy: 0.6067 - val_fn: 475147.0000 - val_fp: 7856.0000 - val_loss: 0.0590 - val_prc: 0.8230 - val_precision: 0.9412 - val_recall: 0.2093 - val_tn: 591214.0000 - val_tp: 125783.0000\n",
      "Epoch 17/100\n",
      "\u001b[1m2344/2344\u001b[0m \u001b[32m━━━━━━━━━━━━━━━━━━━━\u001b[0m\u001b[37m\u001b[0m \u001b[1m11s\u001b[0m 5ms/step - Brier score: 0.2082 - accuracy: 0.6430 - auc: 0.8004 - cross entropy: 0.5992 - fn: 797095.0000 - fp: 59284.5938 - loss: 0.0596 - prc: 0.8075 - precision: 0.8720 - recall: 0.3347 - tn: 1142491.0000 - tp: 403432.0938 - val_Brier score: 0.2121 - val_accuracy: 0.5804 - val_auc: 0.8146 - val_cross entropy: 0.6063 - val_fn: 498786.0000 - val_fp: 4676.0000 - val_loss: 0.0590 - val_prc: 0.8220 - val_precision: 0.9562 - val_recall: 0.1700 - val_tn: 594394.0000 - val_tp: 102144.0000\n",
      "Epoch 17: early stopping\n",
      "Restoring model weights from the end of the best epoch: 7.\n"
     ]
    }
   ],
   "source": [
    "model = make_model()\n",
    "model.load_weights(initial_weights)\n",
    "baseline_history = model.fit(\n",
    "    train_inputs,\n",
    "    train_labels,\n",
    "    batch_size=BATCH_SIZE,\n",
    "    epochs=EPOCHS,\n",
    "    callbacks=[early_stopping()],\n",
    "    validation_data=(val_inputs, val_labels))"
   ]
  },
  {
   "cell_type": "code",
   "execution_count": 28,
   "id": "696b95e4-7dbb-492f-98dc-aa45fe73eabe",
   "metadata": {},
   "outputs": [
    {
     "data": {
      "image/png": "[encoded data removed]",
      "text/plain": [
       "<Figure size 1200x1000 with 4 Axes>"
      ]
     },
     "metadata": {},
     "output_type": "display_data"
    }
   ],
   "source": [
    "def plot_metrics(history):\n",
    "  metrics = ['loss', 'prc', 'precision', 'recall']\n",
    "  for n, metric in enumerate(metrics):\n",
    "    name = metric.replace(\"_\",\" \").capitalize()\n",
    "    plt.subplot(2,2,n+1)\n",
    "    plt.plot(history.epoch, history.history[metric], color=colors[0], label='Train')\n",
    "    plt.plot(history.epoch, history.history['val_'+metric],\n",
    "             color=colors[0], linestyle=\"--\", label='Val')\n",
    "    plt.xlabel('Epoch')\n",
    "    plt.ylabel(name)\n",
    "    if metric == 'loss':\n",
    "      plt.ylim([0, plt.ylim()[1]])\n",
    "    elif metric == 'auc':\n",
    "      plt.ylim([0.8,1])\n",
    "    else:\n",
    "      plt.ylim([0,1])\n",
    "\n",
    "    plt.legend()\n",
    "plot_metrics(baseline_history)"
   ]
  },
  {
   "cell_type": "code",
   "execution_count": 29,
   "id": "344e90b6-ceca-40ad-94dc-49d703cdb5a7",
   "metadata": {},
   "outputs": [
    {
     "name": "stdout",
     "output_type": "stream",
     "text": [
      "\u001b[1m2344/2344\u001b[0m \u001b[32m━━━━━━━━━━━━━━━━━━━━\u001b[0m\u001b[37m\u001b[0m \u001b[1m3s\u001b[0m 1ms/step\n",
      "\u001b[1m4883/4883\u001b[0m \u001b[32m━━━━━━━━━━━━━━━━━━━━\u001b[0m\u001b[37m\u001b[0m \u001b[1m6s\u001b[0m 1ms/step\n"
     ]
    }
   ],
   "source": [
    "train_predictions_baseline = model.predict(train_inputs, batch_size=BATCH_SIZE)\n",
    "test_predictions_baseline = model.predict(test_inputs, batch_size=BATCH_SIZE)"
   ]
  },
  {
   "cell_type": "code",
   "execution_count": 30,
   "id": "1459a896-a509-4d73-a70f-3290222435f3",
   "metadata": {},
   "outputs": [
    {
     "name": "stdout",
     "output_type": "stream",
     "text": [
      "loss :  0.0500299371778965\n",
      "compile_metrics :  0.4382362961769104\n",
      "\n",
      "Legitimate Transactions Detected (True Negatives):  9659874\n",
      "Legitimate Transactions Incorrectly Detected (False Positives):  335442\n",
      "Fraudulent Transactions Missed (False Negatives):  3022\n",
      "Fraudulent Transactions Detected (True Positives):  1662\n",
      "Total Fraudulent Transactions:  4684\n"
     ]
    },
    {
     "data": {
      "image/png": "[encoded data removed]",
      "text/plain": [
       "<Figure size 500x500 with 2 Axes>"
      ]
     },
     "metadata": {},
     "output_type": "display_data"
    }
   ],
   "source": [
    "def plot_cm(labels, predictions, threshold=0.5):\n",
    "  cm = confusion_matrix(labels, predictions > threshold)\n",
    "  plt.figure(figsize=(5,5))\n",
    "  sns.heatmap(cm, annot=True, fmt=\"d\")\n",
    "  plt.title('Confusion matrix @{:.2f}'.format(threshold))\n",
    "  plt.ylabel('Actual label')\n",
    "  plt.xlabel('Predicted label')\n",
    "\n",
    "  print('Legitimate Transactions Detected (True Negatives): ', cm[0][0])\n",
    "  print('Legitimate Transactions Incorrectly Detected (False Positives): ', cm[0][1])\n",
    "  print('Fraudulent Transactions Missed (False Negatives): ', cm[1][0])\n",
    "  print('Fraudulent Transactions Detected (True Positives): ', cm[1][1])\n",
    "  print('Total Fraudulent Transactions: ', np.sum(cm[1]))\n",
    "baseline_results = model.evaluate(test_inputs, test_labels,\n",
    "                                  batch_size=BATCH_SIZE, verbose=0)\n",
    "for name, value in zip(model.metrics_names, baseline_results):\n",
    "  print(name, ': ', value)\n",
    "print()\n",
    "\n",
    "plot_cm(test_labels, test_predictions_baseline)"
   ]
  },
  {
   "cell_type": "code",
   "execution_count": 31,
   "id": "25ec076a-8891-4170-a361-23f4aeac9421",
   "metadata": {},
   "outputs": [
    {
     "name": "stdout",
     "output_type": "stream",
     "text": [
      "3.9.2\n",
      "2.19.0\n"
     ]
    }
   ],
   "source": [
    "print(keras.__version__)\n",
    "print(tf.__version__)"
   ]
  },
  {
   "cell_type": "code",
   "execution_count": 32,
   "id": "383ed5ae-1497-46b7-8c28-efec6cfd1d31",
   "metadata": {},
   "outputs": [],
   "source": [
    "#model.save('neural_net_model.h5')"
   ]
  },
  {
   "cell_type": "code",
   "execution_count": 33,
   "id": "6283daa9-4706-4215-8903-c997cb82568a",
   "metadata": {},
   "outputs": [],
   "source": [
    "#pd_scaler = StandardScaler().fit(train_numerical)"
   ]
  },
  {
   "cell_type": "code",
   "execution_count": 34,
   "id": "707051d8-7d0c-46bf-8e05-b4ba0d81e2a5",
   "metadata": {},
   "outputs": [],
   "source": [
    "#dump(pd_scaler, 'standard_scaler.bin')"
   ]
  },
  {
   "cell_type": "code",
   "execution_count": 35,
   "id": "3180ff45-6e9c-4915-b7c6-421afada28ef",
   "metadata": {},
   "outputs": [
    {
     "data": {
      "text/html": [
       "<pre style=\"white-space:pre;overflow-x:auto;line-height:normal;font-family:Menlo,'DejaVu Sans Mono',consolas,'Courier New',monospace\"><span style=\"font-weight: bold\">Model: \"functional_5\"</span>\n",
       "</pre>\n"
      ],
      "text/plain": [
       "\u001b[1mModel: \"functional_5\"\u001b[0m\n"
      ]
     },
     "metadata": {},
     "output_type": "display_data"
    },
    {
     "data": {
      "text/html": [
       "<pre style=\"white-space:pre;overflow-x:auto;line-height:normal;font-family:Menlo,'DejaVu Sans Mono',consolas,'Courier New',monospace\">┏━━━━━━━━━━━━━━━━━━━━━━━━━━━━━━━━━━━━━━┳━━━━━━━━━━━━━━━━━━━━━━━━━━━━━┳━━━━━━━━━━━━━━━━━┓\n",
       "┃<span style=\"font-weight: bold\"> Layer (type)                         </span>┃<span style=\"font-weight: bold\"> Output Shape                </span>┃<span style=\"font-weight: bold\">         Param # </span>┃\n",
       "┡━━━━━━━━━━━━━━━━━━━━━━━━━━━━━━━━━━━━━━╇━━━━━━━━━━━━━━━━━━━━━━━━━━━━━╇━━━━━━━━━━━━━━━━━┩\n",
       "│ numerical_input (<span style=\"color: #0087ff; text-decoration-color: #0087ff\">InputLayer</span>)         │ (<span style=\"color: #00d7ff; text-decoration-color: #00d7ff\">None</span>, <span style=\"color: #00af00; text-decoration-color: #00af00\">44</span>)                  │               <span style=\"color: #00af00; text-decoration-color: #00af00\">0</span> │\n",
       "├──────────────────────────────────────┼─────────────────────────────┼─────────────────┤\n",
       "│ dense_18 (<span style=\"color: #0087ff; text-decoration-color: #0087ff\">Dense</span>)                     │ (<span style=\"color: #00d7ff; text-decoration-color: #00d7ff\">None</span>, <span style=\"color: #00af00; text-decoration-color: #00af00\">160</span>)                 │           <span style=\"color: #00af00; text-decoration-color: #00af00\">7,200</span> │\n",
       "├──────────────────────────────────────┼─────────────────────────────┼─────────────────┤\n",
       "│ dropout_12 (<span style=\"color: #0087ff; text-decoration-color: #0087ff\">Dropout</span>)                 │ (<span style=\"color: #00d7ff; text-decoration-color: #00d7ff\">None</span>, <span style=\"color: #00af00; text-decoration-color: #00af00\">160</span>)                 │               <span style=\"color: #00af00; text-decoration-color: #00af00\">0</span> │\n",
       "├──────────────────────────────────────┼─────────────────────────────┼─────────────────┤\n",
       "│ batch_normalization_4                │ (<span style=\"color: #00d7ff; text-decoration-color: #00d7ff\">None</span>, <span style=\"color: #00af00; text-decoration-color: #00af00\">160</span>)                 │             <span style=\"color: #00af00; text-decoration-color: #00af00\">640</span> │\n",
       "│ (<span style=\"color: #0087ff; text-decoration-color: #0087ff\">BatchNormalization</span>)                 │                             │                 │\n",
       "├──────────────────────────────────────┼─────────────────────────────┼─────────────────┤\n",
       "│ dense_19 (<span style=\"color: #0087ff; text-decoration-color: #0087ff\">Dense</span>)                     │ (<span style=\"color: #00d7ff; text-decoration-color: #00d7ff\">None</span>, <span style=\"color: #00af00; text-decoration-color: #00af00\">64</span>)                  │          <span style=\"color: #00af00; text-decoration-color: #00af00\">10,304</span> │\n",
       "├──────────────────────────────────────┼─────────────────────────────┼─────────────────┤\n",
       "│ dropout_13 (<span style=\"color: #0087ff; text-decoration-color: #0087ff\">Dropout</span>)                 │ (<span style=\"color: #00d7ff; text-decoration-color: #00d7ff\">None</span>, <span style=\"color: #00af00; text-decoration-color: #00af00\">64</span>)                  │               <span style=\"color: #00af00; text-decoration-color: #00af00\">0</span> │\n",
       "├──────────────────────────────────────┼─────────────────────────────┼─────────────────┤\n",
       "│ dense_20 (<span style=\"color: #0087ff; text-decoration-color: #0087ff\">Dense</span>)                     │ (<span style=\"color: #00d7ff; text-decoration-color: #00d7ff\">None</span>, <span style=\"color: #00af00; text-decoration-color: #00af00\">1</span>)                   │              <span style=\"color: #00af00; text-decoration-color: #00af00\">65</span> │\n",
       "└──────────────────────────────────────┴─────────────────────────────┴─────────────────┘\n",
       "</pre>\n"
      ],
      "text/plain": [
       "┏━━━━━━━━━━━━━━━━━━━━━━━━━━━━━━━━━━━━━━┳━━━━━━━━━━━━━━━━━━━━━━━━━━━━━┳━━━━━━━━━━━━━━━━━┓\n",
       "┃\u001b[1m \u001b[0m\u001b[1mLayer (type)                        \u001b[0m\u001b[1m \u001b[0m┃\u001b[1m \u001b[0m\u001b[1mOutput Shape               \u001b[0m\u001b[1m \u001b[0m┃\u001b[1m \u001b[0m\u001b[1m        Param #\u001b[0m\u001b[1m \u001b[0m┃\n",
       "┡━━━━━━━━━━━━━━━━━━━━━━━━━━━━━━━━━━━━━━╇━━━━━━━━━━━━━━━━━━━━━━━━━━━━━╇━━━━━━━━━━━━━━━━━┩\n",
       "│ numerical_input (\u001b[38;5;33mInputLayer\u001b[0m)         │ (\u001b[38;5;45mNone\u001b[0m, \u001b[38;5;34m44\u001b[0m)                  │               \u001b[38;5;34m0\u001b[0m │\n",
       "├──────────────────────────────────────┼─────────────────────────────┼─────────────────┤\n",
       "│ dense_18 (\u001b[38;5;33mDense\u001b[0m)                     │ (\u001b[38;5;45mNone\u001b[0m, \u001b[38;5;34m160\u001b[0m)                 │           \u001b[38;5;34m7,200\u001b[0m │\n",
       "├──────────────────────────────────────┼─────────────────────────────┼─────────────────┤\n",
       "│ dropout_12 (\u001b[38;5;33mDropout\u001b[0m)                 │ (\u001b[38;5;45mNone\u001b[0m, \u001b[38;5;34m160\u001b[0m)                 │               \u001b[38;5;34m0\u001b[0m │\n",
       "├──────────────────────────────────────┼─────────────────────────────┼─────────────────┤\n",
       "│ batch_normalization_4                │ (\u001b[38;5;45mNone\u001b[0m, \u001b[38;5;34m160\u001b[0m)                 │             \u001b[38;5;34m640\u001b[0m │\n",
       "│ (\u001b[38;5;33mBatchNormalization\u001b[0m)                 │                             │                 │\n",
       "├──────────────────────────────────────┼─────────────────────────────┼─────────────────┤\n",
       "│ dense_19 (\u001b[38;5;33mDense\u001b[0m)                     │ (\u001b[38;5;45mNone\u001b[0m, \u001b[38;5;34m64\u001b[0m)                  │          \u001b[38;5;34m10,304\u001b[0m │\n",
       "├──────────────────────────────────────┼─────────────────────────────┼─────────────────┤\n",
       "│ dropout_13 (\u001b[38;5;33mDropout\u001b[0m)                 │ (\u001b[38;5;45mNone\u001b[0m, \u001b[38;5;34m64\u001b[0m)                  │               \u001b[38;5;34m0\u001b[0m │\n",
       "├──────────────────────────────────────┼─────────────────────────────┼─────────────────┤\n",
       "│ dense_20 (\u001b[38;5;33mDense\u001b[0m)                     │ (\u001b[38;5;45mNone\u001b[0m, \u001b[38;5;34m1\u001b[0m)                   │              \u001b[38;5;34m65\u001b[0m │\n",
       "└──────────────────────────────────────┴─────────────────────────────┴─────────────────┘\n"
      ]
     },
     "metadata": {},
     "output_type": "display_data"
    },
    {
     "data": {
      "text/html": [
       "<pre style=\"white-space:pre;overflow-x:auto;line-height:normal;font-family:Menlo,'DejaVu Sans Mono',consolas,'Courier New',monospace\"><span style=\"font-weight: bold\"> Total params: </span><span style=\"color: #00af00; text-decoration-color: #00af00\">53,989</span> (210.90 KB)\n",
       "</pre>\n"
      ],
      "text/plain": [
       "\u001b[1m Total params: \u001b[0m\u001b[38;5;34m53,989\u001b[0m (210.90 KB)\n"
      ]
     },
     "metadata": {},
     "output_type": "display_data"
    },
    {
     "data": {
      "text/html": [
       "<pre style=\"white-space:pre;overflow-x:auto;line-height:normal;font-family:Menlo,'DejaVu Sans Mono',consolas,'Courier New',monospace\"><span style=\"font-weight: bold\"> Trainable params: </span><span style=\"color: #00af00; text-decoration-color: #00af00\">17,889</span> (69.88 KB)\n",
       "</pre>\n"
      ],
      "text/plain": [
       "\u001b[1m Trainable params: \u001b[0m\u001b[38;5;34m17,889\u001b[0m (69.88 KB)\n"
      ]
     },
     "metadata": {},
     "output_type": "display_data"
    },
    {
     "data": {
      "text/html": [
       "<pre style=\"white-space:pre;overflow-x:auto;line-height:normal;font-family:Menlo,'DejaVu Sans Mono',consolas,'Courier New',monospace\"><span style=\"font-weight: bold\"> Non-trainable params: </span><span style=\"color: #00af00; text-decoration-color: #00af00\">320</span> (1.25 KB)\n",
       "</pre>\n"
      ],
      "text/plain": [
       "\u001b[1m Non-trainable params: \u001b[0m\u001b[38;5;34m320\u001b[0m (1.25 KB)\n"
      ]
     },
     "metadata": {},
     "output_type": "display_data"
    },
    {
     "data": {
      "text/html": [
       "<pre style=\"white-space:pre;overflow-x:auto;line-height:normal;font-family:Menlo,'DejaVu Sans Mono',consolas,'Courier New',monospace\"><span style=\"font-weight: bold\"> Optimizer params: </span><span style=\"color: #00af00; text-decoration-color: #00af00\">35,780</span> (139.77 KB)\n",
       "</pre>\n"
      ],
      "text/plain": [
       "\u001b[1m Optimizer params: \u001b[0m\u001b[38;5;34m35,780\u001b[0m (139.77 KB)\n"
      ]
     },
     "metadata": {},
     "output_type": "display_data"
    },
    {
     "name": "stdout",
     "output_type": "stream",
     "text": [
      "None\n"
     ]
    }
   ],
   "source": [
    "print(model.summary())"
   ]
  },
  {
   "cell_type": "code",
   "execution_count": null,
   "id": "dfe764ec-8d77-498a-9f31-07d64d83de5d",
   "metadata": {},
   "outputs": [],
   "source": []
  }
 ],
 "metadata": {
  "kernelspec": {
   "display_name": "Python 3 (ipykernel)",
   "language": "python",
   "name": "python3"
  },
  "language_info": {
   "codemirror_mode": {
    "name": "ipython",
    "version": 3
   },
   "file_extension": ".py",
   "mimetype": "text/x-python",
   "name": "python",
   "nbconvert_exporter": "python",
   "pygments_lexer": "ipython3",
   "version": "3.9.18"
  }
 },
 "nbformat": 4,
 "nbformat_minor": 5
}
